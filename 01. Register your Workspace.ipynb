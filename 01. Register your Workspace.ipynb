{
 "cells": [
  {
   "cell_type": "markdown",
   "metadata": {},
   "source": [
    "# Set up a workspace\n",
    "Your workspace is your top-level resource for Azure Machine Learning, providing a centralized place to work with all the artifacts you create when you use Azure Machine Learning. The workspace keeps a history of all training runs, including logs, metrics, output, and a snapshot of your scripts. You use this information to determine which training run produces the best model.\n",
    "\n",
    "To learn more, click here:  https://docs.microsoft.com/en-us/azure/machine-learning/concept-workspace"
   ]
  },
  {
   "cell_type": "code",
   "execution_count": null,
   "metadata": {},
   "outputs": [],
   "source": [
    "# Type in the first version of the Azure ML SDK you are using after running this cell the first time\n",
    "import azureml.core\n",
    "\n",
    "print(\"This notebook was created using version <TYPE IN FIRST VERSION USED HERE> of the Azure ML SDK\")\n",
    "print(\"You are currently using version\", azureml.core.VERSION, \"of the Azure ML SDK\")"
   ]
  },
  {
   "cell_type": "code",
   "execution_count": null,
   "metadata": {},
   "outputs": [],
   "source": [
    "from azureml.core.workspace import Workspace\n",
    "from azureml.core.authentication import InteractiveLoginAuthentication\n",
    "from IPython.display import display, Markdown, JSON\n",
    "import pandas as pd\n",
    "import numpy as np\n",
    "import json\n",
    "import os"
   ]
  },
  {
   "cell_type": "code",
   "execution_count": null,
   "metadata": {},
   "outputs": [],
   "source": [
    "# Create a workspace from your configurations\n",
    "ws = Workspace.from_config()"
   ]
  },
  {
   "cell_type": "code",
   "execution_count": null,
   "metadata": {},
   "outputs": [],
   "source": [
    "# Create a nice table to see your workspace information\n",
    "wsoutput = {}\n",
    "wsoutput['SDK version'] = azureml.core.VERSION\n",
    "wsoutput['Subscription ID'] = ws.subscription_id\n",
    "wsoutput['Workspace'] = ws.name\n",
    "wsoutput['Resource Group'] = ws.resource_group\n",
    "wsoutput['Location'] = ws.location\n",
    "pd.set_option('display.max_colwidth', -1)\n",
    "wsoutputDf = pd.DataFrame(data = wsoutput, index = [''])\n",
    "display(wsoutputDf.T)\n",
    "\n",
    "# Print out all of the workspace details in JSON format\n",
    "wsdetails = ws.get_details()\n",
    "print(\"You can also get the contents as a Python Dict object\")\n",
    "print(json.dumps(wsdetails, indent=4, sort_keys=True))\n",
    "\n",
    "# write the details of the workspace to a configuration file to the notebook library\n",
    "# ws.write_config()\n",
    "\n"
   ]
  },
  {
   "cell_type": "markdown",
   "metadata": {},
   "source": [
    "## Most people can stop here and move on to the next notebook.  \n",
    "If you have multiple tenants or want to set up your workspace using a service principal for enhanced security, read and work through the cells below."
   ]
  },
  {
   "cell_type": "code",
   "execution_count": null,
   "metadata": {},
   "outputs": [],
   "source": [
    "# Alternatively, specify your workspace by filling in the lower case values between double quotes \"\"\n",
    "# You will have to complete an interactive sign-in\n",
    "\n",
    "subscription_id = os.getenv(\"SUBSCRIPTION_ID\", default=\"<my-subscription-id>\")\n",
    "resource_group = os.getenv(\"RESOURCE_GROUP\", default=\"<my-resource-group>\")\n",
    "workspace_name = os.getenv(\"WORKSPACE_NAME\", default=\"<my-workspace-name>\")\n",
    "workspace_region = os.getenv(\"WORKSPACE_REGION\", default=\"<my-amls-region>\")"
   ]
  },
  {
   "cell_type": "code",
   "execution_count": null,
   "metadata": {},
   "outputs": [],
   "source": [
    "# Create a workspace with the four fields\n",
    "try:\n",
    "    ws = Workspace(subscription_id = subscription_id, resource_group = resource_group, workspace_name = workspace_name)\n",
    "    print(\"Workspace configuration succeeded. Skip the workspace creation steps below\")\n",
    "except:\n",
    "    print(\"Workspace not accessible. Change your parameters or create a new workspace below\")"
   ]
  },
  {
   "cell_type": "code",
   "execution_count": null,
   "metadata": {},
   "outputs": [],
   "source": [
    "# If you work with multiple tenants, add in one additional parameter to specify your tenant id\n",
    "interactive_auth = InteractiveLoginAuthentication(tenant_id=\"<your-tenant-id>\")"
   ]
  },
  {
   "cell_type": "code",
   "execution_count": null,
   "metadata": {},
   "outputs": [],
   "source": [
    "# Create a workspace with the additional tenant field\n",
    "try:\n",
    "    ws = Workspace(auth = interactive_auth, subscription_id = subscription_id, resource_group = resource_group, \n",
    "                    workspace_name = workspace_name)\n",
    "    print(\"Workspace configuration succeeded. Skip the workspace creation steps below\")\n",
    "except:\n",
    "    print(\"Workspace not accessible. Change your parameters or create a new workspace below\")"
   ]
  },
  {
   "cell_type": "code",
   "execution_count": null,
   "metadata": {},
   "outputs": [],
   "source": [
    "# For greater security, you can also authenticate with a service principal\n",
    "sp = ServicePrincipalAuthentication(tenant_id=\"<your-tenant-id>\", # tenantID\n",
    "                                    service_principal_id=\"<your-client-id>\", # clientId\n",
    "                                    service_principal_password=\"<your-client-secret>\") # clientSecret"
   ]
  },
  {
   "cell_type": "code",
   "execution_count": null,
   "metadata": {},
   "outputs": [],
   "source": [
    "# Create a workspace with a service principal\n",
    "try:\n",
    "    ws = Workspace(auth = sp, subscription_id = subscription_id, resource_group = resource_group, \n",
    "                    workspace_name = workspace_name)\n",
    "    print(\"Workspace configuration succeeded. Skip the workspace creation steps below\")\n",
    "except:\n",
    "    print(\"Workspace not accessible. Change your parameters or create a new workspace below\")"
   ]
  },
  {
   "cell_type": "code",
   "execution_count": null,
   "metadata": {},
   "outputs": [],
   "source": [
    "# Create a nice table to see your workspace information\n",
    "wsoutput = {}\n",
    "wsoutput['SDK version'] = azureml.core.VERSION\n",
    "wsoutput['Subscription ID'] = ws.subscription_id\n",
    "wsoutput['Workspace'] = ws.name\n",
    "wsoutput['Resource Group'] = ws.resource_group\n",
    "wsoutput['Location'] = ws.location\n",
    "pd.set_option('display.max_colwidth', -1)\n",
    "wsoutputDf = pd.DataFrame(data = wsoutput, index = [''])\n",
    "\n",
    "# Print out all of the workspace details in JSON format\n",
    "wsdetails = ws.get_details()\n",
    "print(json.dumps(wsdetails, indent=4, sort_keys=True))\n",
    "\n",
    "# write the details of the workspace to a configuration file to the notebook library\n",
    "ws.write_config()\n",
    "\n",
    "wsoutputDf.T"
   ]
  },
  {
   "cell_type": "code",
   "execution_count": null,
   "metadata": {},
   "outputs": [],
   "source": []
  },
  {
   "cell_type": "markdown",
   "metadata": {},
   "source": [
    "<br><br><br><br><br>\n",
    "\n",
    "\n",
    "\n",
    "Copyright (c) Microsoft Corporation. All rights reserved.\n",
    "\n",
    "Licensed under the MIT License."
   ]
  }
 ],
 "metadata": {
  "kernelspec": {
   "display_name": "Python 3.6 - AzureML",
   "language": "python",
   "name": "python3-azureml"
  },
  "language_info": {
   "codemirror_mode": {
    "name": "ipython",
    "version": 3
   },
   "file_extension": ".py",
   "mimetype": "text/x-python",
   "name": "python",
   "nbconvert_exporter": "python",
   "pygments_lexer": "ipython3",
   "version": "3.6.9"
  }
 },
 "nbformat": 4,
 "nbformat_minor": 4
}

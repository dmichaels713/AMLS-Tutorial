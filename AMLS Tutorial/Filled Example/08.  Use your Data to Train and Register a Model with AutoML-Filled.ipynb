{
 "cells": [
  {
   "cell_type": "markdown",
   "metadata": {},
   "source": [
    "# Train a Model using AutoML\n",
    "Automated machine learning (AutoML) is the process of automating the time consuming, iterative tasks of machine learning model development. It allows data scientists, analysts, and developers to build ML models with high scale, efficiency, and productivity all while sustaining model quality. \n",
    "\n",
    "In short, AutoML is Microsoft's answer to automated Machine Learning.  \n",
    "\n",
    "AutoML takes in Azure Tabular Datasets or Pandas Dataframes for local runs, and Azure Tabular Datasets only for remote runs.  \n",
    "\n",
    "For a list of AutoML algorithms, please consult this page: https://docs.microsoft.com/en-us/azure/machine-learning/how-to-configure-auto-train"
   ]
  },
  {
   "cell_type": "code",
   "execution_count": 15,
   "metadata": {},
   "outputs": [],
   "source": [
    "# Load Azure Libaries\n",
    "from azureml.core import Datastore\n",
    "from azureml.core.dataset import Dataset\n",
    "from azureml.core.workspace import Workspace\n",
    "from azureml.core.authentication import InteractiveLoginAuthentication\n",
    "from azure.storage.blob import BlockBlobService\n",
    "from azureml.core.compute import ComputeTarget, AmlCompute\n",
    "from azureml.core.compute_target import ComputeTargetException\n",
    "from azureml.train.automl import AutoMLConfig\n",
    "from azureml.core.experiment import Experiment\n",
    "from azureml.core.environment import Environment\n",
    "from azureml.core.conda_dependencies import CondaDependencies\n",
    "from azureml.automl.core.featurization import FeaturizationConfig\n",
    "from azureml.explain.model._internal.explanation_client import ExplanationClient\n",
    "\n",
    "# Import other Libraries\n",
    "import pandas as pd\n",
    "import numpy as np\n",
    "import logging\n",
    "import json\n",
    "import os\n",
    "import math\n",
    "import seaborn as sns\n",
    "import matplotlib.pyplot as plt"
   ]
  },
  {
   "cell_type": "code",
   "execution_count": 2,
   "metadata": {},
   "outputs": [],
   "source": [
    "# Retrieve your workspace by name by filling in the lower case values between double quotes\n",
    "ws = Workspace.get(name=\"ancient-rivers-ml-workspace\",\n",
    "        subscription_id=\"47a7ec0c-37ad-428b-9114-b87ea1057632\",\n",
    "        resource_group=\"xeek-ancient-rivers\")"
   ]
  },
  {
   "cell_type": "code",
   "execution_count": 3,
   "metadata": {},
   "outputs": [],
   "source": [
    "# Retrieve your Datastore by name by filling in the lower case values between double quotes\n",
    "datastore_name = \"ancientrivers\"\n",
    "datastore = Datastore.get(ws, datastore_name)"
   ]
  },
  {
   "cell_type": "code",
   "execution_count": 7,
   "metadata": {},
   "outputs": [],
   "source": [
    "# Retrieve your Datasets by name by filling in the lower case values between double quotes\n",
    "dataset_name_test  = \"ancient-rivers-test-transformed\"\n",
    "dataset_name_train = \"ancient-rivers-train-transformed\"\n",
    "\n",
    "# Load Data in as Tabular Datasets\n",
    "testing_data  = Dataset.get_by_name(ws, dataset_name_test, version='latest')\n",
    "training_data = Dataset.get_by_name(ws, dataset_name_train, version='latest')"
   ]
  },
  {
   "cell_type": "code",
   "execution_count": 8,
   "metadata": {},
   "outputs": [],
   "source": [
    "# Convert your tabular dataset to pandas data frames\n",
    "testTransformedDF = testing_data.to_pandas_dataframe()\n",
    "trainTransformedDF = training_data.to_pandas_dataframe()"
   ]
  },
  {
   "cell_type": "code",
   "execution_count": 6,
   "metadata": {},
   "outputs": [],
   "source": [
    "# Retrieve your Compute Targets for Running AutoML\n",
    "cpu_compute_target = ComputeTarget(ws, 'cpu-cluster-h')\n",
    "# Retrieve a GPU cluster for Deep Learning Runs\n",
    "gpu_compute_target = ComputeTarget(ws, 'gpu-cluster')"
   ]
  },
  {
   "cell_type": "markdown",
   "metadata": {},
   "source": [
    "## Now, we're ready to configure our AutoML run\n",
    "### First, drop all columns not required in your machine learning model and assign your label column\n",
    "Use tabular datasets for remote run.  Tabular data is the only data that will work on remote runs."
   ]
  },
  {
   "cell_type": "code",
   "execution_count": 9,
   "metadata": {},
   "outputs": [],
   "source": [
    "# Drop any column that isn't appropriate to add into the model\n",
    "# For example, ID columns, redundant columns or columns with only one value should be dropped\n",
    "trainTab = training_data.drop_columns(['WellID'])"
   ]
  },
  {
   "cell_type": "code",
   "execution_count": 10,
   "metadata": {},
   "outputs": [],
   "source": [
    "# Next, assign the name of the column you are trying to predict to a variable.\n",
    "label = 'Label'"
   ]
  },
  {
   "cell_type": "markdown",
   "metadata": {},
   "source": [
    "### Next, configure your AutoML settings\n",
    "There are numerous configuration options within AutoML, task, primary metric, featurization and explainability being the most important.<br>\n",
    "Set <b>task</b> to either classification, regression or forecasting depending on the type of problem you are trying to solve.<br>\n",
    "Set <b>Primary Metric</b> to what you are trying to minimize or maximize, like accuracy for classification or rmse for regression problems.<br>\n",
    "<b>Featurization</b> set to Auto automatically one hot encodes categorical values, drops high cardinality categorical columns, imputes missing values across all types of columns, autogenerates numerous datetime features and also creates many features from text data.<br>\n",
    "Set <b>Model Explainability</b> to True to let you obtain a ranked list of features used to generate the AutoML model.\n",
    "\n",
    "For a list and explanation of configurations, click the link below: <br>\n",
    "https://docs.microsoft.com/en-us/python/api/azureml-train-automl-client/azureml.train.automl.automlconfig.automlconfig?view=azure-ml-py\n",
    "\n",
    "For a list of primary metrics based on problem type, click the following:\n",
    "https://docs.microsoft.com/en-us/azure/machine-learning/how-to-configure-auto-train"
   ]
  },
  {
   "cell_type": "code",
   "execution_count": 17,
   "metadata": {},
   "outputs": [],
   "source": [
    "automl_settings = {\n",
    "    \"experiment_timeout_minutes\": 20,  # Use this for testing to limit the autoML run\n",
    "    \"enable_early_stopping\" : True,    # Enable this to end the experiment once results stop improving.  Always use this.\n",
    "    #\"iteration_timeout_minutes\": 5,   # Enable this to limit how long each model takes to run\n",
    "    \"max_concurrent_iterations\": 4,    # Match this value to the max number of nodes in your cluster\n",
    "    #\"max_cores_per_iteration\": -1,     # Only used for DNN \n",
    "    \"n_cross_validations\": 3,         # This is the number of splits to use for cross validation\n",
    "    \"featurization\": 'auto',           # Set to auto to preprocess data\n",
    "    \"preprocess\": True,                # Set to auto to preprocess data\n",
    "    \"enable_dnn\": False,               # Enables Deep Neural Networks for appropriate problems\n",
    "    \"enable_tf\": False,                # Enables Tensorflow algorithms for appropriate problems\n",
    "    \"verbosity\": logging.INFO,         # Enables logging\n",
    "}\n",
    "\n",
    "automl_config = AutoMLConfig(task = 'classification',         # Classification, regression or forecasting\n",
    "                             primary_metric = 'accuracy',     # Select the metric to be optimized through autoML \n",
    "                             num_classes = 5,                    # Set the number of categories classification\n",
    "                             debug_log = 'automl_errors.log',    # Assigns the debug log name\n",
    "                             compute_target=cpu_compute_target,  # Assign the remote cluster.  If blank, runs locally\n",
    "                             experiment_exit_score = 0.99,       # Threshold to end autoML runs prematurely \n",
    "                             #blacklist_models = ['Prophet'],        # Use to blacklist models\n",
    "                             #whitelist_models = ['KNN'],        # Runs only your selected models\n",
    "                             enable_onnx_compatible_models=False,# Enables/disables enforcing onnx compatible models\n",
    "                             training_data = trainTab,           # Sets the training data\n",
    "                             label_column_name = label,          # Sets the column to predict in your training data\n",
    "                             model_explainability=True,          # Enables/disables model explainability\n",
    "                             enable_voting_ensemble=True,        # Enables/disables voting ensemble algorithm\n",
    "                             enable_stack_ensemble=True,         # Enables/disables stack ensemble algorithm\n",
    "                             **automl_settings\n",
    "                            )\n"
   ]
  },
  {
   "cell_type": "markdown",
   "metadata": {},
   "source": [
    "## Set up your Experiment\n",
    "An experiment is a grouping of many runs from a specified script. It always belongs to a workspace. When you submit a run, you provide an experiment name. Information for the run is stored under that experiment. If you submit a run and specify an experiment name that doesn't exist, a new experiment with that newly specified name is automatically created."
   ]
  },
  {
   "cell_type": "code",
   "execution_count": 20,
   "metadata": {},
   "outputs": [
    {
     "data": {
      "text/html": [
       "<div>\n",
       "<style scoped>\n",
       "    .dataframe tbody tr th:only-of-type {\n",
       "        vertical-align: middle;\n",
       "    }\n",
       "\n",
       "    .dataframe tbody tr th {\n",
       "        vertical-align: top;\n",
       "    }\n",
       "\n",
       "    .dataframe thead th {\n",
       "        text-align: right;\n",
       "    }\n",
       "</style>\n",
       "<table border=\"1\" class=\"dataframe\">\n",
       "  <thead>\n",
       "    <tr style=\"text-align: right;\">\n",
       "      <th></th>\n",
       "      <th></th>\n",
       "    </tr>\n",
       "  </thead>\n",
       "  <tbody>\n",
       "    <tr>\n",
       "      <th>SDK version</th>\n",
       "      <td>1.0.85</td>\n",
       "    </tr>\n",
       "    <tr>\n",
       "      <th>Subscription ID</th>\n",
       "      <td>47a7ec0c-37ad-428b-9114-b87ea1057632</td>\n",
       "    </tr>\n",
       "    <tr>\n",
       "      <th>Workspace</th>\n",
       "      <td>ancient-rivers-ml-workspace</td>\n",
       "    </tr>\n",
       "    <tr>\n",
       "      <th>Resource Group</th>\n",
       "      <td>xeek-ancient-rivers</td>\n",
       "    </tr>\n",
       "    <tr>\n",
       "      <th>Location</th>\n",
       "      <td>eastus</td>\n",
       "    </tr>\n",
       "    <tr>\n",
       "      <th>Experiment Name</th>\n",
       "      <td>ancient-rivers-automl</td>\n",
       "    </tr>\n",
       "  </tbody>\n",
       "</table>\n",
       "</div>"
      ],
      "text/plain": [
       "                                                     \n",
       "SDK version      1.0.85                              \n",
       "Subscription ID  47a7ec0c-37ad-428b-9114-b87ea1057632\n",
       "Workspace        ancient-rivers-ml-workspace         \n",
       "Resource Group   xeek-ancient-rivers                 \n",
       "Location         eastus                              \n",
       "Experiment Name  ancient-rivers-automl               "
      ]
     },
     "execution_count": 20,
     "metadata": {},
     "output_type": "execute_result"
    }
   ],
   "source": [
    "# choose a name for experiment appropriate to the project\n",
    "experiment_name = 'ancient-rivers-automl'\n",
    "\n",
    "experiment=Experiment(ws, experiment_name)\n",
    "\n",
    "# Output a nice table with all of the essential experiment information\n",
    "output = {}\n",
    "output['SDK version'] = azureml.core.VERSION\n",
    "output['Subscription ID'] = ws.subscription_id\n",
    "output['Workspace'] = ws.name\n",
    "output['Resource Group'] = ws.resource_group\n",
    "output['Location'] = ws.location\n",
    "output['Experiment Name'] = experiment.name\n",
    "pd.set_option('display.max_colwidth', -1)\n",
    "outputDf = pd.DataFrame(data = output, index = [''])\n",
    "outputDf.T"
   ]
  },
  {
   "cell_type": "code",
   "execution_count": 21,
   "metadata": {},
   "outputs": [
    {
     "name": "stdout",
     "output_type": "stream",
     "text": [
      "Running on remote compute: cpu-cluster-h\n",
      "Parent Run ID: AutoML_37a31f86-5bd2-4558-8994-e58a571abe91\n",
      "\n",
      "Current status: FeaturesGeneration. Generating features for the dataset.\n",
      "Current status: DatasetCrossValidationSplit. Generating individually featurized CV splits.\n",
      "Current status: ModelSelection. Beginning model selection.\n",
      "\n",
      "****************************************************************************************************\n",
      "ITERATION: The iteration being evaluated.\n",
      "PIPELINE: A summary description of the pipeline being evaluated.\n",
      "DURATION: Time taken for the current iteration.\n",
      "METRIC: The result of computing score on the fitted pipeline.\n",
      "BEST: The best observed score thus far.\n",
      "****************************************************************************************************\n",
      "\n",
      " ITERATION   PIPELINE                                       DURATION      METRIC      BEST\n",
      "         3   MinMaxScaler SGD                               0:08:00       0.6862    0.6862\n",
      "         2   StandardScalerWrapper ExtremeRandomTrees       0:08:34       0.6657    0.6862\n",
      "         1   MinMaxScaler SGD                               0:04:08       0.6774    0.6862\n",
      "         0   MaxAbsScaler LightGBM                          0:15:32       0.8804    0.8804\n",
      "         7   RobustScaler BernoulliNaiveBayes               0:03:45       0.5823    0.8804\n",
      "         6   StandardScalerWrapper SGD                      0:07:12       0.6657    0.8804\n",
      "         5   StandardScalerWrapper SGD                      0:04:13       0.6958    0.8804\n",
      "         4   RobustScaler ExtremeRandomTrees                0:07:56       0.6606    0.8804\n",
      "         9   MinMaxScaler ExtremeRandomTrees                0:04:24       0.6832    0.8804\n",
      "         8   StandardScalerWrapper RandomForest             0:07:32          nan    0.8804\n",
      "        11                                                  0:03:58          nan    0.8804\n",
      "        10   MinMaxScaler SGD                               0:04:10       0.6913    0.8804\n",
      "        13   StackEnsemble                                  0:16:04       0.8791    0.8804\n",
      "        12   VotingEnsemble                                 0:08:35       0.8804    0.8804\n"
     ]
    }
   ],
   "source": [
    "# Train your model\n",
    "remote_run = experiment.submit(automl_config, show_output = True)"
   ]
  },
  {
   "cell_type": "code",
   "execution_count": 22,
   "metadata": {},
   "outputs": [
    {
     "data": {
      "application/vnd.jupyter.widget-view+json": {
       "model_id": "70184c65fe3542d1a7935609545af5a5",
       "version_major": 2,
       "version_minor": 0
      },
      "text/plain": [
       "_AutoMLWidget(widget_settings={'childWidgetDisplay': 'popup', 'send_telemetry': False, 'log_level': 'INFO', 's…"
      ]
     },
     "metadata": {},
     "output_type": "display_data"
    },
    {
     "data": {
      "application/aml.mini.widget.v1": "{\"status\": \"Completed\", \"workbench_run_details_uri\": \"https://ml.azure.com/experiments/ancient-rivers-automl/runs/AutoML_37a31f86-5bd2-4558-8994-e58a571abe91?wsid=/subscriptions/47a7ec0c-37ad-428b-9114-b87ea1057632/resourcegroups/xeek-ancient-rivers/workspaces/ancient-rivers-ml-workspace\", \"run_id\": \"AutoML_37a31f86-5bd2-4558-8994-e58a571abe91\", \"run_properties\": {\"run_id\": \"AutoML_37a31f86-5bd2-4558-8994-e58a571abe91\", \"created_utc\": \"2020-03-01T03:33:57.512481Z\", \"properties\": {\"num_iterations\": \"1000\", \"training_type\": \"TrainFull\", \"acquisition_function\": \"EI\", \"primary_metric\": \"accuracy\", \"train_split\": \"0\", \"MaxTimeSeconds\": \"0\", \"acquisition_parameter\": \"0\", \"num_cross_validation\": \"3\", \"target\": \"cpu-cluster-h\", \"RawAMLSettingsString\": \"{'name': 'ancient-rivers-automl', 'path': None, 'subscription_id': '47a7ec0c-37ad-428b-9114-b87ea1057632', 'resource_group': 'xeek-ancient-rivers', 'workspace_name': 'ancient-rivers-ml-workspace', 'region': 'eastus', 'compute_target': 'cpu-cluster-h', 'spark_service': None, 'azure_service': None, 'iterations': 1000, 'primary_metric': 'accuracy', 'task_type': 'classification', 'data_script': None, 'validation_size': 0.0, 'n_cross_validations': 3, 'y_min': None, 'y_max': None, 'num_classes': 5, 'featurization': 'auto', 'lag_length': 0, 'is_timeseries': False, 'max_cores_per_iteration': 1, 'max_concurrent_iterations': 4, 'iteration_timeout_minutes': None, 'mem_in_mb': None, 'enforce_time_on_windows': False, 'experiment_timeout_minutes': 20, 'experiment_exit_score': 0.99, 'whitelist_models': None, 'blacklist_algos': ['XGBoostClassifier'], 'supported_models': ['KNN', 'XGBoostClassifier', 'TensorFlowDNN', 'LinearSVM', 'RandomForest', 'TensorFlowLinearClassifier', 'SVM', 'SGD', 'LogisticRegression', 'ExtremeRandomTrees', 'GradientBoosting', 'AveragedPerceptronClassifier', 'LinearSVMClassifier', 'DecisionTree', 'MultinomialNaiveBayes', 'LightGBM', 'BernoulliNaiveBayes'], 'auto_blacklist': True, 'blacklist_samples_reached': False, 'exclude_nan_labels': True, 'verbosity': 20, 'debug_log': 'azureml_automl.log', 'show_warnings': False, 'model_explainability': True, 'service_url': None, 'sdk_url': None, 'sdk_packages': None, 'enable_onnx_compatible_models': False, 'enable_split_onnx_featurizer_estimator_models': False, 'vm_type': 'STANDARD_F32S_V2', 'telemetry_verbosity': 'INFO', 'send_telemetry': True, 'enable_dnn': False, 'force_text_dnn': False, 'enable_feature_sweeping': True, 'enable_early_stopping': True, 'early_stopping_n_iters': 10, 'metrics': None, 'enable_ensembling': True, 'enable_stack_ensembling': True, 'ensemble_iterations': 15, 'enable_tf': False, 'enable_cache': True, 'enable_subsampling': None, 'subsample_seed': None, 'enable_nimbusml': False, 'enable_streaming': False, 'label_column_name': 'Label', 'weight_column_name': None, 'cost_mode': 0, 'metric_operation': 'maximize', 'preprocess': True}\", \"AMLSettingsJsonString\": \"{\\\"name\\\": \\\"ancient-rivers-automl\\\", \\\"path\\\": null, \\\"subscription_id\\\": \\\"47a7ec0c-37ad-428b-9114-b87ea1057632\\\", \\\"resource_group\\\": \\\"xeek-ancient-rivers\\\", \\\"workspace_name\\\": \\\"ancient-rivers-ml-workspace\\\", \\\"region\\\": \\\"eastus\\\", \\\"compute_target\\\": \\\"cpu-cluster-h\\\", \\\"spark_service\\\": null, \\\"azure_service\\\": null, \\\"iterations\\\": 1000, \\\"primary_metric\\\": \\\"accuracy\\\", \\\"task_type\\\": \\\"classification\\\", \\\"data_script\\\": null, \\\"validation_size\\\": 0.0, \\\"n_cross_validations\\\": 3, \\\"y_min\\\": null, \\\"y_max\\\": null, \\\"num_classes\\\": 5, \\\"featurization\\\": \\\"auto\\\", \\\"lag_length\\\": 0, \\\"is_timeseries\\\": false, \\\"max_cores_per_iteration\\\": 1, \\\"max_concurrent_iterations\\\": 4, \\\"iteration_timeout_minutes\\\": null, \\\"mem_in_mb\\\": null, \\\"enforce_time_on_windows\\\": false, \\\"experiment_timeout_minutes\\\": 20, \\\"experiment_exit_score\\\": 0.99, \\\"whitelist_models\\\": null, \\\"blacklist_algos\\\": [\\\"XGBoostClassifier\\\"], \\\"supported_models\\\": [\\\"KNN\\\", \\\"XGBoostClassifier\\\", \\\"TensorFlowDNN\\\", \\\"LinearSVM\\\", \\\"RandomForest\\\", \\\"TensorFlowLinearClassifier\\\", \\\"SVM\\\", \\\"SGD\\\", \\\"LogisticRegression\\\", \\\"ExtremeRandomTrees\\\", \\\"GradientBoosting\\\", \\\"AveragedPerceptronClassifier\\\", \\\"LinearSVMClassifier\\\", \\\"DecisionTree\\\", \\\"MultinomialNaiveBayes\\\", \\\"LightGBM\\\", \\\"BernoulliNaiveBayes\\\"], \\\"auto_blacklist\\\": true, \\\"blacklist_samples_reached\\\": false, \\\"exclude_nan_labels\\\": true, \\\"verbosity\\\": 20, \\\"debug_log\\\": \\\"azureml_automl.log\\\", \\\"show_warnings\\\": false, \\\"model_explainability\\\": true, \\\"service_url\\\": null, \\\"sdk_url\\\": null, \\\"sdk_packages\\\": null, \\\"enable_onnx_compatible_models\\\": false, \\\"enable_split_onnx_featurizer_estimator_models\\\": false, \\\"vm_type\\\": \\\"STANDARD_F32S_V2\\\", \\\"telemetry_verbosity\\\": \\\"INFO\\\", \\\"send_telemetry\\\": true, \\\"enable_dnn\\\": false, \\\"force_text_dnn\\\": false, \\\"enable_feature_sweeping\\\": true, \\\"enable_early_stopping\\\": true, \\\"early_stopping_n_iters\\\": 10, \\\"metrics\\\": null, \\\"enable_ensembling\\\": true, \\\"enable_stack_ensembling\\\": true, \\\"ensemble_iterations\\\": 15, \\\"enable_tf\\\": false, \\\"enable_cache\\\": true, \\\"enable_subsampling\\\": null, \\\"subsample_seed\\\": null, \\\"enable_nimbusml\\\": false, \\\"enable_streaming\\\": false, \\\"label_column_name\\\": \\\"Label\\\", \\\"weight_column_name\\\": null, \\\"cost_mode\\\": 0, \\\"metric_operation\\\": \\\"maximize\\\", \\\"preprocess\\\": true}\", \"DataPrepJsonString\": \"{\\\\\\\"training_data\\\\\\\": \\\\\\\"{\\\\\\\\\\\\\\\"blocks\\\\\\\\\\\\\\\": [{\\\\\\\\\\\\\\\"id\\\\\\\\\\\\\\\": \\\\\\\\\\\\\\\"23e96b97-a4a1-4d34-8459-55b982594bc9\\\\\\\\\\\\\\\", \\\\\\\\\\\\\\\"type\\\\\\\\\\\\\\\": \\\\\\\\\\\\\\\"Microsoft.DPrep.GetDatastoreFilesBlock\\\\\\\\\\\\\\\", \\\\\\\\\\\\\\\"arguments\\\\\\\\\\\\\\\": {\\\\\\\\\\\\\\\"datastores\\\\\\\\\\\\\\\": [{\\\\\\\\\\\\\\\"datastoreName\\\\\\\\\\\\\\\": \\\\\\\\\\\\\\\"ancientrivers\\\\\\\\\\\\\\\", \\\\\\\\\\\\\\\"path\\\\\\\\\\\\\\\": \\\\\\\\\\\\\\\"dev/transformed/train/ancient-rivers-train\\\\\\\\\\\\\\\", \\\\\\\\\\\\\\\"resourceGroup\\\\\\\\\\\\\\\": \\\\\\\\\\\\\\\"xeek-ancient-rivers\\\\\\\\\\\\\\\", \\\\\\\\\\\\\\\"subscription\\\\\\\\\\\\\\\": \\\\\\\\\\\\\\\"47a7ec0c-37ad-428b-9114-b87ea1057632\\\\\\\\\\\\\\\", \\\\\\\\\\\\\\\"workspaceName\\\\\\\\\\\\\\\": \\\\\\\\\\\\\\\"ancient-rivers-ml-workspace\\\\\\\\\\\\\\\"}]}, \\\\\\\\\\\\\\\"localData\\\\\\\\\\\\\\\": {}, \\\\\\\\\\\\\\\"isEnabled\\\\\\\\\\\\\\\": true, \\\\\\\\\\\\\\\"name\\\\\\\\\\\\\\\": null, \\\\\\\\\\\\\\\"annotation\\\\\\\\\\\\\\\": null}, {\\\\\\\\\\\\\\\"id\\\\\\\\\\\\\\\": \\\\\\\\\\\\\\\"69e52335-81fa-4c59-80ee-f534d5d8872d\\\\\\\\\\\\\\\", \\\\\\\\\\\\\\\"type\\\\\\\\\\\\\\\": \\\\\\\\\\\\\\\"Microsoft.DPrep.ParseDelimitedBlock\\\\\\\\\\\\\\\", \\\\\\\\\\\\\\\"arguments\\\\\\\\\\\\\\\": {\\\\\\\\\\\\\\\"columnHeadersMode\\\\\\\\\\\\\\\": 3, \\\\\\\\\\\\\\\"fileEncoding\\\\\\\\\\\\\\\": 0, \\\\\\\\\\\\\\\"handleQuotedLineBreaks\\\\\\\\\\\\\\\": false, \\\\\\\\\\\\\\\"preview\\\\\\\\\\\\\\\": false, \\\\\\\\\\\\\\\"separator\\\\\\\\\\\\\\\": \\\\\\\\\\\\\\\",\\\\\\\\\\\\\\\", \\\\\\\\\\\\\\\"skipRows\\\\\\\\\\\\\\\": 0, \\\\\\\\\\\\\\\"skipRowsMode\\\\\\\\\\\\\\\": 0}, \\\\\\\\\\\\\\\"localData\\\\\\\\\\\\\\\": {}, \\\\\\\\\\\\\\\"isEnabled\\\\\\\\\\\\\\\": true, \\\\\\\\\\\\\\\"name\\\\\\\\\\\\\\\": null, \\\\\\\\\\\\\\\"annotation\\\\\\\\\\\\\\\": null}, {\\\\\\\\\\\\\\\"id\\\\\\\\\\\\\\\": \\\\\\\\\\\\\\\"ff897e04-1838-4432-98b8-56e2c28cb8ef\\\\\\\\\\\\\\\", \\\\\\\\\\\\\\\"type\\\\\\\\\\\\\\\": \\\\\\\\\\\\\\\"Microsoft.DPrep.DropColumnsBlock\\\\\\\\\\\\\\\", \\\\\\\\\\\\\\\"arguments\\\\\\\\\\\\\\\": {\\\\\\\\\\\\\\\"columns\\\\\\\\\\\\\\\": {\\\\\\\\\\\\\\\"type\\\\\\\\\\\\\\\": 0, \\\\\\\\\\\\\\\"details\\\\\\\\\\\\\\\": {\\\\\\\\\\\\\\\"selectedColumns\\\\\\\\\\\\\\\": [\\\\\\\\\\\\\\\"Path\\\\\\\\\\\\\\\"]}}}, \\\\\\\\\\\\\\\"localData\\\\\\\\\\\\\\\": {}, \\\\\\\\\\\\\\\"isEnabled\\\\\\\\\\\\\\\": true, \\\\\\\\\\\\\\\"name\\\\\\\\\\\\\\\": null, \\\\\\\\\\\\\\\"annotation\\\\\\\\\\\\\\\": null}, {\\\\\\\\\\\\\\\"id\\\\\\\\\\\\\\\": \\\\\\\\\\\\\\\"6149ea49-db08-44fc-a31d-6241470c808a\\\\\\\\\\\\\\\", \\\\\\\\\\\\\\\"type\\\\\\\\\\\\\\\": \\\\\\\\\\\\\\\"Microsoft.DPrep.SetColumnTypesBlock\\\\\\\\\\\\\\\", \\\\\\\\\\\\\\\"arguments\\\\\\\\\\\\\\\": {\\\\\\\\\\\\\\\"columnConversion\\\\\\\\\\\\\\\": [{\\\\\\\\\\\\\\\"column\\\\\\\\\\\\\\\": {\\\\\\\\\\\\\\\"type\\\\\\\\\\\\\\\": 2, \\\\\\\\\\\\\\\"details\\\\\\\\\\\\\\\": {\\\\\\\\\\\\\\\"selectedColumn\\\\\\\\\\\\\\\": \\\\\\\\\\\\\\\"RowID\\\\\\\\\\\\\\\"}}, \\\\\\\\\\\\\\\"typeProperty\\\\\\\\\\\\\\\": 2}, {\\\\\\\\\\\\\\\"column\\\\\\\\\\\\\\\": {\\\\\\\\\\\\\\\"type\\\\\\\\\\\\\\\": 2, \\\\\\\\\\\\\\\"details\\\\\\\\\\\\\\\": {\\\\\\\\\\\\\\\"selectedColumn\\\\\\\\\\\\\\\": \\\\\\\\\\\\\\\"WellID\\\\\\\\\\\\\\\"}}, \\\\\\\\\\\\\\\"typeProperty\\\\\\\\\\\\\\\": 2}, {\\\\\\\\\\\\\\\"column\\\\\\\\\\\\\\\": {\\\\\\\\\\\\\\\"type\\\\\\\\\\\\\\\": 2, \\\\\\\\\\\\\\\"details\\\\\\\\\\\\\\\": {\\\\\\\\\\\\\\\"selectedColumn\\\\\\\\\\\\\\\": \\\\\\\\\\\\\\\"GR\\\\\\\\\\\\\\\"}}, \\\\\\\\\\\\\\\"typeProperty\\\\\\\\\\\\\\\": 3}, {\\\\\\\\\\\\\\\"column\\\\\\\\\\\\\\\": {\\\\\\\\\\\\\\\"type\\\\\\\\\\\\\\\": 2, \\\\\\\\\\\\\\\"details\\\\\\\\\\\\\\\": {\\\\\\\\\\\\\\\"selectedColumn\\\\\\\\\\\\\\\": \\\\\\\\\\\\\\\"Label\\\\\\\\\\\\\\\"}}, \\\\\\\\\\\\\\\"typeProperty\\\\\\\\\\\\\\\": 0}, {\\\\\\\\\\\\\\\"column\\\\\\\\\\\\\\\": {\\\\\\\\\\\\\\\"type\\\\\\\\\\\\\\\": 2, \\\\\\\\\\\\\\\"details\\\\\\\\\\\\\\\": {\\\\\\\\\\\\\\\"selectedColumn\\\\\\\\\\\\\\\": \\\\\\\\\\\\\\\"smoothedGR\\\\\\\\\\\\\\\"}}, \\\\\\\\\\\\\\\"typeProperty\\\\\\\\\\\\\\\": 3}, {\\\\\\\\\\\\\\\"column\\\\\\\\\\\\\\\": {\\\\\\\\\\\\\\\"type\\\\\\\\\\\\\\\": 2, \\\\\\\\\\\\\\\"details\\\\\\\\\\\\\\\": {\\\\\\\\\\\\\\\"selectedColumn\\\\\\\\\\\\\\\": \\\\\\\\\\\\\\\"FirstRow\\\\\\\\\\\\\\\"}}, \\\\\\\\\\\\\\\"typeProperty\\\\\\\\\\\\\\\": 0}, {\\\\\\\\\\\\\\\"column\\\\\\\\\\\\\\\": {\\\\\\\\\\\\\\\"type\\\\\\\\\\\\\\\": 2, \\\\\\\\\\\\\\\"details\\\\\\\\\\\\\\\": {\\\\\\\\\\\\\\\"selectedColumn\\\\\\\\\\\\\\\": \\\\\\\\\\\\\\\"smoothedGR1\\\\\\\\\\\\\\\"}}, \\\\\\\\\\\\\\\"typeProperty\\\\\\\\\\\\\\\": 3}, {\\\\\\\\\\\\\\\"column\\\\\\\\\\\\\\\": {\\\\\\\\\\\\\\\"type\\\\\\\\\\\\\\\": 2, \\\\\\\\\\\\\\\"details\\\\\\\\\\\\\\\": {\\\\\\\\\\\\\\\"selectedColumn\\\\\\\\\\\\\\\": \\\\\\\\\\\\\\\"smoothedGR-1\\\\\\\\\\\\\\\"}}, \\\\\\\\\\\\\\\"typeProperty\\\\\\\\\\\\\\\": 3}, {\\\\\\\\\\\\\\\"column\\\\\\\\\\\\\\\": {\\\\\\\\\\\\\\\"type\\\\\\\\\\\\\\\": 2, \\\\\\\\\\\\\\\"details\\\\\\\\\\\\\\\": {\\\\\\\\\\\\\\\"selectedColumn\\\\\\\\\\\\\\\": \\\\\\\\\\\\\\\"smoothedGR2\\\\\\\\\\\\\\\"}}, \\\\\\\\\\\\\\\"typeProperty\\\\\\\\\\\\\\\": 3}, {\\\\\\\\\\\\\\\"column\\\\\\\\\\\\\\\": {\\\\\\\\\\\\\\\"type\\\\\\\\\\\\\\\": 2, \\\\\\\\\\\\\\\"details\\\\\\\\\\\\\\\": {\\\\\\\\\\\\\\\"selectedColumn\\\\\\\\\\\\\\\": \\\\\\\\\\\\\\\"smoothedGR-2\\\\\\\\\\\\\\\"}}, \\\\\\\\\\\\\\\"typeProperty\\\\\\\\\\\\\\\": 3}, {\\\\\\\\\\\\\\\"column\\\\\\\\\\\\\\\": {\\\\\\\\\\\\\\\"type\\\\\\\\\\\\\\\": 2, \\\\\\\\\\\\\\\"details\\\\\\\\\\\\\\\": {\\\\\\\\\\\\\\\"selectedColumn\\\\\\\\\\\\\\\": \\\\\\\\\\\\\\\"smoothedGR3\\\\\\\\\\\\\\\"}}, \\\\\\\\\\\\\\\"typeProperty\\\\\\\\\\\\\\\": 3}, {\\\\\\\\\\\\\\\"column\\\\\\\\\\\\\\\": {\\\\\\\\\\\\\\\"type\\\\\\\\\\\\\\\": 2, \\\\\\\\\\\\\\\"details\\\\\\\\\\\\\\\": {\\\\\\\\\\\\\\\"selectedColumn\\\\\\\\\\\\\\\": \\\\\\\\\\\\\\\"smoothedGR-3\\\\\\\\\\\\\\\"}}, \\\\\\\\\\\\\\\"typeProperty\\\\\\\\\\\\\\\": 3}, {\\\\\\\\\\\\\\\"column\\\\\\\\\\\\\\\": {\\\\\\\\\\\\\\\"type\\\\\\\\\\\\\\\": 2, \\\\\\\\\\\\\\\"details\\\\\\\\\\\\\\\": {\\\\\\\\\\\\\\\"selectedColumn\\\\\\\\\\\\\\\": \\\\\\\\\\\\\\\"smoothedGR4\\\\\\\\\\\\\\\"}}, \\\\\\\\\\\\\\\"typeProperty\\\\\\\\\\\\\\\": 3}, {\\\\\\\\\\\\\\\"column\\\\\\\\\\\\\\\": {\\\\\\\\\\\\\\\"type\\\\\\\\\\\\\\\": 2, \\\\\\\\\\\\\\\"details\\\\\\\\\\\\\\\": {\\\\\\\\\\\\\\\"selectedColumn\\\\\\\\\\\\\\\": \\\\\\\\\\\\\\\"smoothedGR-4\\\\\\\\\\\\\\\"}}, \\\\\\\\\\\\\\\"typeProperty\\\\\\\\\\\\\\\": 3}, {\\\\\\\\\\\\\\\"column\\\\\\\\\\\\\\\": {\\\\\\\\\\\\\\\"type\\\\\\\\\\\\\\\": 2, \\\\\\\\\\\\\\\"details\\\\\\\\\\\\\\\": {\\\\\\\\\\\\\\\"selectedColumn\\\\\\\\\\\\\\\": \\\\\\\\\\\\\\\"smoothedDifference\\\\\\\\\\\\\\\"}}, \\\\\\\\\\\\\\\"typeProperty\\\\\\\\\\\\\\\": 3}, {\\\\\\\\\\\\\\\"column\\\\\\\\\\\\\\\": {\\\\\\\\\\\\\\\"type\\\\\\\\\\\\\\\": 2, \\\\\\\\\\\\\\\"details\\\\\\\\\\\\\\\": {\\\\\\\\\\\\\\\"selectedColumn\\\\\\\\\\\\\\\": \\\\\\\\\\\\\\\"smoothedDifference_SMA\\\\\\\\\\\\\\\"}}, \\\\\\\\\\\\\\\"typeProperty\\\\\\\\\\\\\\\": 3}, {\\\\\\\\\\\\\\\"column\\\\\\\\\\\\\\\": {\\\\\\\\\\\\\\\"type\\\\\\\\\\\\\\\": 2, \\\\\\\\\\\\\\\"details\\\\\\\\\\\\\\\": {\\\\\\\\\\\\\\\"selectedColumn\\\\\\\\\\\\\\\": \\\\\\\\\\\\\\\"smoothedDifference_SMA_4\\\\\\\\\\\\\\\"}}, \\\\\\\\\\\\\\\"typeProperty\\\\\\\\\\\\\\\": 3}, {\\\\\\\\\\\\\\\"column\\\\\\\\\\\\\\\": {\\\\\\\\\\\\\\\"type\\\\\\\\\\\\\\\": 2, \\\\\\\\\\\\\\\"details\\\\\\\\\\\\\\\": {\\\\\\\\\\\\\\\"selectedColumn\\\\\\\\\\\\\\\": \\\\\\\\\\\\\\\"smoothedDifference_SMA_8\\\\\\\\\\\\\\\"}}, \\\\\\\\\\\\\\\"typeProperty\\\\\\\\\\\\\\\": 3}, {\\\\\\\\\\\\\\\"column\\\\\\\\\\\\\\\": {\\\\\\\\\\\\\\\"type\\\\\\\\\\\\\\\": 2, \\\\\\\\\\\\\\\"details\\\\\\\\\\\\\\\": {\\\\\\\\\\\\\\\"selectedColumn\\\\\\\\\\\\\\\": \\\\\\\\\\\\\\\"smoothedDifference_SMA_12\\\\\\\\\\\\\\\"}}, \\\\\\\\\\\\\\\"typeProperty\\\\\\\\\\\\\\\": 3}, {\\\\\\\\\\\\\\\"column\\\\\\\\\\\\\\\": {\\\\\\\\\\\\\\\"type\\\\\\\\\\\\\\\": 2, \\\\\\\\\\\\\\\"details\\\\\\\\\\\\\\\": {\\\\\\\\\\\\\\\"selectedColumn\\\\\\\\\\\\\\\": \\\\\\\\\\\\\\\"smoothedDifference_SMA_16\\\\\\\\\\\\\\\"}}, \\\\\\\\\\\\\\\"typeProperty\\\\\\\\\\\\\\\": 3}, {\\\\\\\\\\\\\\\"column\\\\\\\\\\\\\\\": {\\\\\\\\\\\\\\\"type\\\\\\\\\\\\\\\": 2, \\\\\\\\\\\\\\\"details\\\\\\\\\\\\\\\": {\\\\\\\\\\\\\\\"selectedColumn\\\\\\\\\\\\\\\": \\\\\\\\\\\\\\\"smoothedDifference_SMA_20\\\\\\\\\\\\\\\"}}, \\\\\\\\\\\\\\\"typeProperty\\\\\\\\\\\\\\\": 3}, {\\\\\\\\\\\\\\\"column\\\\\\\\\\\\\\\": {\\\\\\\\\\\\\\\"type\\\\\\\\\\\\\\\": 2, \\\\\\\\\\\\\\\"details\\\\\\\\\\\\\\\": {\\\\\\\\\\\\\\\"selectedColumn\\\\\\\\\\\\\\\": \\\\\\\\\\\\\\\"smoothedDifference_SMA_24\\\\\\\\\\\\\\\"}}, \\\\\\\\\\\\\\\"typeProperty\\\\\\\\\\\\\\\": 3}, {\\\\\\\\\\\\\\\"column\\\\\\\\\\\\\\\": {\\\\\\\\\\\\\\\"type\\\\\\\\\\\\\\\": 2, \\\\\\\\\\\\\\\"details\\\\\\\\\\\\\\\": {\\\\\\\\\\\\\\\"selectedColumn\\\\\\\\\\\\\\\": \\\\\\\\\\\\\\\"smoothedDifference_SMA_28\\\\\\\\\\\\\\\"}}, \\\\\\\\\\\\\\\"typeProperty\\\\\\\\\\\\\\\": 3}, {\\\\\\\\\\\\\\\"column\\\\\\\\\\\\\\\": {\\\\\\\\\\\\\\\"type\\\\\\\\\\\\\\\": 2, \\\\\\\\\\\\\\\"details\\\\\\\\\\\\\\\": {\\\\\\\\\\\\\\\"selectedColumn\\\\\\\\\\\\\\\": \\\\\\\\\\\\\\\"smoothedDifference_SMA_32\\\\\\\\\\\\\\\"}}, \\\\\\\\\\\\\\\"typeProperty\\\\\\\\\\\\\\\": 3}, {\\\\\\\\\\\\\\\"column\\\\\\\\\\\\\\\": {\\\\\\\\\\\\\\\"type\\\\\\\\\\\\\\\": 2, \\\\\\\\\\\\\\\"details\\\\\\\\\\\\\\\": {\\\\\\\\\\\\\\\"selectedColumn\\\\\\\\\\\\\\\": \\\\\\\\\\\\\\\"smoothedDifference_SMA_36\\\\\\\\\\\\\\\"}}, \\\\\\\\\\\\\\\"typeProperty\\\\\\\\\\\\\\\": 3}, {\\\\\\\\\\\\\\\"column\\\\\\\\\\\\\\\": {\\\\\\\\\\\\\\\"type\\\\\\\\\\\\\\\": 2, \\\\\\\\\\\\\\\"details\\\\\\\\\\\\\\\": {\\\\\\\\\\\\\\\"selectedColumn\\\\\\\\\\\\\\\": \\\\\\\\\\\\\\\"smoothedDifference_SMA_40\\\\\\\\\\\\\\\"}}, \\\\\\\\\\\\\\\"typeProperty\\\\\\\\\\\\\\\": 3}, {\\\\\\\\\\\\\\\"column\\\\\\\\\\\\\\\": {\\\\\\\\\\\\\\\"type\\\\\\\\\\\\\\\": 2, \\\\\\\\\\\\\\\"details\\\\\\\\\\\\\\\": {\\\\\\\\\\\\\\\"selectedColumn\\\\\\\\\\\\\\\": \\\\\\\\\\\\\\\"smoothedDifference_SMA_FORWARD_4\\\\\\\\\\\\\\\"}}, \\\\\\\\\\\\\\\"typeProperty\\\\\\\\\\\\\\\": 3}, {\\\\\\\\\\\\\\\"column\\\\\\\\\\\\\\\": {\\\\\\\\\\\\\\\"type\\\\\\\\\\\\\\\": 2, \\\\\\\\\\\\\\\"details\\\\\\\\\\\\\\\": {\\\\\\\\\\\\\\\"selectedColumn\\\\\\\\\\\\\\\": \\\\\\\\\\\\\\\"smoothedDifference_SMA_FORWARD_8\\\\\\\\\\\\\\\"}}, \\\\\\\\\\\\\\\"typeProperty\\\\\\\\\\\\\\\": 3}, {\\\\\\\\\\\\\\\"column\\\\\\\\\\\\\\\": {\\\\\\\\\\\\\\\"type\\\\\\\\\\\\\\\": 2, \\\\\\\\\\\\\\\"details\\\\\\\\\\\\\\\": {\\\\\\\\\\\\\\\"selectedColumn\\\\\\\\\\\\\\\": \\\\\\\\\\\\\\\"smoothedDifference_SMA_FORWARD_12\\\\\\\\\\\\\\\"}}, \\\\\\\\\\\\\\\"typeProperty\\\\\\\\\\\\\\\": 3}, {\\\\\\\\\\\\\\\"column\\\\\\\\\\\\\\\": {\\\\\\\\\\\\\\\"type\\\\\\\\\\\\\\\": 2, \\\\\\\\\\\\\\\"details\\\\\\\\\\\\\\\": {\\\\\\\\\\\\\\\"selectedColumn\\\\\\\\\\\\\\\": \\\\\\\\\\\\\\\"smoothedDifference_SMA_FORWARD_16\\\\\\\\\\\\\\\"}}, \\\\\\\\\\\\\\\"typeProperty\\\\\\\\\\\\\\\": 3}, {\\\\\\\\\\\\\\\"column\\\\\\\\\\\\\\\": {\\\\\\\\\\\\\\\"type\\\\\\\\\\\\\\\": 2, \\\\\\\\\\\\\\\"details\\\\\\\\\\\\\\\": {\\\\\\\\\\\\\\\"selectedColumn\\\\\\\\\\\\\\\": \\\\\\\\\\\\\\\"smoothedDifference_SMA_FORWARD_20\\\\\\\\\\\\\\\"}}, \\\\\\\\\\\\\\\"typeProperty\\\\\\\\\\\\\\\": 3}, {\\\\\\\\\\\\\\\"column\\\\\\\\\\\\\\\": {\\\\\\\\\\\\\\\"type\\\\\\\\\\\\\\\": 2, \\\\\\\\\\\\\\\"details\\\\\\\\\\\\\\\": {\\\\\\\\\\\\\\\"selectedColumn\\\\\\\\\\\\\\\": \\\\\\\\\\\\\\\"smoothedDifference_SMA_FORWARD_24\\\\\\\\\\\\\\\"}}, \\\\\\\\\\\\\\\"typeProperty\\\\\\\\\\\\\\\": 3}, {\\\\\\\\\\\\\\\"column\\\\\\\\\\\\\\\": {\\\\\\\\\\\\\\\"type\\\\\\\\\\\\\\\": 2, \\\\\\\\\\\\\\\"details\\\\\\\\\\\\\\\": {\\\\\\\\\\\\\\\"selectedColumn\\\\\\\\\\\\\\\": \\\\\\\\\\\\\\\"smoothedDifference_SMA_FORWARD_28\\\\\\\\\\\\\\\"}}, \\\\\\\\\\\\\\\"typeProperty\\\\\\\\\\\\\\\": 3}, {\\\\\\\\\\\\\\\"column\\\\\\\\\\\\\\\": {\\\\\\\\\\\\\\\"type\\\\\\\\\\\\\\\": 2, \\\\\\\\\\\\\\\"details\\\\\\\\\\\\\\\": {\\\\\\\\\\\\\\\"selectedColumn\\\\\\\\\\\\\\\": \\\\\\\\\\\\\\\"smoothedDifference_SMA_FORWARD_32\\\\\\\\\\\\\\\"}}, \\\\\\\\\\\\\\\"typeProperty\\\\\\\\\\\\\\\": 3}, {\\\\\\\\\\\\\\\"column\\\\\\\\\\\\\\\": {\\\\\\\\\\\\\\\"type\\\\\\\\\\\\\\\": 2, \\\\\\\\\\\\\\\"details\\\\\\\\\\\\\\\": {\\\\\\\\\\\\\\\"selectedColumn\\\\\\\\\\\\\\\": \\\\\\\\\\\\\\\"smoothedDifference_SMA_FORWARD_36\\\\\\\\\\\\\\\"}}, \\\\\\\\\\\\\\\"typeProperty\\\\\\\\\\\\\\\": 3}, {\\\\\\\\\\\\\\\"column\\\\\\\\\\\\\\\": {\\\\\\\\\\\\\\\"type\\\\\\\\\\\\\\\": 2, \\\\\\\\\\\\\\\"details\\\\\\\\\\\\\\\": {\\\\\\\\\\\\\\\"selectedColumn\\\\\\\\\\\\\\\": \\\\\\\\\\\\\\\"smoothedDifference_SMA_FORWARD_40\\\\\\\\\\\\\\\"}}, \\\\\\\\\\\\\\\"typeProperty\\\\\\\\\\\\\\\": 3}]}, \\\\\\\\\\\\\\\"localData\\\\\\\\\\\\\\\": {}, \\\\\\\\\\\\\\\"isEnabled\\\\\\\\\\\\\\\": true, \\\\\\\\\\\\\\\"name\\\\\\\\\\\\\\\": null, \\\\\\\\\\\\\\\"annotation\\\\\\\\\\\\\\\": null}, {\\\\\\\\\\\\\\\"id\\\\\\\\\\\\\\\": \\\\\\\\\\\\\\\"1ab02a8f-880a-483c-8abe-4fd1d08e50b2\\\\\\\\\\\\\\\", \\\\\\\\\\\\\\\"type\\\\\\\\\\\\\\\": \\\\\\\\\\\\\\\"Microsoft.DPrep.DropColumnsBlock\\\\\\\\\\\\\\\", \\\\\\\\\\\\\\\"arguments\\\\\\\\\\\\\\\": {\\\\\\\\\\\\\\\"columns\\\\\\\\\\\\\\\": {\\\\\\\\\\\\\\\"type\\\\\\\\\\\\\\\": 0, \\\\\\\\\\\\\\\"details\\\\\\\\\\\\\\\": {\\\\\\\\\\\\\\\"selectedColumns\\\\\\\\\\\\\\\": [\\\\\\\\\\\\\\\"WellID\\\\\\\\\\\\\\\"]}}}, \\\\\\\\\\\\\\\"localData\\\\\\\\\\\\\\\": {}, \\\\\\\\\\\\\\\"isEnabled\\\\\\\\\\\\\\\": true, \\\\\\\\\\\\\\\"name\\\\\\\\\\\\\\\": null, \\\\\\\\\\\\\\\"annotation\\\\\\\\\\\\\\\": null}], \\\\\\\\\\\\\\\"inspectors\\\\\\\\\\\\\\\": [], \\\\\\\\\\\\\\\"meta\\\\\\\\\\\\\\\": {\\\\\\\\\\\\\\\"savedDatasetId\\\\\\\\\\\\\\\": \\\\\\\\\\\\\\\"c1c821ea-6177-4de0-9507-3ca52ae6d37f\\\\\\\\\\\\\\\", \\\\\\\\\\\\\\\"datasetType\\\\\\\\\\\\\\\": \\\\\\\\\\\\\\\"tabular\\\\\\\\\\\\\\\", \\\\\\\\\\\\\\\"subscriptionId\\\\\\\\\\\\\\\": \\\\\\\\\\\\\\\"47a7ec0c-37ad-428b-9114-b87ea1057632\\\\\\\\\\\\\\\", \\\\\\\\\\\\\\\"workspaceId\\\\\\\\\\\\\\\": \\\\\\\\\\\\\\\"b93cf633-ab3d-4547-b47c-768fdeb85e29\\\\\\\\\\\\\\\", \\\\\\\\\\\\\\\"workspaceLocation\\\\\\\\\\\\\\\": \\\\\\\\\\\\\\\"eastus\\\\\\\\\\\\\\\"}}\\\\\\\", \\\\\\\"activities\\\\\\\": 0}\", \"EnableSubsampling\": null, \"Properties\": \"[display_task_type, classification],[dependencies_versions, {\\\"azureml-widgets\\\": \\\"1.0.85.1\\\", \\\"azureml-train\\\": \\\"1.0.85\\\", \\\"azureml-train-restclients-hyperdrive\\\": \\\"1.0.85\\\", \\\"azureml-train-core\\\": \\\"1.0.85\\\", \\\"azureml-train-automl\\\": \\\"1.0.85\\\", \\\"azureml-train-automl-runtime\\\": \\\"1.0.85.5\\\", \\\"azureml-train-automl-client\\\": \\\"1.0.85.4\\\", \\\"azureml-tensorboard\\\": \\\"1.0.83\\\", \\\"azureml-telemetry\\\": \\\"1.0.85.1\\\", \\\"azureml-sdk\\\": \\\"1.0.85\\\", \\\"azureml-samples\\\": \\\"0+unknown\\\", \\\"azureml-pipeline\\\": \\\"1.0.85\\\", \\\"azureml-pipeline-steps\\\": \\\"1.0.85\\\", \\\"azureml-pipeline-core\\\": \\\"1.0.85.1\\\", \\\"azureml-opendatasets\\\": \\\"1.0.83\\\", \\\"azureml-model-management-sdk\\\": \\\"1.0.1b6.post1\\\", \\\"azureml-mlflow\\\": \\\"1.0.83\\\", \\\"azureml-interpret\\\": \\\"1.0.85\\\", \\\"azureml-explain-model\\\": \\\"1.0.85\\\", \\\"azureml-defaults\\\": \\\"1.0.85.1\\\", \\\"azureml-dataprep\\\": \\\"1.1.38\\\", \\\"azureml-dataprep-native\\\": \\\"13.2.0\\\", \\\"azureml-datadrift\\\": \\\"1.0.83\\\", \\\"azureml-core\\\": \\\"1.0.85.5\\\", \\\"azureml-contrib-services\\\": \\\"1.0.85\\\", \\\"azureml-contrib-server\\\": \\\"1.0.85\\\", \\\"azureml-contrib-reinforcementlearning\\\": \\\"1.0.83\\\", \\\"azureml-contrib-pipeline-steps\\\": \\\"1.0.85\\\", \\\"azureml-contrib-notebook\\\": \\\"1.0.85\\\", \\\"azureml-contrib-interpret\\\": \\\"1.0.83\\\", \\\"azureml-contrib-datadrift\\\": \\\"1.0.83\\\", \\\"azureml-automl-runtime\\\": \\\"1.0.85.4\\\", \\\"azureml-automl-core\\\": \\\"1.0.85.5\\\"}]\", \"runTemplate\": \"AutoML\", \"azureml.runsource\": \"automl\", \"display_task_type\": \"classification\", \"dependencies_versions\": \"{\\\"azureml-widgets\\\": \\\"1.0.85.1\\\", \\\"azureml-train\\\": \\\"1.0.85\\\", \\\"azureml-train-restclients-hyperdrive\\\": \\\"1.0.85\\\", \\\"azureml-train-core\\\": \\\"1.0.85\\\", \\\"azureml-train-automl\\\": \\\"1.0.85\\\", \\\"azureml-train-automl-runtime\\\": \\\"1.0.85.5\\\", \\\"azureml-train-automl-client\\\": \\\"1.0.85.4\\\", \\\"azureml-tensorboard\\\": \\\"1.0.83\\\", \\\"azureml-telemetry\\\": \\\"1.0.85.1\\\", \\\"azureml-sdk\\\": \\\"1.0.85\\\", \\\"azureml-samples\\\": \\\"0+unknown\\\", \\\"azureml-pipeline\\\": \\\"1.0.85\\\", \\\"azureml-pipeline-steps\\\": \\\"1.0.85\\\", \\\"azureml-pipeline-core\\\": \\\"1.0.85.1\\\", \\\"azureml-opendatasets\\\": \\\"1.0.83\\\", \\\"azureml-model-management-sdk\\\": \\\"1.0.1b6.post1\\\", \\\"azureml-mlflow\\\": \\\"1.0.83\\\", \\\"azureml-interpret\\\": \\\"1.0.85\\\", \\\"azureml-explain-model\\\": \\\"1.0.85\\\", \\\"azureml-defaults\\\": \\\"1.0.85.1\\\", \\\"azureml-dataprep\\\": \\\"1.1.38\\\", \\\"azureml-dataprep-native\\\": \\\"13.2.0\\\", \\\"azureml-datadrift\\\": \\\"1.0.83\\\", \\\"azureml-core\\\": \\\"1.0.85.5\\\", \\\"azureml-contrib-services\\\": \\\"1.0.85\\\", \\\"azureml-contrib-server\\\": \\\"1.0.85\\\", \\\"azureml-contrib-reinforcementlearning\\\": \\\"1.0.83\\\", \\\"azureml-contrib-pipeline-steps\\\": \\\"1.0.85\\\", \\\"azureml-contrib-notebook\\\": \\\"1.0.85\\\", \\\"azureml-contrib-interpret\\\": \\\"1.0.83\\\", \\\"azureml-contrib-datadrift\\\": \\\"1.0.83\\\", \\\"azureml-automl-runtime\\\": \\\"1.0.85.4\\\", \\\"azureml-automl-core\\\": \\\"1.0.85.5\\\"}\", \"ClientType\": \"SDK\", \"ClientSdkVersion\": \"1.0.85\", \"snapshotId\": \"\", \"SetupRunId\": \"AutoML_37a31f86-5bd2-4558-8994-e58a571abe91_setup\", \"ProblemInfoJsonString\": \"{\\\"dataset_num_categorical\\\": 0, \\\"is_sparse\\\": false, \\\"subsampling\\\": false, \\\"dataset_classes\\\": 5, \\\"dataset_features\\\": 58, \\\"dataset_samples\\\": 1048300, \\\"single_frequency_class_detected\\\": false}\", \"ModelExplainRunId\": \"AutoML_37a31f86-5bd2-4558-8994-e58a571abe91_ModelExplain\"}, \"tags\": {\"model_explain_run\": \"best_run\", \"experiment_status\": \"ModelSelection\", \"experiment_status_descr\": \"Beginning model selection.\", \"pipeline_id\": \"<ebca1e73125a3c9a8c7ce93f7de1888095655021>;<75cc4131135a51744d748dedb03da83cafd8f63d>;<fc458caef1af1a907c9958484a5909cf538b016d>;<b9a9758dc56d63d5ec8e267e495dee03cefac61c>;<f2f08837edc96ada39aee31331227c92b06f8bd7>;<5dfac790c5c209f98a1da2dc1c7fb76f0397324f>;<322fae742ef55d1e4ea31ae1953e1e753c960877>;<d19e93a78910ebf0bf814a79c79201cbad76eb2d>;<7841923f99f5cb322fd4b38b80c8f7e658675a6c>;<59dc38673c6cec5b60ee6d97376815f22e670c99>;<d9be42186dd2ac9ef8b4e7d32d05996b7fda61e8>;<032c2f067189c1f56172ca21b98c8843539dd9de>;<__AutoML_Stack_Ensemble__>;<__AutoML_Ensemble__>;\", \"score\": \"<0.677422493458499>;<0.686185244326777>;<0.665652003214988>;<0.660554217604985>;<0.69579318994119>;<0.880440714723498>;<0.665689204692325>;<0.582255076471656>;<NaN>;<0.683194692979268>;<NaN>;<NaN>;<0.879114758617113>;<0.880440714723498>;\", \"predicted_cost\": \"<0.5>;<0.5>;<0.5>;<7.74828233333333>;<8.9485614483596>;<0>;<9.35195471549323>;<10.7636217302424>;<11.1848329772577>;<10.8454401306063>;<9.70423986093729>;<8.18597259833101>;<0>;<0>;\", \"fit_time\": \"<7.74828233333333>;<10.240294>;<11.80813>;<15.240377>;<9.75244633333333>;<102.742131666667>;<8.03721966666667>;<2.650795>;<NaN>;<11.0259236666667>;<NaN>;<NaN>;<772>;<287>;\", \"training_percent\": \"<100>;<100>;<100>;<100>;<100>;<0>;<100>;<100>;<100>;<100>;<100>;<100>;<100>;<100>;\", \"iteration\": \"<1>;<3>;<2>;<4>;<5>;<0>;<6>;<7>;<8>;<9>;<10>;<11>;<13>;<12>;\", \"run_preprocessor\": \"<MinMaxScaler>;<MinMaxScaler>;<StandardScalerWrapper>;<RobustScaler>;<StandardScalerWrapper>;<MaxAbsScaler>;<StandardScalerWrapper>;<RobustScaler>;<StandardScalerWrapper>;<MinMaxScaler>;<MinMaxScaler>;<>;<>;<>;\", \"run_algorithm\": \"<SGD>;<SGD>;<ExtremeRandomTrees>;<ExtremeRandomTrees>;<SGD>;<LightGBM>;<SGD>;<BernoulliNaiveBayes>;<RandomForest>;<ExtremeRandomTrees>;<SGD>;<>;<StackEnsemble>;<VotingEnsemble>;\"}, \"end_time_utc\": \"2020-03-01T04:20:27.665304Z\", \"status\": \"Completed\", \"log_files\": {}, \"log_groups\": [], \"run_duration\": \"0:46:30\"}, \"child_runs\": [{\"run_id\": \"AutoML_37a31f86-5bd2-4558-8994-e58a571abe91_0\", \"run_number\": 239, \"metric\": null, \"status\": \"Completed\", \"run_type\": \"azureml.scriptrun\", \"training_percent\": null, \"start_time\": \"2020-03-01T03:47:22.735704Z\", \"end_time\": \"2020-03-01T03:59:12.221316Z\", \"created_time\": \"2020-03-01T03:43:39.241874Z\", \"created_time_dt\": \"2020-03-01T03:43:39.241874Z\", \"duration\": \"0:15:32\", \"iteration\": \"0\", \"goal\": \"accuracy_max\", \"run_name\": \"MaxAbsScaler, LightGBM\", \"run_properties\": \"copy=True\", \"primary_metric\": 0.88044071, \"best_metric\": 0.88044071}, {\"run_id\": \"AutoML_37a31f86-5bd2-4558-8994-e58a571abe91_3\", \"run_number\": 240, \"metric\": null, \"status\": \"Completed\", \"run_type\": \"azureml.scriptrun\", \"training_percent\": \"100\", \"start_time\": \"2020-03-01T03:47:54.130386Z\", \"end_time\": \"2020-03-01T03:51:40.090868Z\", \"created_time\": \"2020-03-01T03:43:39.46117Z\", \"created_time_dt\": \"2020-03-01T03:43:39.46117Z\", \"duration\": \"0:08:00\", \"iteration\": \"3\", \"goal\": \"accuracy_max\", \"run_name\": \"MinMaxScaler, SGD\", \"run_properties\": \"copy=True, feature_range=(0, 1\", \"primary_metric\": 0.68618524, \"best_metric\": 0.88044071}, {\"run_id\": \"AutoML_37a31f86-5bd2-4558-8994-e58a571abe91_1\", \"run_number\": 241, \"metric\": null, \"status\": \"Completed\", \"run_type\": \"azureml.scriptrun\", \"training_percent\": \"100\", \"start_time\": \"2020-03-01T03:44:18.103404Z\", \"end_time\": \"2020-03-01T03:47:48.325787Z\", \"created_time\": \"2020-03-01T03:43:39.480141Z\", \"created_time_dt\": \"2020-03-01T03:43:39.480141Z\", \"duration\": \"0:04:08\", \"iteration\": \"1\", \"goal\": \"accuracy_max\", \"run_name\": \"MinMaxScaler, SGD\", \"run_properties\": \"copy=True, feature_range=(0, 1\", \"primary_metric\": 0.67742249, \"best_metric\": 0.88044071}, {\"run_id\": \"AutoML_37a31f86-5bd2-4558-8994-e58a571abe91_2\", \"run_number\": 242, \"metric\": null, \"status\": \"Completed\", \"run_type\": \"azureml.scriptrun\", \"training_percent\": \"100\", \"start_time\": \"2020-03-01T03:47:28.248022Z\", \"end_time\": \"2020-03-01T03:52:14.160721Z\", \"created_time\": \"2020-03-01T03:43:39.507394Z\", \"created_time_dt\": \"2020-03-01T03:43:39.507394Z\", \"duration\": \"0:08:34\", \"iteration\": \"2\", \"goal\": \"accuracy_max\", \"run_name\": \"StandardScalerWrapper, ExtremeRandomTrees\", \"run_properties\": \"<automl.client.core.runtime.model_wrappers.StandardScalerWrapper object at 0x7ff6e9553940\", \"primary_metric\": 0.665652, \"best_metric\": 0.88044071}, {\"run_id\": \"AutoML_37a31f86-5bd2-4558-8994-e58a571abe91_4\", \"run_number\": 243, \"metric\": null, \"status\": \"Completed\", \"run_type\": \"azureml.scriptrun\", \"training_percent\": \"100\", \"start_time\": \"2020-03-01T03:51:43.487459Z\", \"end_time\": \"2020-03-01T03:55:56.070826Z\", \"created_time\": \"2020-03-01T03:47:59.560853Z\", \"created_time_dt\": \"2020-03-01T03:47:59.560853Z\", \"duration\": \"0:07:56\", \"iteration\": \"4\", \"goal\": \"accuracy_max\", \"run_name\": \"RobustScaler, ExtremeRandomTrees\", \"run_properties\": \"copy=True, quantile_range=[25, 75], with_centering=False,\\n       with_scaling=False\", \"primary_metric\": 0.66055422, \"best_metric\": 0.88044071}, {\"run_id\": \"AutoML_37a31f86-5bd2-4558-8994-e58a571abe91_5\", \"run_number\": 244, \"metric\": null, \"status\": \"Completed\", \"run_type\": \"azureml.scriptrun\", \"training_percent\": \"100\", \"start_time\": \"2020-03-01T03:52:28.482317Z\", \"end_time\": \"2020-03-01T03:56:04.10812Z\", \"created_time\": \"2020-03-01T03:51:50.446613Z\", \"created_time_dt\": \"2020-03-01T03:51:50.446613Z\", \"duration\": \"0:04:13\", \"iteration\": \"5\", \"goal\": \"accuracy_max\", \"run_name\": \"StandardScalerWrapper, SGD\", \"run_properties\": \"<automl.client.core.runtime.model_wrappers.StandardScalerWrapper object at 0x7f1b17bee9b0\", \"primary_metric\": 0.69579319, \"best_metric\": 0.88044071}, {\"run_id\": \"AutoML_37a31f86-5bd2-4558-8994-e58a571abe91_6\", \"run_number\": 245, \"metric\": null, \"status\": \"Completed\", \"run_type\": \"azureml.scriptrun\", \"training_percent\": \"100\", \"start_time\": \"2020-03-01T03:55:51.83626Z\", \"end_time\": \"2020-03-01T03:59:31.301132Z\", \"created_time\": \"2020-03-01T03:52:18.399977Z\", \"created_time_dt\": \"2020-03-01T03:52:18.399977Z\", \"duration\": \"0:07:12\", \"iteration\": \"6\", \"goal\": \"accuracy_max\", \"run_name\": \"StandardScalerWrapper, SGD\", \"run_properties\": \"<automl.client.core.runtime.model_wrappers.StandardScalerWrapper object at 0x7fbab19b2f28\", \"primary_metric\": 0.6656892, \"best_metric\": 0.88044071}, {\"run_id\": \"AutoML_37a31f86-5bd2-4558-8994-e58a571abe91_7\", \"run_number\": 246, \"metric\": null, \"status\": \"Completed\", \"run_type\": \"azureml.scriptrun\", \"training_percent\": \"100\", \"start_time\": \"2020-03-01T03:56:38.480957Z\", \"end_time\": \"2020-03-01T03:59:45.395705Z\", \"created_time\": \"2020-03-01T03:56:00.245318Z\", \"created_time_dt\": \"2020-03-01T03:56:00.245318Z\", \"duration\": \"0:03:45\", \"iteration\": \"7\", \"goal\": \"accuracy_max\", \"run_name\": \"RobustScaler, BernoulliNaiveBayes\", \"run_properties\": \"copy=True, quantile_range=[25, 75], with_centering=False,\\n       with_scaling=True\", \"primary_metric\": 0.58225508, \"best_metric\": 0.88044071}, {\"run_id\": \"AutoML_37a31f86-5bd2-4558-8994-e58a571abe91_8\", \"run_number\": 247, \"metric\": null, \"status\": \"Canceled\", \"run_type\": \"azureml.scriptrun\", \"training_percent\": \"100\", \"start_time\": \"2020-03-01T03:59:12.162169Z\", \"end_time\": \"2020-03-01T04:03:50.479856Z\", \"created_time\": \"2020-03-01T03:56:17.595491Z\", \"created_time_dt\": \"2020-03-01T03:56:17.595491Z\", \"duration\": \"0:07:32\", \"iteration\": \"8\", \"goal\": null, \"run_name\": \"StandardScalerWrapper, RandomForest\", \"run_properties\": null}, {\"run_id\": \"AutoML_37a31f86-5bd2-4558-8994-e58a571abe91_9\", \"run_number\": 248, \"metric\": null, \"status\": \"Canceled\", \"run_type\": \"azureml.scriptrun\", \"training_percent\": \"100\", \"start_time\": \"2020-03-01T04:00:03.864062Z\", \"end_time\": \"2020-03-01T04:03:48.564712Z\", \"created_time\": \"2020-03-01T03:59:23.915956Z\", \"created_time_dt\": \"2020-03-01T03:59:23.915956Z\", \"duration\": \"0:04:24\", \"iteration\": \"9\", \"goal\": \"accuracy_max\", \"run_name\": \"MinMaxScaler, ExtremeRandomTrees\", \"run_properties\": \"copy=True, feature_range=(0, 1\", \"primary_metric\": 0.68319469, \"best_metric\": 0.88044071}, {\"run_id\": \"AutoML_37a31f86-5bd2-4558-8994-e58a571abe91_10\", \"run_number\": 249, \"metric\": null, \"status\": \"Canceled\", \"run_type\": \"azureml.scriptrun\", \"training_percent\": \"100\", \"start_time\": \"2020-03-01T04:00:23.056787Z\", \"end_time\": \"2020-03-01T04:03:52.763814Z\", \"created_time\": \"2020-03-01T03:59:42.128425Z\", \"created_time_dt\": \"2020-03-01T03:59:42.128425Z\", \"duration\": \"0:04:10\", \"iteration\": \"10\", \"goal\": null, \"run_name\": \"MinMaxScaler, SGD\", \"run_properties\": null, \"primary_metric\": 0.69125252, \"best_metric\": 0.88044071}, {\"run_id\": \"AutoML_37a31f86-5bd2-4558-8994-e58a571abe91_11\", \"run_number\": 250, \"metric\": null, \"status\": \"Canceled\", \"run_type\": \"azureml.scriptrun\", \"training_percent\": \"100\", \"start_time\": \"2020-03-01T03:59:59.893138Z\", \"end_time\": \"2020-03-01T04:03:57.920092Z\", \"created_time\": \"2020-03-01T03:59:59.893138Z\", \"created_time_dt\": \"2020-03-01T03:59:59.893138Z\", \"duration\": \"0:03:58\", \"iteration\": \"11\", \"goal\": null, \"run_name\": \"Canceled\", \"run_properties\": null}, {\"run_id\": \"AutoML_37a31f86-5bd2-4558-8994-e58a571abe91_13\", \"run_number\": 251, \"metric\": null, \"status\": \"Completed\", \"run_type\": \"azureml.scriptrun\", \"training_percent\": \"100\", \"start_time\": \"2020-03-01T04:04:48.361786Z\", \"end_time\": \"2020-03-01T04:20:17.028816Z\", \"created_time\": \"2020-03-01T04:04:12.035097Z\", \"created_time_dt\": \"2020-03-01T04:04:12.035097Z\", \"duration\": \"0:16:04\", \"iteration\": \"13\", \"goal\": \"accuracy_max\", \"run_name\": \"StackEnsemble\", \"run_properties\": \"base_learners=[('0', Pipeline(memory=None,\\n     steps=[('maxabsscaler', MaxAbsScaler(copy=True\", \"primary_metric\": 0.87911476, \"best_metric\": 0.88044071}, {\"run_id\": \"AutoML_37a31f86-5bd2-4558-8994-e58a571abe91_12\", \"run_number\": 252, \"metric\": null, \"status\": \"Completed\", \"run_type\": \"azureml.scriptrun\", \"training_percent\": \"100\", \"start_time\": \"2020-03-01T04:04:50.638962Z\", \"end_time\": \"2020-03-01T04:12:47.588967Z\", \"created_time\": \"2020-03-01T04:04:12.033614Z\", \"created_time_dt\": \"2020-03-01T04:04:12.033614Z\", \"duration\": \"0:08:35\", \"iteration\": \"12\", \"goal\": \"accuracy_max\", \"run_name\": \"VotingEnsemble\", \"run_properties\": \"classification_labels=None,\\n               estimators=[('0', Pipeline(memory=None,\\n     steps=[('maxabsscaler', MaxAbsScaler(copy=True\", \"primary_metric\": 0.88044071, \"best_metric\": 0.88044071}], \"children_metrics\": {\"categories\": [0], \"series\": {\"weighted_accuracy\": [{\"categories\": [\"0\", \"1\", \"2\", \"3\", \"4\", \"5\", \"6\", \"7\", \"9\", \"10\", \"12\", \"13\"], \"mode\": \"markers\", \"name\": \"weighted_accuracy\", \"stepped\": false, \"type\": \"scatter\", \"data\": [0.947611075743095, 0.8799530085656665, 0.8382383242420741, 0.8449977327912098, 0.8697235730431644, 0.8860974315457799, 0.8543760432954434, 0.6756192188345614, 0.8624326754715349, 0.8756947770735216, 0.947611075743095, 0.9481249054999057]}, {\"categories\": [\"0\", \"1\", \"2\", \"3\", \"4\", \"5\", \"6\", \"7\", \"9\", \"10\", \"12\", \"13\"], \"mode\": \"lines\", \"name\": \"weighted_accuracy_max\", \"stepped\": true, \"type\": \"scatter\", \"data\": [0.947611075743095, 0.947611075743095, 0.947611075743095, 0.947611075743095, 0.947611075743095, 0.947611075743095, 0.947611075743095, 0.947611075743095, 0.947611075743095, 0.947611075743095, 0.947611075743095, 0.9481249054999057]}], \"precision_score_weighted\": [{\"categories\": [\"0\", \"1\", \"2\", \"3\", \"4\", \"5\", \"6\", \"7\", \"9\", \"10\", \"12\", \"13\"], \"mode\": \"markers\", \"name\": \"precision_score_weighted\", \"stepped\": false, \"type\": \"scatter\", \"data\": [0.8774486290284987, 0.625273901352788, 0.619468851314464, 0.6562380340541275, 0.6010675078611568, 0.634885009604448, 0.6090983185158072, 0.6334432367145103, 0.6315139491404147, 0.6358677931549138, 0.8774486290284987, 0.8757017856248747]}, {\"categories\": [\"0\", \"1\", \"2\", \"3\", \"4\", \"5\", \"6\", \"7\", \"9\", \"10\", \"12\", \"13\"], \"mode\": \"lines\", \"name\": \"precision_score_weighted_max\", \"stepped\": true, \"type\": \"scatter\", \"data\": [0.8774486290284987, 0.8774486290284987, 0.8774486290284987, 0.8774486290284987, 0.8774486290284987, 0.8774486290284987, 0.8774486290284987, 0.8774486290284987, 0.8774486290284987, 0.8774486290284987, 0.8774486290284987, 0.8774486290284987]}], \"AUC_micro\": [{\"categories\": [\"0\", \"1\", \"2\", \"3\", \"4\", \"5\", \"6\", \"7\", \"9\", \"10\", \"12\", \"13\"], \"mode\": \"markers\", \"name\": \"AUC_micro\", \"stepped\": false, \"type\": \"scatter\", \"data\": [0.984601769683478, 0.9060875891725774, 0.9003031428164504, 0.9150263437033065, 0.8941829388892257, 0.9216609512045942, 0.8374772426336682, 0.8534832243323142, 0.8993662400180553, 0.917455922697045, 0.984601769683478, 0.9743959254400171]}, {\"categories\": [\"0\", \"1\", \"2\", \"3\", \"4\", \"5\", \"6\", \"7\", \"9\", \"10\", \"12\", \"13\"], \"mode\": \"lines\", \"name\": \"AUC_micro_max\", \"stepped\": true, \"type\": \"scatter\", \"data\": [0.984601769683478, 0.984601769683478, 0.984601769683478, 0.984601769683478, 0.984601769683478, 0.984601769683478, 0.984601769683478, 0.984601769683478, 0.984601769683478, 0.984601769683478, 0.984601769683478, 0.984601769683478]}], \"average_precision_score_macro\": [{\"categories\": [\"0\", \"1\", \"2\", \"3\", \"4\", \"5\", \"6\", \"7\", \"9\", \"10\", \"12\", \"13\"], \"mode\": \"markers\", \"name\": \"average_precision_score_macro\", \"stepped\": false, \"type\": \"scatter\", \"data\": [0.8921259281400458, 0.48338685317532065, 0.46285222218547456, 0.4922369052614504, 0.44154011900587503, 0.5016274357284102, 0.40123886762016375, 0.4453645464215725, 0.4839319439781537, 0.4938190130002595, 0.8921259281400458, 0.8920237751298693]}, {\"categories\": [\"0\", \"1\", \"2\", \"3\", \"4\", \"5\", \"6\", \"7\", \"9\", \"10\", \"12\", \"13\"], \"mode\": \"lines\", \"name\": \"average_precision_score_macro_max\", \"stepped\": true, \"type\": \"scatter\", \"data\": [0.8921259281400458, 0.8921259281400458, 0.8921259281400458, 0.8921259281400458, 0.8921259281400458, 0.8921259281400458, 0.8921259281400458, 0.8921259281400458, 0.8921259281400458, 0.8921259281400458, 0.8921259281400458, 0.8921259281400458]}], \"log_loss\": [{\"categories\": [\"0\", \"1\", \"2\", \"3\", \"4\", \"5\", \"6\", \"7\", \"9\", \"10\", \"12\", \"13\"], \"mode\": \"markers\", \"name\": \"log_loss\", \"stepped\": false, \"type\": \"scatter\", \"data\": [0.35351199971943487, 2.3131859419475664, 0.9740172313355155, 0.8334744987101882, 1.0559472838204778, 0.990345320135241, 6.935294863290427, 2.4707708082965736, 1.209606668109892, 0.8099928677998772, 0.35351199971943487, 0.4589753935790246]}, {\"categories\": [\"0\", \"1\", \"2\", \"3\", \"4\", \"5\", \"6\", \"7\", \"9\", \"10\", \"12\", \"13\"], \"mode\": \"lines\", \"name\": \"log_loss_min\", \"stepped\": true, \"type\": \"scatter\", \"data\": [0.35351199971943487, 0.35351199971943487, 0.35351199971943487, 0.35351199971943487, 0.35351199971943487, 0.35351199971943487, 0.35351199971943487, 0.35351199971943487, 0.35351199971943487, 0.35351199971943487, 0.35351199971943487, 0.35351199971943487]}], \"recall_score_weighted\": [{\"categories\": [\"0\", \"1\", \"2\", \"3\", \"4\", \"5\", \"6\", \"7\", \"9\", \"10\", \"12\", \"13\"], \"mode\": \"markers\", \"name\": \"recall_score_weighted\", \"stepped\": false, \"type\": \"scatter\", \"data\": [0.8804407147234984, 0.6774224934584995, 0.6656520032149883, 0.6861852443267766, 0.6605542176049847, 0.6957931899411897, 0.6656892046923248, 0.582255076471656, 0.683194692979268, 0.6912525222112184, 0.8804407147234984, 0.8791147586171134]}, {\"categories\": [\"0\", \"1\", \"2\", \"3\", \"4\", \"5\", \"6\", \"7\", \"9\", \"10\", \"12\", \"13\"], \"mode\": \"lines\", \"name\": \"recall_score_weighted_max\", \"stepped\": true, \"type\": \"scatter\", \"data\": [0.8804407147234984, 0.8804407147234984, 0.8804407147234984, 0.8804407147234984, 0.8804407147234984, 0.8804407147234984, 0.8804407147234984, 0.8804407147234984, 0.8804407147234984, 0.8804407147234984, 0.8804407147234984, 0.8804407147234984]}], \"f1_score_macro\": [{\"categories\": [\"0\", \"1\", \"2\", \"3\", \"4\", \"5\", \"6\", \"7\", \"9\", \"10\", \"12\", \"13\"], \"mode\": \"markers\", \"name\": \"f1_score_macro\", \"stepped\": false, \"type\": \"scatter\", \"data\": [0.8224565281246924, 0.4384706983330852, 0.4360750435262903, 0.4940143517435418, 0.3521791170374562, 0.4699907419003649, 0.4271434997816856, 0.4534128260226396, 0.44826993819269917, 0.47217131095272896, 0.8224565281246924, 0.8233565356357424]}, {\"categories\": [\"0\", \"1\", \"2\", \"3\", \"4\", \"5\", \"6\", \"7\", \"9\", \"10\", \"12\", \"13\"], \"mode\": \"lines\", \"name\": \"f1_score_macro_max\", \"stepped\": true, \"type\": \"scatter\", \"data\": [0.8224565281246924, 0.8224565281246924, 0.8224565281246924, 0.8224565281246924, 0.8224565281246924, 0.8224565281246924, 0.8224565281246924, 0.8224565281246924, 0.8224565281246924, 0.8224565281246924, 0.8224565281246924, 0.8233565356357424]}], \"average_precision_score_micro\": [{\"categories\": [\"0\", \"1\", \"2\", \"3\", \"4\", \"5\", \"6\", \"7\", \"9\", \"10\", \"12\", \"13\"], \"mode\": \"markers\", \"name\": \"average_precision_score_micro\", \"stepped\": false, \"type\": \"scatter\", \"data\": [0.9499852507659033, 0.7597511411272464, 0.7392563651950371, 0.7690175793026235, 0.7289801050298158, 0.7831155889827421, 0.6188580409125968, 0.6424935230472849, 0.7467427476395875, 0.7765812013982955, 0.9499852507659033, 0.9293141188546757]}, {\"categories\": [\"0\", \"1\", \"2\", \"3\", \"4\", \"5\", \"6\", \"7\", \"9\", \"10\", \"12\", \"13\"], \"mode\": \"lines\", \"name\": \"average_precision_score_micro_max\", \"stepped\": true, \"type\": \"scatter\", \"data\": [0.9499852507659033, 0.9499852507659033, 0.9499852507659033, 0.9499852507659033, 0.9499852507659033, 0.9499852507659033, 0.9499852507659033, 0.9499852507659033, 0.9499852507659033, 0.9499852507659033, 0.9499852507659033, 0.9499852507659033]}], \"precision_score_macro\": [{\"categories\": [\"0\", \"1\", \"2\", \"3\", \"4\", \"5\", \"6\", \"7\", \"9\", \"10\", \"12\", \"13\"], \"mode\": \"markers\", \"name\": \"precision_score_macro\", \"stepped\": false, \"type\": \"scatter\", \"data\": [0.8430899249880671, 0.49153824356155945, 0.4507515276789278, 0.5036670552968981, 0.4409840437862469, 0.5050215496079012, 0.46312383036902305, 0.44826797882976294, 0.4752853807487425, 0.49383817377665123, 0.8430899249880671, 0.8483285552709038]}, {\"categories\": [\"0\", \"1\", \"2\", \"3\", \"4\", \"5\", \"6\", \"7\", \"9\", \"10\", \"12\", \"13\"], \"mode\": \"lines\", \"name\": \"precision_score_macro_max\", \"stepped\": true, \"type\": \"scatter\", \"data\": [0.8430899249880671, 0.8430899249880671, 0.8430899249880671, 0.8430899249880671, 0.8430899249880671, 0.8430899249880671, 0.8430899249880671, 0.8430899249880671, 0.8430899249880671, 0.8430899249880671, 0.8430899249880671, 0.8483285552709038]}], \"accuracy\": [{\"categories\": [\"0\", \"1\", \"2\", \"3\", \"4\", \"5\", \"6\", \"7\", \"9\", \"10\", \"12\", \"13\"], \"mode\": \"markers\", \"name\": \"accuracy\", \"stepped\": false, \"type\": \"scatter\", \"data\": [0.8804407147234984, 0.6774224934584995, 0.6656520032149883, 0.6861852443267766, 0.6605542176049847, 0.6957931899411897, 0.6656892046923248, 0.582255076471656, 0.683194692979268, 0.6912525222112184, 0.8804407147234984, 0.8791147586171134]}, {\"categories\": [\"0\", \"1\", \"2\", \"3\", \"4\", \"5\", \"6\", \"7\", \"9\", \"10\", \"12\", \"13\"], \"mode\": \"lines\", \"name\": \"accuracy_max\", \"stepped\": true, \"type\": \"scatter\", \"data\": [0.8804407147234984, 0.8804407147234984, 0.8804407147234984, 0.8804407147234984, 0.8804407147234984, 0.8804407147234984, 0.8804407147234984, 0.8804407147234984, 0.8804407147234984, 0.8804407147234984, 0.8804407147234984, 0.8804407147234984]}], \"balanced_accuracy\": [{\"categories\": [\"0\", \"1\", \"2\", \"3\", \"4\", \"5\", \"6\", \"7\", \"9\", \"10\", \"12\", \"13\"], \"mode\": \"markers\", \"name\": \"balanced_accuracy\", \"stepped\": false, \"type\": \"scatter\", \"data\": [0.8074562394694528, 0.45798756015226977, 0.4777968028109523, 0.5122222546279125, 0.4325270925584262, 0.48815207754542794, 0.46046527817502353, 0.4796550354530831, 0.48781191000239205, 0.49067951739584087, 0.8074562394694528, 0.8040698600427617]}, {\"categories\": [\"0\", \"1\", \"2\", \"3\", \"4\", \"5\", \"6\", \"7\", \"9\", \"10\", \"12\", \"13\"], \"mode\": \"lines\", \"name\": \"balanced_accuracy_max\", \"stepped\": true, \"type\": \"scatter\", \"data\": [0.8074562394694528, 0.8074562394694528, 0.8074562394694528, 0.8074562394694528, 0.8074562394694528, 0.8074562394694528, 0.8074562394694528, 0.8074562394694528, 0.8074562394694528, 0.8074562394694528, 0.8074562394694528, 0.8074562394694528]}], \"f1_score_micro\": [{\"categories\": [\"0\", \"1\", \"2\", \"3\", \"4\", \"5\", \"6\", \"7\", \"9\", \"10\", \"12\", \"13\"], \"mode\": \"markers\", \"name\": \"f1_score_micro\", \"stepped\": false, \"type\": \"scatter\", \"data\": [0.8804407147234984, 0.6774224934584995, 0.6656520032149883, 0.6861852443267766, 0.6605542176049847, 0.6957931899411897, 0.6656892046923248, 0.582255076471656, 0.683194692979268, 0.6912525222112184, 0.8804407147234984, 0.8791147586171134]}, {\"categories\": [\"0\", \"1\", \"2\", \"3\", \"4\", \"5\", \"6\", \"7\", \"9\", \"10\", \"12\", \"13\"], \"mode\": \"lines\", \"name\": \"f1_score_micro_max\", \"stepped\": true, \"type\": \"scatter\", \"data\": [0.8804407147234984, 0.8804407147234984, 0.8804407147234984, 0.8804407147234984, 0.8804407147234984, 0.8804407147234984, 0.8804407147234984, 0.8804407147234984, 0.8804407147234984, 0.8804407147234984, 0.8804407147234984, 0.8804407147234984]}], \"AUC_weighted\": [{\"categories\": [\"0\", \"1\", \"2\", \"3\", \"4\", \"5\", \"6\", \"7\", \"9\", \"10\", \"12\", \"13\"], \"mode\": \"markers\", \"name\": \"AUC_weighted\", \"stepped\": false, \"type\": \"scatter\", \"data\": [0.9813189541637376, 0.8840817040049225, 0.8719282977976365, 0.8906093132975835, 0.8558060113786615, 0.8929816781002976, 0.8106211726612013, 0.855106841445609, 0.8696232227385826, 0.8928961840760881, 0.9813189541637376, 0.9803133325759529]}, {\"categories\": [\"0\", \"1\", \"2\", \"3\", \"4\", \"5\", \"6\", \"7\", \"9\", \"10\", \"12\", \"13\"], \"mode\": \"lines\", \"name\": \"AUC_weighted_max\", \"stepped\": true, \"type\": \"scatter\", \"data\": [0.9813189541637376, 0.9813189541637376, 0.9813189541637376, 0.9813189541637376, 0.9813189541637376, 0.9813189541637376, 0.9813189541637376, 0.9813189541637376, 0.9813189541637376, 0.9813189541637376, 0.9813189541637376, 0.9813189541637376]}], \"f1_score_weighted\": [{\"categories\": [\"0\", \"1\", \"2\", \"3\", \"4\", \"5\", \"6\", \"7\", \"9\", \"10\", \"12\", \"13\"], \"mode\": \"markers\", \"name\": \"f1_score_weighted\", \"stepped\": false, \"type\": \"scatter\", \"data\": [0.8769011962993454, 0.6263162759519108, 0.6253328769892975, 0.66258396788692, 0.5784025553078359, 0.6465314139342423, 0.6148576292576384, 0.5978119111684103, 0.63647396765862, 0.649600551109525, 0.8769011962993454, 0.8751740973423013]}, {\"categories\": [\"0\", \"1\", \"2\", \"3\", \"4\", \"5\", \"6\", \"7\", \"9\", \"10\", \"12\", \"13\"], \"mode\": \"lines\", \"name\": \"f1_score_weighted_max\", \"stepped\": true, \"type\": \"scatter\", \"data\": [0.8769011962993454, 0.8769011962993454, 0.8769011962993454, 0.8769011962993454, 0.8769011962993454, 0.8769011962993454, 0.8769011962993454, 0.8769011962993454, 0.8769011962993454, 0.8769011962993454, 0.8769011962993454, 0.8769011962993454]}], \"matthews_correlation\": [{\"categories\": [\"0\", \"1\", \"2\", \"3\", \"4\", \"5\", \"6\", \"7\", \"9\", \"10\", \"12\", \"13\"], \"mode\": \"markers\", \"name\": \"matthews_correlation\", \"stepped\": false, \"type\": \"scatter\", \"data\": [0.8174703490284507, 0.4913398754604142, 0.49063290282605926, 0.5207063356158858, 0.4864840157065194, 0.5213614867123654, 0.479136444300639, 0.4136210707733922, 0.5142979159831013, 0.5173929294255032, 0.8174703490284507, 0.8149517952663473]}, {\"categories\": [\"0\", \"1\", \"2\", \"3\", \"4\", \"5\", \"6\", \"7\", \"9\", \"10\", \"12\", \"13\"], \"mode\": \"lines\", \"name\": \"matthews_correlation_max\", \"stepped\": true, \"type\": \"scatter\", \"data\": [0.8174703490284507, 0.8174703490284507, 0.8174703490284507, 0.8174703490284507, 0.8174703490284507, 0.8174703490284507, 0.8174703490284507, 0.8174703490284507, 0.8174703490284507, 0.8174703490284507, 0.8174703490284507, 0.8174703490284507]}], \"precision_score_micro\": [{\"categories\": [\"0\", \"1\", \"2\", \"3\", \"4\", \"5\", \"6\", \"7\", \"9\", \"10\", \"12\", \"13\"], \"mode\": \"markers\", \"name\": \"precision_score_micro\", \"stepped\": false, \"type\": \"scatter\", \"data\": [0.8804407147234984, 0.6774224934584995, 0.6656520032149883, 0.6861852443267766, 0.6605542176049847, 0.6957931899411897, 0.6656892046923248, 0.582255076471656, 0.683194692979268, 0.6912525222112184, 0.8804407147234984, 0.8791147586171134]}, {\"categories\": [\"0\", \"1\", \"2\", \"3\", \"4\", \"5\", \"6\", \"7\", \"9\", \"10\", \"12\", \"13\"], \"mode\": \"lines\", \"name\": \"precision_score_micro_max\", \"stepped\": true, \"type\": \"scatter\", \"data\": [0.8804407147234984, 0.8804407147234984, 0.8804407147234984, 0.8804407147234984, 0.8804407147234984, 0.8804407147234984, 0.8804407147234984, 0.8804407147234984, 0.8804407147234984, 0.8804407147234984, 0.8804407147234984, 0.8804407147234984]}], \"AUC_macro\": [{\"categories\": [\"0\", \"1\", \"2\", \"3\", \"4\", \"5\", \"6\", \"7\", \"9\", \"10\", \"12\", \"13\"], \"mode\": \"markers\", \"name\": \"AUC_macro\", \"stepped\": false, \"type\": \"scatter\", \"data\": [0.9754276455192716, 0.8451993109533724, 0.8273981177636465, 0.8550966470972643, 0.8025420894168395, 0.8594300618035233, 0.7384636137572954, 0.8011801533820609, 0.8231748648796477, 0.8589890920617224, 0.9754276455192716, 0.973731968019726]}, {\"categories\": [\"0\", \"1\", \"2\", \"3\", \"4\", \"5\", \"6\", \"7\", \"9\", \"10\", \"12\", \"13\"], \"mode\": \"lines\", \"name\": \"AUC_macro_max\", \"stepped\": true, \"type\": \"scatter\", \"data\": [0.9754276455192716, 0.9754276455192716, 0.9754276455192716, 0.9754276455192716, 0.9754276455192716, 0.9754276455192716, 0.9754276455192716, 0.9754276455192716, 0.9754276455192716, 0.9754276455192716, 0.9754276455192716, 0.9754276455192716]}], \"recall_score_macro\": [{\"categories\": [\"0\", \"1\", \"2\", \"3\", \"4\", \"5\", \"6\", \"7\", \"9\", \"10\", \"12\", \"13\"], \"mode\": \"markers\", \"name\": \"recall_score_macro\", \"stepped\": false, \"type\": \"scatter\", \"data\": [0.8074562394694528, 0.45798756015226977, 0.4777968028109523, 0.5122222546279125, 0.4325270925584262, 0.48815207754542794, 0.46046527817502353, 0.4796550354530831, 0.48781191000239205, 0.49067951739584087, 0.8074562394694528, 0.8040698600427617]}, {\"categories\": [\"0\", \"1\", \"2\", \"3\", \"4\", \"5\", \"6\", \"7\", \"9\", \"10\", \"12\", \"13\"], \"mode\": \"lines\", \"name\": \"recall_score_macro_max\", \"stepped\": true, \"type\": \"scatter\", \"data\": [0.8074562394694528, 0.8074562394694528, 0.8074562394694528, 0.8074562394694528, 0.8074562394694528, 0.8074562394694528, 0.8074562394694528, 0.8074562394694528, 0.8074562394694528, 0.8074562394694528, 0.8074562394694528, 0.8074562394694528]}], \"norm_macro_recall\": [{\"categories\": [\"0\", \"1\", \"2\", \"3\", \"4\", \"5\", \"6\", \"7\", \"9\", \"10\", \"12\", \"13\"], \"mode\": \"markers\", \"name\": \"norm_macro_recall\", \"stepped\": false, \"type\": \"scatter\", \"data\": [0.7593202993368157, 0.32248445019033717, 0.3472460035136904, 0.39027781828489067, 0.29065886569803273, 0.36019009693178483, 0.3255815977187793, 0.34956879431635385, 0.35976488750299, 0.363349396744801, 0.7593202993368157, 0.7550873250534522]}, {\"categories\": [\"0\", \"1\", \"2\", \"3\", \"4\", \"5\", \"6\", \"7\", \"9\", \"10\", \"12\", \"13\"], \"mode\": \"lines\", \"name\": \"norm_macro_recall_max\", \"stepped\": true, \"type\": \"scatter\", \"data\": [0.7593202993368157, 0.7593202993368157, 0.7593202993368157, 0.7593202993368157, 0.7593202993368157, 0.7593202993368157, 0.7593202993368157, 0.7593202993368157, 0.7593202993368157, 0.7593202993368157, 0.7593202993368157, 0.7593202993368157]}], \"recall_score_micro\": [{\"categories\": [\"0\", \"1\", \"2\", \"3\", \"4\", \"5\", \"6\", \"7\", \"9\", \"10\", \"12\", \"13\"], \"mode\": \"markers\", \"name\": \"recall_score_micro\", \"stepped\": false, \"type\": \"scatter\", \"data\": [0.8804407147234984, 0.6774224934584995, 0.6656520032149883, 0.6861852443267766, 0.6605542176049847, 0.6957931899411897, 0.6656892046923248, 0.582255076471656, 0.683194692979268, 0.6912525222112184, 0.8804407147234984, 0.8791147586171134]}, {\"categories\": [\"0\", \"1\", \"2\", \"3\", \"4\", \"5\", \"6\", \"7\", \"9\", \"10\", \"12\", \"13\"], \"mode\": \"lines\", \"name\": \"recall_score_micro_max\", \"stepped\": true, \"type\": \"scatter\", \"data\": [0.8804407147234984, 0.8804407147234984, 0.8804407147234984, 0.8804407147234984, 0.8804407147234984, 0.8804407147234984, 0.8804407147234984, 0.8804407147234984, 0.8804407147234984, 0.8804407147234984, 0.8804407147234984, 0.8804407147234984]}], \"average_precision_score_weighted\": [{\"categories\": [\"0\", \"1\", \"2\", \"3\", \"4\", \"5\", \"6\", \"7\", \"9\", \"10\", \"12\", \"13\"], \"mode\": \"markers\", \"name\": \"average_precision_score_weighted\", \"stepped\": false, \"type\": \"scatter\", \"data\": [0.9325510425449912, 0.6634631328706363, 0.652189623038038, 0.6730264862182631, 0.6310227758648842, 0.6783120495438809, 0.5985940453917448, 0.6383495150129145, 0.6642013524674141, 0.6737102921559449, 0.9325510425449912, 0.9325412811412219]}, {\"categories\": [\"0\", \"1\", \"2\", \"3\", \"4\", \"5\", \"6\", \"7\", \"9\", \"10\", \"12\", \"13\"], \"mode\": \"lines\", \"name\": \"average_precision_score_weighted_max\", \"stepped\": true, \"type\": \"scatter\", \"data\": [0.9325510425449912, 0.9325510425449912, 0.9325510425449912, 0.9325510425449912, 0.9325510425449912, 0.9325510425449912, 0.9325510425449912, 0.9325510425449912, 0.9325510425449912, 0.9325510425449912, 0.9325510425449912, 0.9325510425449912]}]}, \"metricName\": null, \"primaryMetricName\": \"accuracy\", \"showLegend\": false}, \"run_metrics\": [], \"run_logs\": \"\\nRun is completed.\", \"graph\": {}, \"widget_settings\": {\"childWidgetDisplay\": \"popup\", \"send_telemetry\": false, \"log_level\": \"INFO\", \"sdk_version\": \"1.0.85\"}, \"loading\": false}"
     },
     "metadata": {},
     "output_type": "display_data"
    }
   ],
   "source": [
    "# Run the Widget to best view Model Results\n",
    "from azureml.widgets import RunDetails\n",
    "RunDetails(remote_run).show() "
   ]
  },
  {
   "cell_type": "code",
   "execution_count": 27,
   "metadata": {},
   "outputs": [
    {
     "name": "stdout",
     "output_type": "stream",
     "text": [
      "0.5302108175140704\n"
     ]
    }
   ],
   "source": [
    "# Compare your results to the default model accuracy.  This is the number to beat.  Pick one depending on your Problem.\n",
    "\n",
    "# For Classification problems, the default model accuracy is simply predicting the most common class every time.\n",
    "Default_Model_Accuracy = trainTransformedDF[trainTransformedDF.Label=='Default Layer'].Label.count()/trainTransformedDF.Label.count()\n",
    "print(Default_Model_Accuracy)"
   ]
  },
  {
   "cell_type": "code",
   "execution_count": 31,
   "metadata": {},
   "outputs": [
    {
     "name": "stdout",
     "output_type": "stream",
     "text": [
      "1022.8348657492976\n"
     ]
    }
   ],
   "source": [
    "# Compare your results to the default model accuracy.  This is the number to beat.  Pick one depending on your Problem.\n",
    "\n",
    "# For Regression problems, the default model score is rmse if you predict the average.\n",
    "#trainTransformedDF['DefaultPrediction'] = np.mean(trainTransformedDF.MyPredictionColumn)\n",
    "#trainTransformedDF['SquaredError'] = (trainTransformedDF['MyPredictionColumn'] - trainTransformedDF['DefaultPrediction'])**2\n",
    "#Default_Model_RMSE = np.mean(trainTransformedDF.SquaredError)\n",
    "#print(Default_Model_RMSE)"
   ]
  },
  {
   "cell_type": "markdown",
   "metadata": {},
   "source": [
    "## Obtain and Register Model to Machine Learning Work Space\n",
    "Next up is retrieving your model and registering it to your workspace.  Registering your model lets you deploy it, run it in pipelines, and store it for later use."
   ]
  },
  {
   "cell_type": "markdown",
   "metadata": {},
   "source": [
    "### Download your scoring file and your environment file to your local notebook.\n",
    "To deploy models, Azure ML requires a scoring script to make predictions on new data using your model.  It also requires an environment file containing all of the packages required to run your scoring script.  Here, we retrieve both of these from Auto_ML's get_output() function and write them to our local VM."
   ]
  },
  {
   "cell_type": "code",
   "execution_count": 32,
   "metadata": {},
   "outputs": [],
   "source": [
    "best_run, fitted_model = remote_run.get_output()"
   ]
  },
  {
   "cell_type": "code",
   "execution_count": 33,
   "metadata": {},
   "outputs": [],
   "source": [
    "# Create a Directory to your store your files first\n",
    "inference_folder = os.path.join(os.getcwd(), 'inference')\n",
    "os.makedirs(inference_folder, exist_ok=True)\n",
    "\n",
    "# Specify names for your scoring scrip and environment file\n",
    "script_file_name = 'inference/score.py'\n",
    "environment_file_name = 'inference/AutoML.yml'\n",
    "\n",
    "# Download the files locally\n",
    "best_run.download_file('outputs/scoring_file_v_1_0_0.py', script_file_name)\n",
    "best_run.download_file('outputs/conda_env_v_1_0_0.yml', environment_file_name)"
   ]
  },
  {
   "cell_type": "code",
   "execution_count": 34,
   "metadata": {},
   "outputs": [
    {
     "name": "stdout",
     "output_type": "stream",
     "text": [
      "AutoML37a31f86512\n"
     ]
    }
   ],
   "source": [
    "# Give a meaningful description and tags to your autoML model\n",
    "description = 'AutoML Model trained on Ancient River data to predict Geographic Layer Type'\n",
    "tags = {'project': \"Ancient Rivers\", 'type': \"Classification\", 'mltype':\"AutoML\", 'notes':\"AutoRegressive\"}\n",
    "\n",
    "# Retrieve the model_name from the autoML run\n",
    "model_name = best_run.properties['model_name']\n",
    "\n",
    "# Register your model, set tags and description\n",
    "model = remote_run.register_model(model_name = model_name, description = description, tags = tags)\n",
    "\n",
    "# Print the Model ID\n",
    "print(remote_run.model_id)"
   ]
  },
  {
   "cell_type": "code",
   "execution_count": 36,
   "metadata": {},
   "outputs": [
    {
     "data": {
      "text/plain": [
       "{\n",
       "    \"name\": \"automl-environment\",\n",
       "    \"version\": \"1\",\n",
       "    \"environmentVariables\": {\n",
       "        \"EXAMPLE_ENV_VAR\": \"EXAMPLE_VALUE\"\n",
       "    },\n",
       "    \"python\": {\n",
       "        \"userManagedDependencies\": false,\n",
       "        \"interpreterPath\": \"python\",\n",
       "        \"condaDependenciesFile\": null,\n",
       "        \"baseCondaEnvironment\": null,\n",
       "        \"condaDependencies\": {\n",
       "            \"channels\": [\n",
       "                \"conda-forge\"\n",
       "            ],\n",
       "            \"dependencies\": [\n",
       "                \"python=3.6.2\",\n",
       "                {\n",
       "                    \"pip\": [\n",
       "                        \"azureml-train-automl-runtime==1.0.85.5\",\n",
       "                        \"inference-schema\",\n",
       "                        \"azureml-explain-model==1.0.85\",\n",
       "                        \"azureml-defaults==1.0.85.1\"\n",
       "                    ]\n",
       "                },\n",
       "                \"numpy>=1.16.0,<=1.16.2\",\n",
       "                \"pandas>=0.21.0,<=0.23.4\",\n",
       "                \"scikit-learn>=0.19.0,<=0.20.3\",\n",
       "                \"py-xgboost<=0.80\",\n",
       "                \"fbprophet==0.5\",\n",
       "                \"psutil>=5.2.2,<6.0.0\"\n",
       "            ],\n",
       "            \"name\": \"azureml_c28e5849b99a3505dc34dfaf678707a8\"\n",
       "        }\n",
       "    },\n",
       "    \"docker\": {\n",
       "        \"enabled\": false,\n",
       "        \"baseImage\": \"mcr.microsoft.com/azureml/base:intelmpi2018.3-ubuntu16.04\",\n",
       "        \"baseDockerfile\": null,\n",
       "        \"sharedVolumes\": true,\n",
       "        \"shmSize\": null,\n",
       "        \"arguments\": [],\n",
       "        \"baseImageRegistry\": {\n",
       "            \"address\": null,\n",
       "            \"username\": null,\n",
       "            \"password\": null\n",
       "        }\n",
       "    },\n",
       "    \"spark\": {\n",
       "        \"repositories\": [],\n",
       "        \"packages\": [],\n",
       "        \"precachePackages\": true\n",
       "    },\n",
       "    \"databricks\": {\n",
       "        \"mavenLibraries\": [],\n",
       "        \"pypiLibraries\": [],\n",
       "        \"rcranLibraries\": [],\n",
       "        \"jarLibraries\": [],\n",
       "        \"eggLibraries\": []\n",
       "    },\n",
       "    \"inferencingStackVersion\": null\n",
       "}"
      ]
     },
     "execution_count": 36,
     "metadata": {},
     "output_type": "execute_result"
    }
   ],
   "source": [
    "# Create an environment to register and give it a name\n",
    "autoMLenv = Environment.from_conda_specification(name = \"automl-environment\",\n",
    "                                             file_path = environment_file_name)\n",
    "\n",
    "# Register the environment to your workspace\n",
    "autoMLenv.register(workspace=ws)"
   ]
  },
  {
   "cell_type": "markdown",
   "metadata": {},
   "source": [
    "## Most people can stop here and move on to the next notebook.  \n",
    "If you want to use a pandas dataframe and train an AutoML model locally, follow the code below."
   ]
  },
  {
   "cell_type": "markdown",
   "metadata": {},
   "source": [
    "### First, drop all columns not required in your machine learning model and assign your label column\n",
    "You can use pandas dataframes for local runs.  Tabular data will also work on local runs."
   ]
  },
  {
   "cell_type": "code",
   "execution_count": 37,
   "metadata": {},
   "outputs": [],
   "source": [
    "# Drop any column that isn't appropriate to add into the model\n",
    "# For example, ID columns, redundant columns or columns with only one value should be dropped\n",
    "trainDF = trainTransformedDF.drop(['WellID'], axis=1)"
   ]
  },
  {
   "cell_type": "code",
   "execution_count": 38,
   "metadata": {},
   "outputs": [],
   "source": [
    "# Next, assign the name of the column you are trying to predict to a variable.\n",
    "label = 'Label'"
   ]
  },
  {
   "cell_type": "markdown",
   "metadata": {},
   "source": [
    "### Next, configure your AutoML settings\n",
    "There are numerous configuration options within AutoML, task, primary metric, featurization and explainability being the most important.<br>\n",
    "Set <b>task</b> to either classification, regression or forecasting depending on the type of problem you are trying to solve.<br>\n",
    "Set <b>Primary Metric</b> to what you are trying to minimize or maximize, like accuracy for classification or rmse for regression problems.<br>\n",
    "<b>Featurization</b> set to Auto automatically one hot encodes categorical values, drops high cardinality categorical columns, imputes missing values across all types of columns, autogenerates numerous datetime features and also creates many features from text data.<br>\n",
    "Set <b>Model Explainability</b> to True to let you obtain a ranked list of features used to generate the AutoML model.\n",
    "\n",
    "For a list and explanation of configurations, click the link below: <br>\n",
    "https://docs.microsoft.com/en-us/python/api/azureml-train-automl-client/azureml.train.automl.automlconfig.automlconfig?view=azure-ml-py\n",
    "\n",
    "For a list of primary metrics based on problem type, click the following:\n",
    "https://docs.microsoft.com/en-us/azure/machine-learning/how-to-configure-auto-train"
   ]
  },
  {
   "cell_type": "code",
   "execution_count": 39,
   "metadata": {},
   "outputs": [],
   "source": [
    "automl_local_settings = {\n",
    "    \"experiment_timeout_minutes\": 20,  # Use this for testing to limit the autoML run\n",
    "    \"enable_early_stopping\" : True,    # Enable this to end the experiment once results stop improving.  Always use this.\n",
    "    #\"iteration_timeout_minutes\": 5,   # Enable this to limit how long each model takes to run\n",
    "    \"max_concurrent_iterations\": 4,    # Match this value to the max number of nodes in your cluster\n",
    "    #\"max_cores_per_iteration\": -1,     # Only used for DNN \n",
    "    \"n_cross_validations\": 5,         # This is the number of splits to use for cross validation\n",
    "    \"featurization\": 'auto',           # Set to auto to preprocess data\n",
    "    \"preprocess\": True,                # Set to auto to preprocess data\n",
    "    \"enable_dnn\": False,               # Enables Deep Neural Networks for appropriate problems\n",
    "    \"enable_tf\": False,                # Enables Tensorflow algorithms for appropriate problems\n",
    "    \"verbosity\": logging.INFO,         # Enables logging\n",
    "}\n",
    "\n",
    "automl_local_config = AutoMLConfig(task = 'classification',         # Classification, regression or forecasting\n",
    "                             primary_metric = 'accuracy',     # Select the metric to be optimized through autoML \n",
    "                             num_classes = 5,                    # Set the number of categories classification\n",
    "                             debug_log = 'automl_errors.log',    # Assigns the debug log name\n",
    "                             #compute_target=cpu_cluster,         # Turn this off for local runs.\n",
    "                             experiment_exit_score = 0.99,       # Threshold to end autoML runs prematurely \n",
    "                             #blacklist_models = ['Prophet'],        # Use to blacklist models\n",
    "                             #whitelist_models = ['KNN'],        # Runs only your selected models\n",
    "                             enable_onnx_compatible_models=False,# Enables/disables enforcing onnx compatible models\n",
    "                             training_data = trainDF,           # Sets the training data\n",
    "                             label_column_name = label,          # Sets the column to predict in your training data\n",
    "                             model_explainability=True,        # Explanation runs can take a long time to complete\n",
    "                             enable_voting_ensemble=True,        # Enables/disables voting ensemble algorithm\n",
    "                             enable_stack_ensemble=True,         # Enables/disables stack ensemble algorithm\n",
    "                             **automl_local_settings\n",
    "                            )\n"
   ]
  },
  {
   "cell_type": "markdown",
   "metadata": {},
   "source": [
    "## Set up your Experiment\n",
    "An experiment is a grouping of many runs from a specified script. It always belongs to a workspace. When you submit a run, you provide an experiment name. Information for the run is stored under that experiment. If you submit a run and specify an experiment name that doesn't exist, a new experiment with that newly specified name is automatically created."
   ]
  },
  {
   "cell_type": "code",
   "execution_count": 40,
   "metadata": {},
   "outputs": [
    {
     "data": {
      "text/html": [
       "<div>\n",
       "<style scoped>\n",
       "    .dataframe tbody tr th:only-of-type {\n",
       "        vertical-align: middle;\n",
       "    }\n",
       "\n",
       "    .dataframe tbody tr th {\n",
       "        vertical-align: top;\n",
       "    }\n",
       "\n",
       "    .dataframe thead th {\n",
       "        text-align: right;\n",
       "    }\n",
       "</style>\n",
       "<table border=\"1\" class=\"dataframe\">\n",
       "  <thead>\n",
       "    <tr style=\"text-align: right;\">\n",
       "      <th></th>\n",
       "      <th></th>\n",
       "    </tr>\n",
       "  </thead>\n",
       "  <tbody>\n",
       "    <tr>\n",
       "      <th>SDK version</th>\n",
       "      <td>1.0.85</td>\n",
       "    </tr>\n",
       "    <tr>\n",
       "      <th>Subscription ID</th>\n",
       "      <td>47a7ec0c-37ad-428b-9114-b87ea1057632</td>\n",
       "    </tr>\n",
       "    <tr>\n",
       "      <th>Workspace</th>\n",
       "      <td>ancient-rivers-ml-workspace</td>\n",
       "    </tr>\n",
       "    <tr>\n",
       "      <th>Resource Group</th>\n",
       "      <td>xeek-ancient-rivers</td>\n",
       "    </tr>\n",
       "    <tr>\n",
       "      <th>Location</th>\n",
       "      <td>eastus</td>\n",
       "    </tr>\n",
       "    <tr>\n",
       "      <th>Experiment Name</th>\n",
       "      <td>ancient-rivers-automl-local</td>\n",
       "    </tr>\n",
       "  </tbody>\n",
       "</table>\n",
       "</div>"
      ],
      "text/plain": [
       "                                                     \n",
       "SDK version      1.0.85                              \n",
       "Subscription ID  47a7ec0c-37ad-428b-9114-b87ea1057632\n",
       "Workspace        ancient-rivers-ml-workspace         \n",
       "Resource Group   xeek-ancient-rivers                 \n",
       "Location         eastus                              \n",
       "Experiment Name  ancient-rivers-automl-local         "
      ]
     },
     "execution_count": 40,
     "metadata": {},
     "output_type": "execute_result"
    }
   ],
   "source": [
    "# choose a name for experiment appropriate to the project\n",
    "local_experiment_name = 'ancient-rivers-automl-local'\n",
    "\n",
    "local_experiment=Experiment(ws, local_experiment_name)\n",
    "\n",
    "# Output a nice table with all of the essential experiment information\n",
    "output = {}\n",
    "output['SDK version'] = azureml.core.VERSION\n",
    "output['Subscription ID'] = ws.subscription_id\n",
    "output['Workspace'] = ws.name\n",
    "output['Resource Group'] = ws.resource_group\n",
    "output['Location'] = ws.location\n",
    "output['Experiment Name'] = local_experiment.name\n",
    "pd.set_option('display.max_colwidth', -1)\n",
    "outputDf = pd.DataFrame(data = output, index = [''])\n",
    "outputDf.T"
   ]
  },
  {
   "cell_type": "code",
   "execution_count": 41,
   "metadata": {},
   "outputs": [
    {
     "name": "stdout",
     "output_type": "stream",
     "text": [
      "Running on local machine\n",
      "Parent Run ID: AutoML_0ba2c991-b8ef-4051-815c-017aa29e2a93\n",
      "\n",
      "Current status: DatasetFeaturization. Beginning to featurize the dataset.\n",
      "Current status: DatasetEvaluation. Gathering dataset statistics.\n",
      "Current status: FeaturesGeneration. Generating features for the dataset.\n",
      "Current status: DatasetFeaturizationCompleted. Completed featurizing the dataset.\n",
      "Current status: DatasetCrossValidationSplit. Generating individually featurized CV splits.\n",
      "\n",
      "****************************************************************************************************\n",
      "DATA GUARDRAILS: \n",
      "\n",
      "TYPE:         Class balancing detection\n",
      "STATUS:       PASSED\n",
      "DESCRIPTION:  Classes are balanced in the training data.\n",
      "\n",
      "TYPE:         Missing values imputation\n",
      "STATUS:       FIXED\n",
      "DESCRIPTION:  The training data had the following missing values which were resolved. Please review your data source for data quality issues and possibly filter out the rows with these missing values. If the missing values are expected, you can either accept the above imputation, or implement your own custom imputation that may be more appropriate based on the data type and business process.\n",
      "PARAMETERS:   Column name : smoothedDifference_SMA_12, Imputation type : mean\n",
      "              Column name : smoothedDifference_SMA_16, Imputation type : mean\n",
      "              Column name : smoothedDifference_SMA_20, Imputation type : mean\n",
      "              Column name : smoothedDifference_SMA_24, Imputation type : mean\n",
      "              Column name : smoothedDifference_SMA_28, Imputation type : mean\n",
      "              Column name : smoothedDifference_SMA_32, Imputation type : mean\n",
      "              Column name : smoothedDifference_SMA_36, Imputation type : mean\n",
      "              Column name : smoothedDifference_SMA_4, Imputation type : mean\n",
      "              Column name : smoothedDifference_SMA_40, Imputation type : mean\n",
      "              Column name : smoothedDifference_SMA_8, Imputation type : mean\n",
      "              Column name : smoothedDifference_SMA_FORWARD_12, Imputation type : mean\n",
      "              Column name : smoothedDifference_SMA_FORWARD_16, Imputation type : mean\n",
      "              Column name : smoothedDifference_SMA_FORWARD_20, Imputation type : mean\n",
      "              Column name : smoothedDifference_SMA_FORWARD_24, Imputation type : mean\n",
      "              Column name : smoothedDifference_SMA_FORWARD_28, Imputation type : mean\n",
      "              Column name : smoothedDifference_SMA_FORWARD_32, Imputation type : mean\n",
      "              Column name : smoothedDifference_SMA_FORWARD_36, Imputation type : mean\n",
      "              Column name : smoothedDifference_SMA_FORWARD_4, Imputation type : mean\n",
      "              Column name : smoothedDifference_SMA_FORWARD_40, Imputation type : mean\n",
      "              Column name : smoothedDifference_SMA_FORWARD_8, Imputation type : mean\n",
      "              Column name : smoothedGR-1, Imputation type : mean\n",
      "              Column name : smoothedGR-2, Imputation type : mean\n",
      "              Column name : smoothedGR-3, Imputation type : mean\n",
      "              Column name : smoothedGR-4, Imputation type : mean\n",
      "              Column name : smoothedGR1, Imputation type : mean\n",
      "              Column name : smoothedGR2, Imputation type : mean\n",
      "              Column name : smoothedGR3, Imputation type : mean\n",
      "              Column name : smoothedGR4, Imputation type : mean\n",
      "              \n",
      "TYPE:         High cardinality feature detection\n",
      "STATUS:       PASSED\n",
      "DESCRIPTION:  Your inputs were analyzed, and no high cardinality features were detected.\n",
      "\n",
      "****************************************************************************************************\n",
      "Current status: ModelSelection. Beginning model selection.\n",
      "\n",
      "****************************************************************************************************\n",
      "ITERATION: The iteration being evaluated.\n",
      "PIPELINE: A summary description of the pipeline being evaluated.\n",
      "DURATION: Time taken for the current iteration.\n",
      "METRIC: The result of computing score on the fitted pipeline.\n",
      "BEST: The best observed score thus far.\n",
      "****************************************************************************************************\n",
      "\n",
      " ITERATION   PIPELINE                                       DURATION      METRIC      BEST\n",
      "         0   MaxAbsScaler LightGBM                          0:15:45       0.8809    0.8809\n",
      "         1   MinMaxScaler SGD                               0:02:58       0.6992    0.8809\n",
      "         2                                                  0:02:03          nan    0.8809\n",
      "ERROR: Wall clock time exceeded the specified limit. Please consider increasing the time limit.\n",
      "         3   VotingEnsemble                                 0:06:58       0.8809    0.8809\n",
      "         4   StackEnsemble                                  0:17:12       0.8801    0.8809\n",
      "Stopping criteria reached at iteration 4. Ending experiment.\n",
      "****************************************************************************************************\n",
      "Current status: BestRunExplainModel. Best run model explanations started\n",
      "Current status: ModelExplainationDataSetSetup. Model explanations data setup completed\n",
      "Current status: EngineeredFeatureExplanations. Computation of engineered features started\n",
      "Current status: EngineeredFeatureExplanations. Computation of engineered features completed\n",
      "Current status: BestRunExplainModel. Best run model explanations completed\n",
      "****************************************************************************************************\n"
     ]
    }
   ],
   "source": [
    "# Train your model\n",
    "# Local ones give more detailed information than remote runs.\n",
    "local_run = local_experiment.submit(automl_local_config, show_output = True)"
   ]
  },
  {
   "cell_type": "code",
   "execution_count": 42,
   "metadata": {},
   "outputs": [
    {
     "data": {
      "application/vnd.jupyter.widget-view+json": {
       "model_id": "5fcd0ec2df88409a9803921c946d34f4",
       "version_major": 2,
       "version_minor": 0
      },
      "text/plain": [
       "_AutoMLWidget(widget_settings={'childWidgetDisplay': 'popup', 'send_telemetry': False, 'log_level': 'INFO', 's…"
      ]
     },
     "metadata": {},
     "output_type": "display_data"
    },
    {
     "data": {
      "application/aml.mini.widget.v1": "{\"status\": \"Completed\", \"workbench_run_details_uri\": \"https://ml.azure.com/experiments/ancient-rivers-automl-local/runs/AutoML_0ba2c991-b8ef-4051-815c-017aa29e2a93?wsid=/subscriptions/47a7ec0c-37ad-428b-9114-b87ea1057632/resourcegroups/xeek-ancient-rivers/workspaces/ancient-rivers-ml-workspace\", \"run_id\": \"AutoML_0ba2c991-b8ef-4051-815c-017aa29e2a93\", \"run_properties\": {\"run_id\": \"AutoML_0ba2c991-b8ef-4051-815c-017aa29e2a93\", \"created_utc\": \"2020-03-01T04:30:14.994485Z\", \"properties\": {\"num_iterations\": \"1000\", \"training_type\": \"TrainFull\", \"acquisition_function\": \"EI\", \"primary_metric\": \"accuracy\", \"train_split\": \"0\", \"MaxTimeSeconds\": \"0\", \"acquisition_parameter\": \"0\", \"num_cross_validation\": \"5\", \"target\": \"local\", \"RawAMLSettingsString\": \"{'name': 'ancient-rivers-automl-local', 'path': '.', 'subscription_id': '47a7ec0c-37ad-428b-9114-b87ea1057632', 'resource_group': 'xeek-ancient-rivers', 'workspace_name': 'ancient-rivers-ml-workspace', 'region': 'eastus', 'compute_target': 'local', 'spark_service': None, 'azure_service': None, 'iterations': 1000, 'primary_metric': 'accuracy', 'task_type': 'classification', 'data_script': None, 'validation_size': 0.0, 'n_cross_validations': 5, 'y_min': None, 'y_max': None, 'num_classes': 5, 'featurization': 'auto', 'lag_length': 0, 'is_timeseries': False, 'max_cores_per_iteration': 1, 'max_concurrent_iterations': 4, 'iteration_timeout_minutes': None, 'mem_in_mb': None, 'enforce_time_on_windows': False, 'experiment_timeout_minutes': 20, 'experiment_exit_score': 0.99, 'whitelist_models': None, 'blacklist_algos': ['XGBoostClassifier', 'KNN', 'SVM'], 'supported_models': ['KNN', 'XGBoostClassifier', 'TensorFlowDNN', 'LinearSVM', 'RandomForest', 'TensorFlowLinearClassifier', 'SVM', 'SGD', 'LogisticRegression', 'ExtremeRandomTrees', 'GradientBoosting', 'AveragedPerceptronClassifier', 'LinearSVMClassifier', 'DecisionTree', 'MultinomialNaiveBayes', 'LightGBM', 'BernoulliNaiveBayes'], 'auto_blacklist': True, 'blacklist_samples_reached': True, 'exclude_nan_labels': True, 'verbosity': 20, 'debug_log': 'automl_errors.log', 'show_warnings': False, 'model_explainability': True, 'service_url': None, 'sdk_url': None, 'sdk_packages': None, 'enable_onnx_compatible_models': False, 'enable_split_onnx_featurizer_estimator_models': False, 'vm_type': None, 'telemetry_verbosity': 'INFO', 'send_telemetry': True, 'enable_dnn': False, 'force_text_dnn': False, 'enable_feature_sweeping': True, 'enable_early_stopping': True, 'early_stopping_n_iters': 10, 'metrics': None, 'enable_ensembling': True, 'enable_stack_ensembling': True, 'ensemble_iterations': 15, 'enable_tf': False, 'enable_cache': True, 'enable_subsampling': None, 'subsample_seed': None, 'enable_nimbusml': False, 'enable_streaming': False, 'label_column_name': 'Label', 'weight_column_name': None, 'cost_mode': 0, 'metric_operation': 'maximize', 'preprocess': True}\", \"AMLSettingsJsonString\": \"{\\\"name\\\": \\\"ancient-rivers-automl-local\\\", \\\"path\\\": \\\".\\\", \\\"subscription_id\\\": \\\"47a7ec0c-37ad-428b-9114-b87ea1057632\\\", \\\"resource_group\\\": \\\"xeek-ancient-rivers\\\", \\\"workspace_name\\\": \\\"ancient-rivers-ml-workspace\\\", \\\"region\\\": \\\"eastus\\\", \\\"compute_target\\\": \\\"local\\\", \\\"spark_service\\\": null, \\\"azure_service\\\": null, \\\"iterations\\\": 1000, \\\"primary_metric\\\": \\\"accuracy\\\", \\\"task_type\\\": \\\"classification\\\", \\\"data_script\\\": null, \\\"validation_size\\\": 0.0, \\\"n_cross_validations\\\": 5, \\\"y_min\\\": null, \\\"y_max\\\": null, \\\"num_classes\\\": 5, \\\"featurization\\\": \\\"auto\\\", \\\"lag_length\\\": 0, \\\"is_timeseries\\\": false, \\\"max_cores_per_iteration\\\": 1, \\\"max_concurrent_iterations\\\": 4, \\\"iteration_timeout_minutes\\\": null, \\\"mem_in_mb\\\": null, \\\"enforce_time_on_windows\\\": false, \\\"experiment_timeout_minutes\\\": 20, \\\"experiment_exit_score\\\": 0.99, \\\"whitelist_models\\\": null, \\\"blacklist_algos\\\": [\\\"XGBoostClassifier\\\", \\\"KNN\\\", \\\"SVM\\\"], \\\"supported_models\\\": [\\\"KNN\\\", \\\"XGBoostClassifier\\\", \\\"TensorFlowDNN\\\", \\\"LinearSVM\\\", \\\"RandomForest\\\", \\\"TensorFlowLinearClassifier\\\", \\\"SVM\\\", \\\"SGD\\\", \\\"LogisticRegression\\\", \\\"ExtremeRandomTrees\\\", \\\"GradientBoosting\\\", \\\"AveragedPerceptronClassifier\\\", \\\"LinearSVMClassifier\\\", \\\"DecisionTree\\\", \\\"MultinomialNaiveBayes\\\", \\\"LightGBM\\\", \\\"BernoulliNaiveBayes\\\"], \\\"auto_blacklist\\\": true, \\\"blacklist_samples_reached\\\": true, \\\"exclude_nan_labels\\\": true, \\\"verbosity\\\": 20, \\\"debug_log\\\": \\\"automl_errors.log\\\", \\\"show_warnings\\\": false, \\\"model_explainability\\\": true, \\\"service_url\\\": null, \\\"sdk_url\\\": null, \\\"sdk_packages\\\": null, \\\"enable_onnx_compatible_models\\\": false, \\\"enable_split_onnx_featurizer_estimator_models\\\": false, \\\"vm_type\\\": null, \\\"telemetry_verbosity\\\": \\\"INFO\\\", \\\"send_telemetry\\\": true, \\\"enable_dnn\\\": false, \\\"force_text_dnn\\\": false, \\\"enable_feature_sweeping\\\": true, \\\"enable_early_stopping\\\": true, \\\"early_stopping_n_iters\\\": 10, \\\"metrics\\\": null, \\\"enable_ensembling\\\": true, \\\"enable_stack_ensembling\\\": true, \\\"ensemble_iterations\\\": 15, \\\"enable_tf\\\": false, \\\"enable_cache\\\": true, \\\"enable_subsampling\\\": null, \\\"subsample_seed\\\": null, \\\"enable_nimbusml\\\": false, \\\"enable_streaming\\\": false, \\\"label_column_name\\\": \\\"Label\\\", \\\"weight_column_name\\\": null, \\\"cost_mode\\\": 0, \\\"metric_operation\\\": \\\"maximize\\\", \\\"preprocess\\\": true}\", \"DataPrepJsonString\": null, \"EnableSubsampling\": null, \"Properties\": \"[display_task_type, classification],[dependencies_versions, {\\\"azureml-widgets\\\": \\\"1.0.85.1\\\", \\\"azureml-train\\\": \\\"1.0.85\\\", \\\"azureml-train-restclients-hyperdrive\\\": \\\"1.0.85\\\", \\\"azureml-train-core\\\": \\\"1.0.85\\\", \\\"azureml-train-automl\\\": \\\"1.0.85\\\", \\\"azureml-train-automl-runtime\\\": \\\"1.0.85.5\\\", \\\"azureml-train-automl-client\\\": \\\"1.0.85.4\\\", \\\"azureml-tensorboard\\\": \\\"1.0.83\\\", \\\"azureml-telemetry\\\": \\\"1.0.85.1\\\", \\\"azureml-sdk\\\": \\\"1.0.85\\\", \\\"azureml-samples\\\": \\\"0+unknown\\\", \\\"azureml-pipeline\\\": \\\"1.0.85\\\", \\\"azureml-pipeline-steps\\\": \\\"1.0.85\\\", \\\"azureml-pipeline-core\\\": \\\"1.0.85.1\\\", \\\"azureml-opendatasets\\\": \\\"1.0.83\\\", \\\"azureml-model-management-sdk\\\": \\\"1.0.1b6.post1\\\", \\\"azureml-mlflow\\\": \\\"1.0.83\\\", \\\"azureml-interpret\\\": \\\"1.0.85\\\", \\\"azureml-explain-model\\\": \\\"1.0.85\\\", \\\"azureml-defaults\\\": \\\"1.0.85.1\\\", \\\"azureml-dataprep\\\": \\\"1.1.38\\\", \\\"azureml-dataprep-native\\\": \\\"13.2.0\\\", \\\"azureml-datadrift\\\": \\\"1.0.83\\\", \\\"azureml-core\\\": \\\"1.0.85.5\\\", \\\"azureml-contrib-services\\\": \\\"1.0.85\\\", \\\"azureml-contrib-server\\\": \\\"1.0.85\\\", \\\"azureml-contrib-reinforcementlearning\\\": \\\"1.0.83\\\", \\\"azureml-contrib-pipeline-steps\\\": \\\"1.0.85\\\", \\\"azureml-contrib-notebook\\\": \\\"1.0.85\\\", \\\"azureml-contrib-interpret\\\": \\\"1.0.83\\\", \\\"azureml-contrib-datadrift\\\": \\\"1.0.83\\\", \\\"azureml-automl-runtime\\\": \\\"1.0.85.4\\\", \\\"azureml-automl-core\\\": \\\"1.0.85.5\\\"}]\", \"runTemplate\": \"AutoML\", \"azureml.runsource\": \"automl\", \"display_task_type\": \"classification\", \"dependencies_versions\": \"{\\\"azureml-widgets\\\": \\\"1.0.85.1\\\", \\\"azureml-train\\\": \\\"1.0.85\\\", \\\"azureml-train-restclients-hyperdrive\\\": \\\"1.0.85\\\", \\\"azureml-train-core\\\": \\\"1.0.85\\\", \\\"azureml-train-automl\\\": \\\"1.0.85\\\", \\\"azureml-train-automl-runtime\\\": \\\"1.0.85.5\\\", \\\"azureml-train-automl-client\\\": \\\"1.0.85.4\\\", \\\"azureml-tensorboard\\\": \\\"1.0.83\\\", \\\"azureml-telemetry\\\": \\\"1.0.85.1\\\", \\\"azureml-sdk\\\": \\\"1.0.85\\\", \\\"azureml-samples\\\": \\\"0+unknown\\\", \\\"azureml-pipeline\\\": \\\"1.0.85\\\", \\\"azureml-pipeline-steps\\\": \\\"1.0.85\\\", \\\"azureml-pipeline-core\\\": \\\"1.0.85.1\\\", \\\"azureml-opendatasets\\\": \\\"1.0.83\\\", \\\"azureml-model-management-sdk\\\": \\\"1.0.1b6.post1\\\", \\\"azureml-mlflow\\\": \\\"1.0.83\\\", \\\"azureml-interpret\\\": \\\"1.0.85\\\", \\\"azureml-explain-model\\\": \\\"1.0.85\\\", \\\"azureml-defaults\\\": \\\"1.0.85.1\\\", \\\"azureml-dataprep\\\": \\\"1.1.38\\\", \\\"azureml-dataprep-native\\\": \\\"13.2.0\\\", \\\"azureml-datadrift\\\": \\\"1.0.83\\\", \\\"azureml-core\\\": \\\"1.0.85.5\\\", \\\"azureml-contrib-services\\\": \\\"1.0.85\\\", \\\"azureml-contrib-server\\\": \\\"1.0.85\\\", \\\"azureml-contrib-reinforcementlearning\\\": \\\"1.0.83\\\", \\\"azureml-contrib-pipeline-steps\\\": \\\"1.0.85\\\", \\\"azureml-contrib-notebook\\\": \\\"1.0.85\\\", \\\"azureml-contrib-interpret\\\": \\\"1.0.83\\\", \\\"azureml-contrib-datadrift\\\": \\\"1.0.83\\\", \\\"azureml-automl-runtime\\\": \\\"1.0.85.4\\\", \\\"azureml-automl-core\\\": \\\"1.0.85.5\\\"}\", \"ClientType\": \"SDK\", \"ClientSdkVersion\": \"1.0.85\", \"ProblemInfoJsonString\": \"{\\\"dataset_num_categorical\\\": 0, \\\"is_sparse\\\": false, \\\"subsampling\\\": false, \\\"dataset_classes\\\": 5, \\\"dataset_features\\\": 52, \\\"dataset_samples\\\": 1048300, \\\"single_frequency_class_detected\\\": false}\", \"feature_skus\": \"automatedml_sdk_guardrails\"}, \"tags\": {\"model_explain_run\": \"best_run\", \"experiment_status\": \"BestRunExplainModel\", \"experiment_status_descr\": \"Best run model explanations completed\", \"model_explain_best_run_child_id\": \"AutoML_0ba2c991-b8ef-4051-815c-017aa29e2a93_3\", \"best_score\": \"0.8809472479252122\", \"best_pipeline\": \"LightGBM\"}, \"end_time_utc\": \"2020-03-01T05:18:57.47425Z\", \"status\": \"Completed\", \"log_files\": {}, \"log_groups\": [], \"run_duration\": \"0:48:42\"}, \"child_runs\": [{\"run_id\": \"AutoML_0ba2c991-b8ef-4051-815c-017aa29e2a93_0\", \"run_number\": 2, \"metric\": null, \"status\": \"Completed\", \"run_type\": null, \"training_percent\": null, \"start_time\": \"2020-03-01T04:33:58.169548Z\", \"end_time\": \"2020-03-01T04:49:42.608412Z\", \"created_time\": \"2020-03-01T04:33:58.043174Z\", \"created_time_dt\": \"2020-03-01T04:33:58.043174Z\", \"duration\": \"0:15:44\", \"iteration\": \"0\", \"goal\": \"accuracy_max\", \"run_name\": \"MaxAbsScaler, LightGBM\", \"run_properties\": \"copy=True\", \"primary_metric\": 0.88094725, \"best_metric\": 0.88094725}, {\"run_id\": \"AutoML_0ba2c991-b8ef-4051-815c-017aa29e2a93_1\", \"run_number\": 3, \"metric\": null, \"status\": \"Completed\", \"run_type\": null, \"training_percent\": \"100\", \"start_time\": \"2020-03-01T04:49:43.854241Z\", \"end_time\": \"2020-03-01T04:52:41.256209Z\", \"created_time\": \"2020-03-01T04:49:43.729667Z\", \"created_time_dt\": \"2020-03-01T04:49:43.729667Z\", \"duration\": \"0:02:57\", \"iteration\": \"1\", \"goal\": \"accuracy_max\", \"run_name\": \"MinMaxScaler, SGD\", \"run_properties\": \"copy=True, feature_range=(0, 1\", \"primary_metric\": 0.69917104, \"best_metric\": 0.88094725}, {\"run_id\": \"AutoML_0ba2c991-b8ef-4051-815c-017aa29e2a93_2\", \"run_number\": 4, \"metric\": null, \"status\": \"Failed\", \"run_type\": null, \"training_percent\": \"100\", \"start_time\": \"2020-03-01T04:52:42.656313Z\", \"end_time\": \"2020-03-01T04:54:45.035717Z\", \"created_time\": \"2020-03-01T04:52:42.527726Z\", \"created_time_dt\": \"2020-03-01T04:52:42.527726Z\", \"duration\": \"0:02:02\", \"iteration\": \"2\", \"goal\": \"accuracy_max\", \"run_name\": \"StandardScalerWrapper, ExtremeRandomTrees\", \"run_properties\": \"\"}, {\"run_id\": \"AutoML_0ba2c991-b8ef-4051-815c-017aa29e2a93_3\", \"run_number\": 5, \"metric\": null, \"status\": \"Completed\", \"run_type\": null, \"training_percent\": \"100\", \"start_time\": \"2020-03-01T04:54:45.827904Z\", \"end_time\": \"2020-03-01T05:01:43.656651Z\", \"created_time\": \"2020-03-01T04:54:45.705605Z\", \"created_time_dt\": \"2020-03-01T04:54:45.705605Z\", \"duration\": \"0:06:57\", \"iteration\": \"3\", \"goal\": \"accuracy_max\", \"run_name\": \"VotingEnsemble\", \"run_properties\": \"classification_labels=None,\\n               estimators=[('0', Pipeline(memory=None,\\n     steps=[('maxabsscaler', MaxAbsScaler(copy=True\", \"primary_metric\": 0.88094725, \"best_metric\": 0.88094725}, {\"run_id\": \"AutoML_0ba2c991-b8ef-4051-815c-017aa29e2a93_4\", \"run_number\": 6, \"metric\": null, \"status\": \"Completed\", \"run_type\": null, \"training_percent\": \"100\", \"start_time\": \"2020-03-01T05:01:45.122124Z\", \"end_time\": \"2020-03-01T05:18:56.624523Z\", \"created_time\": \"2020-03-01T05:01:44.983683Z\", \"created_time_dt\": \"2020-03-01T05:01:44.983683Z\", \"duration\": \"0:17:11\", \"iteration\": \"4\", \"goal\": \"accuracy_max\", \"run_name\": \"StackEnsemble\", \"run_properties\": \"base_learners=[('0', Pipeline(memory=None,\\n     steps=[('maxabsscaler', MaxAbsScaler(copy=True\", \"primary_metric\": 0.88005437, \"best_metric\": 0.88094725}], \"children_metrics\": {\"categories\": [0], \"series\": {\"log_loss\": [{\"categories\": [\"0\", \"1\", \"3\", \"4\"], \"mode\": \"markers\", \"name\": \"log_loss\", \"stepped\": false, \"type\": \"scatter\", \"data\": [0.35204588343343785, 2.4991707690759193, 0.35204588343343785, 0.4503911181293748]}, {\"categories\": [\"0\", \"1\", \"3\", \"4\"], \"mode\": \"lines\", \"name\": \"log_loss_min\", \"stepped\": true, \"type\": \"scatter\", \"data\": [0.35204588343343785, 0.35204588343343785, 0.35204588343343785, 0.35204588343343785]}], \"AUC_macro\": [{\"categories\": [\"0\", \"1\", \"3\", \"4\"], \"mode\": \"markers\", \"name\": \"AUC_macro\", \"stepped\": false, \"type\": \"scatter\", \"data\": [0.9756528186318765, 0.8324844258621364, 0.9756528186318765, 0.9741041491022603]}, {\"categories\": [\"0\", \"1\", \"3\", \"4\"], \"mode\": \"lines\", \"name\": \"AUC_macro_max\", \"stepped\": true, \"type\": \"scatter\", \"data\": [0.9756528186318765, 0.9756528186318765, 0.9756528186318765, 0.9756528186318765]}], \"f1_score_weighted\": [{\"categories\": [\"0\", \"1\", \"3\", \"4\"], \"mode\": \"markers\", \"name\": \"f1_score_weighted\", \"stepped\": false, \"type\": \"scatter\", \"data\": [0.8774507510700535, 0.6354414066109911, 0.8774507510700535, 0.8762892682814816]}, {\"categories\": [\"0\", \"1\", \"3\", \"4\"], \"mode\": \"lines\", \"name\": \"f1_score_weighted_max\", \"stepped\": true, \"type\": \"scatter\", \"data\": [0.8774507510700535, 0.8774507510700535, 0.8774507510700535, 0.8774507510700535]}], \"AUC_micro\": [{\"categories\": [\"0\", \"1\", \"3\", \"4\"], \"mode\": \"markers\", \"name\": \"AUC_micro\", \"stepped\": false, \"type\": \"scatter\", \"data\": [0.9847295688945573, 0.8983250536845795, 0.9847295688945573, 0.9749966149650413]}, {\"categories\": [\"0\", \"1\", \"3\", \"4\"], \"mode\": \"lines\", \"name\": \"AUC_micro_max\", \"stepped\": true, \"type\": \"scatter\", \"data\": [0.9847295688945573, 0.9847295688945573, 0.9847295688945573, 0.9847295688945573]}], \"f1_score_micro\": [{\"categories\": [\"0\", \"1\", \"3\", \"4\"], \"mode\": \"markers\", \"name\": \"f1_score_micro\", \"stepped\": false, \"type\": \"scatter\", \"data\": [0.8809472479252122, 0.6991710388247638, 0.8809472479252122, 0.880054373747973]}, {\"categories\": [\"0\", \"1\", \"3\", \"4\"], \"mode\": \"lines\", \"name\": \"f1_score_micro_max\", \"stepped\": true, \"type\": \"scatter\", \"data\": [0.8809472479252122, 0.8809472479252122, 0.8809472479252122, 0.8809472479252122]}], \"f1_score_macro\": [{\"categories\": [\"0\", \"1\", \"3\", \"4\"], \"mode\": \"markers\", \"name\": \"f1_score_macro\", \"stepped\": false, \"type\": \"scatter\", \"data\": [0.823423775104132, 0.44637856738811416, 0.823423775104132, 0.8243429152613164]}, {\"categories\": [\"0\", \"1\", \"3\", \"4\"], \"mode\": \"lines\", \"name\": \"f1_score_macro_max\", \"stepped\": true, \"type\": \"scatter\", \"data\": [0.823423775104132, 0.823423775104132, 0.823423775104132, 0.8243429152613164]}], \"recall_score_macro\": [{\"categories\": [\"0\", \"1\", \"3\", \"4\"], \"mode\": \"markers\", \"name\": \"recall_score_macro\", \"stepped\": false, \"type\": \"scatter\", \"data\": [0.8085413822090338, 0.49166931798333635, 0.8085413822090338, 0.8060930603654322]}, {\"categories\": [\"0\", \"1\", \"3\", \"4\"], \"mode\": \"lines\", \"name\": \"recall_score_macro_max\", \"stepped\": true, \"type\": \"scatter\", \"data\": [0.8085413822090338, 0.8085413822090338, 0.8085413822090338, 0.8085413822090338]}], \"recall_score_weighted\": [{\"categories\": [\"0\", \"1\", \"3\", \"4\"], \"mode\": \"markers\", \"name\": \"recall_score_weighted\", \"stepped\": false, \"type\": \"scatter\", \"data\": [0.8809472479252122, 0.6991710388247638, 0.8809472479252122, 0.880054373747973]}, {\"categories\": [\"0\", \"1\", \"3\", \"4\"], \"mode\": \"lines\", \"name\": \"recall_score_weighted_max\", \"stepped\": true, \"type\": \"scatter\", \"data\": [0.8809472479252122, 0.8809472479252122, 0.8809472479252122, 0.8809472479252122]}], \"average_precision_score_micro\": [{\"categories\": [\"0\", \"1\", \"3\", \"4\"], \"mode\": \"markers\", \"name\": \"average_precision_score_micro\", \"stepped\": false, \"type\": \"scatter\", \"data\": [0.9503371192909773, 0.7457860057541916, 0.9503371192909773, 0.9307407367873237]}, {\"categories\": [\"0\", \"1\", \"3\", \"4\"], \"mode\": \"lines\", \"name\": \"average_precision_score_micro_max\", \"stepped\": true, \"type\": \"scatter\", \"data\": [0.9503371192909773, 0.9503371192909773, 0.9503371192909773, 0.9503371192909773]}], \"AUC_weighted\": [{\"categories\": [\"0\", \"1\", \"3\", \"4\"], \"mode\": \"markers\", \"name\": \"AUC_weighted\", \"stepped\": false, \"type\": \"scatter\", \"data\": [0.9814712695384971, 0.8732272801612859, 0.9814712695384971, 0.9805594782663192]}, {\"categories\": [\"0\", \"1\", \"3\", \"4\"], \"mode\": \"lines\", \"name\": \"AUC_weighted_max\", \"stepped\": true, \"type\": \"scatter\", \"data\": [0.9814712695384971, 0.9814712695384971, 0.9814712695384971, 0.9814712695384971]}], \"precision_score_micro\": [{\"categories\": [\"0\", \"1\", \"3\", \"4\"], \"mode\": \"markers\", \"name\": \"precision_score_micro\", \"stepped\": false, \"type\": \"scatter\", \"data\": [0.8809472479252122, 0.6991710388247638, 0.8809472479252122, 0.880054373747973]}, {\"categories\": [\"0\", \"1\", \"3\", \"4\"], \"mode\": \"lines\", \"name\": \"precision_score_micro_max\", \"stepped\": true, \"type\": \"scatter\", \"data\": [0.8809472479252122, 0.8809472479252122, 0.8809472479252122, 0.8809472479252122]}], \"accuracy\": [{\"categories\": [\"0\", \"1\", \"3\", \"4\"], \"mode\": \"markers\", \"name\": \"accuracy\", \"stepped\": false, \"type\": \"scatter\", \"data\": [0.8809472479252122, 0.6991710388247638, 0.8809472479252122, 0.880054373747973]}, {\"categories\": [\"0\", \"1\", \"3\", \"4\"], \"mode\": \"lines\", \"name\": \"accuracy_max\", \"stepped\": true, \"type\": \"scatter\", \"data\": [0.8809472479252122, 0.8809472479252122, 0.8809472479252122, 0.8809472479252122]}], \"weighted_accuracy\": [{\"categories\": [\"0\", \"1\", \"3\", \"4\"], \"mode\": \"markers\", \"name\": \"weighted_accuracy\", \"stepped\": false, \"type\": \"scatter\", \"data\": [0.9476015214419619, 0.8901387630016337, 0.9476015214419619, 0.948088832140626]}, {\"categories\": [\"0\", \"1\", \"3\", \"4\"], \"mode\": \"lines\", \"name\": \"weighted_accuracy_max\", \"stepped\": true, \"type\": \"scatter\", \"data\": [0.9476015214419619, 0.9476015214419619, 0.9476015214419619, 0.948088832140626]}], \"precision_score_weighted\": [{\"categories\": [\"0\", \"1\", \"3\", \"4\"], \"mode\": \"markers\", \"name\": \"precision_score_weighted\", \"stepped\": false, \"type\": \"scatter\", \"data\": [0.8779582509726229, 0.6423984997691692, 0.8779582509726229, 0.8766458158978127]}, {\"categories\": [\"0\", \"1\", \"3\", \"4\"], \"mode\": \"lines\", \"name\": \"precision_score_weighted_max\", \"stepped\": true, \"type\": \"scatter\", \"data\": [0.8779582509726229, 0.8779582509726229, 0.8779582509726229, 0.8779582509726229]}], \"matthews_correlation\": [{\"categories\": [\"0\", \"1\", \"3\", \"4\"], \"mode\": \"markers\", \"name\": \"matthews_correlation\", \"stepped\": false, \"type\": \"scatter\", \"data\": [0.8182590255610348, 0.5344824036454396, 0.8182590255610348, 0.8164846311494381]}, {\"categories\": [\"0\", \"1\", \"3\", \"4\"], \"mode\": \"lines\", \"name\": \"matthews_correlation_max\", \"stepped\": true, \"type\": \"scatter\", \"data\": [0.8182590255610348, 0.8182590255610348, 0.8182590255610348, 0.8182590255610348]}], \"average_precision_score_macro\": [{\"categories\": [\"0\", \"1\", \"3\", \"4\"], \"mode\": \"markers\", \"name\": \"average_precision_score_macro\", \"stepped\": false, \"type\": \"scatter\", \"data\": [0.8930125867893652, 0.48030549356483376, 0.8930125867893652, 0.8929637293878898]}, {\"categories\": [\"0\", \"1\", \"3\", \"4\"], \"mode\": \"lines\", \"name\": \"average_precision_score_macro_max\", \"stepped\": true, \"type\": \"scatter\", \"data\": [0.8930125867893652, 0.8930125867893652, 0.8930125867893652, 0.8930125867893652]}], \"balanced_accuracy\": [{\"categories\": [\"0\", \"1\", \"3\", \"4\"], \"mode\": \"markers\", \"name\": \"balanced_accuracy\", \"stepped\": false, \"type\": \"scatter\", \"data\": [0.8085413822090338, 0.49166931798333635, 0.8085413822090338, 0.8060930603654322]}, {\"categories\": [\"0\", \"1\", \"3\", \"4\"], \"mode\": \"lines\", \"name\": \"balanced_accuracy_max\", \"stepped\": true, \"type\": \"scatter\", \"data\": [0.8085413822090338, 0.8085413822090338, 0.8085413822090338, 0.8085413822090338]}], \"norm_macro_recall\": [{\"categories\": [\"0\", \"1\", \"3\", \"4\"], \"mode\": \"markers\", \"name\": \"norm_macro_recall\", \"stepped\": false, \"type\": \"scatter\", \"data\": [0.760676727761292, 0.36458664747917047, 0.760676727761292, 0.7576163254567903]}, {\"categories\": [\"0\", \"1\", \"3\", \"4\"], \"mode\": \"lines\", \"name\": \"norm_macro_recall_max\", \"stepped\": true, \"type\": \"scatter\", \"data\": [0.760676727761292, 0.760676727761292, 0.760676727761292, 0.760676727761292]}], \"precision_score_macro\": [{\"categories\": [\"0\", \"1\", \"3\", \"4\"], \"mode\": \"markers\", \"name\": \"precision_score_macro\", \"stepped\": false, \"type\": \"scatter\", \"data\": [0.84382301249122, 0.5116653194716213, 0.84382301249122, 0.8478710626056524]}, {\"categories\": [\"0\", \"1\", \"3\", \"4\"], \"mode\": \"lines\", \"name\": \"precision_score_macro_max\", \"stepped\": true, \"type\": \"scatter\", \"data\": [0.84382301249122, 0.84382301249122, 0.84382301249122, 0.8478710626056524]}], \"recall_score_micro\": [{\"categories\": [\"0\", \"1\", \"3\", \"4\"], \"mode\": \"markers\", \"name\": \"recall_score_micro\", \"stepped\": false, \"type\": \"scatter\", \"data\": [0.8809472479252122, 0.6991710388247638, 0.8809472479252122, 0.880054373747973]}, {\"categories\": [\"0\", \"1\", \"3\", \"4\"], \"mode\": \"lines\", \"name\": \"recall_score_micro_max\", \"stepped\": true, \"type\": \"scatter\", \"data\": [0.8809472479252122, 0.8809472479252122, 0.8809472479252122, 0.8809472479252122]}], \"average_precision_score_weighted\": [{\"categories\": [\"0\", \"1\", \"3\", \"4\"], \"mode\": \"markers\", \"name\": \"average_precision_score_weighted\", \"stepped\": false, \"type\": \"scatter\", \"data\": [0.9330768897816526, 0.6551720009118001, 0.9330768897816526, 0.9331010122681496]}, {\"categories\": [\"0\", \"1\", \"3\", \"4\"], \"mode\": \"lines\", \"name\": \"average_precision_score_weighted_max\", \"stepped\": true, \"type\": \"scatter\", \"data\": [0.9330768897816526, 0.9330768897816526, 0.9330768897816526, 0.9331010122681496]}]}, \"metricName\": null, \"primaryMetricName\": \"accuracy\", \"showLegend\": false}, \"run_metrics\": [], \"run_logs\": \"\\nRun is completed.\", \"graph\": {}, \"widget_settings\": {\"childWidgetDisplay\": \"popup\", \"send_telemetry\": false, \"log_level\": \"INFO\", \"sdk_version\": \"1.0.85\"}, \"loading\": false}"
     },
     "metadata": {},
     "output_type": "display_data"
    }
   ],
   "source": [
    "# Run the Widget to best view Model Results\n",
    "from azureml.widgets import RunDetails\n",
    "RunDetails(local_run).show() "
   ]
  },
  {
   "cell_type": "code",
   "execution_count": 44,
   "metadata": {},
   "outputs": [
    {
     "name": "stdout",
     "output_type": "stream",
     "text": [
      "0.5302108175140704\n"
     ]
    }
   ],
   "source": [
    "# Compare your results to the default model accuracy.  This is the number to beat.  Pick one depending on your Problem.\n",
    "\n",
    "# For Classification problems, the default model accuracy is simply predicting the most common class every time.\n",
    "Default_Model_Accuracy = trainTransformedDF[trainTransformedDF.Label=='Default Layer'].Label.count()/trainTransformedDF.Label.count()\n",
    "print(Default_Model_Accuracy)"
   ]
  },
  {
   "cell_type": "code",
   "execution_count": 45,
   "metadata": {},
   "outputs": [],
   "source": [
    "# Compare your results to the default model accuracy.  This is the number to beat.  Pick one depending on your Problem.\n",
    "\n",
    "# For Regression problems, the default model score is rmse if you predict the average.\n",
    "#trainTransformedDF['DefaultPrediction'] = np.mean(trainTransformedDF.MyPredictionColumn)\n",
    "#trainTransformedDF['SquaredError'] = (trainTransformedDF['MyPredictionColumn'] - trainTransformedDF['DefaultPrediction'])**2\n",
    "#Default_Model_RMSE = np.mean(trainTransformedDF.SquaredError)\n",
    "#print(Default_Model_RMSE)"
   ]
  },
  {
   "cell_type": "markdown",
   "metadata": {},
   "source": [
    "## Obtain and Register Model to Machine Learning Work Space\n",
    "Next up is retrieving your model and registering it to your workspace.  Registering your model lets you deploy it, run it in pipelines, and store it for later use."
   ]
  },
  {
   "cell_type": "markdown",
   "metadata": {},
   "source": [
    "### Download your scoring file and your environment file to your local notebook.\n",
    "To deploy models, Azure ML requires a scoring script to make predictions on new data using your model.  It also requires an environment file containing all of the packages required to run your scoring script.  Here, we retrieve both of these from Auto_ML's get_output() function and write them to our local VM."
   ]
  },
  {
   "cell_type": "code",
   "execution_count": 46,
   "metadata": {},
   "outputs": [],
   "source": [
    "best_local_run, fitted_local_model = local_run.get_output()"
   ]
  },
  {
   "cell_type": "code",
   "execution_count": 47,
   "metadata": {},
   "outputs": [],
   "source": [
    "# Create a Directory to your store your files first\n",
    "inference_folder = os.path.join(os.getcwd(), 'inference')\n",
    "os.makedirs(inference_folder, exist_ok=True)\n",
    "\n",
    "# Specify names for your scoring scrip and environment file\n",
    "script_file_name_local = 'inference/score_local.py'\n",
    "environment_file_name_local = 'inference/AutoML_local.yml'\n",
    "\n",
    "# Download the files locally\n",
    "best_local_run.download_file('outputs/scoring_file_v_1_0_0.py', script_file_name_local)\n",
    "best_local_run.download_file('outputs/conda_env_v_1_0_0.yml', environment_file_name_local)"
   ]
  },
  {
   "cell_type": "code",
   "execution_count": 48,
   "metadata": {},
   "outputs": [
    {
     "name": "stdout",
     "output_type": "stream",
     "text": [
      "AutoML0ba2c991b3\n"
     ]
    }
   ],
   "source": [
    "# Give a meaningful description and tags to your autoML model\n",
    "description = 'AutoML Model trained on Ancient River data to predict Geographic Layer Type'\n",
    "tags = {'project': \"Ancient Rivers\", 'type': \"Classification\", 'mltype':\"AutoML\", 'notes':\"AutoRegressive\"}\n",
    "\n",
    "# Retrieve the model_name from the autoML run\n",
    "model_name_local = best_local_run.properties['model_name']\n",
    "\n",
    "# Register your model, set tags and description\n",
    "model_local = local_run.register_model(model_name = model_name_local, description = description, tags = tags)\n",
    "\n",
    "# Print the Model ID\n",
    "print(local_run.model_id)"
   ]
  },
  {
   "cell_type": "code",
   "execution_count": 50,
   "metadata": {},
   "outputs": [
    {
     "data": {
      "text/plain": [
       "{\n",
       "    \"name\": \"automl-environment-local\",\n",
       "    \"version\": \"1\",\n",
       "    \"environmentVariables\": {\n",
       "        \"EXAMPLE_ENV_VAR\": \"EXAMPLE_VALUE\"\n",
       "    },\n",
       "    \"python\": {\n",
       "        \"userManagedDependencies\": false,\n",
       "        \"interpreterPath\": \"python\",\n",
       "        \"condaDependenciesFile\": null,\n",
       "        \"baseCondaEnvironment\": null,\n",
       "        \"condaDependencies\": {\n",
       "            \"channels\": [\n",
       "                \"conda-forge\"\n",
       "            ],\n",
       "            \"dependencies\": [\n",
       "                \"python=3.6.2\",\n",
       "                {\n",
       "                    \"pip\": [\n",
       "                        \"azureml-train-automl-runtime==1.0.85.5\",\n",
       "                        \"inference-schema\",\n",
       "                        \"azureml-explain-model==1.0.85\",\n",
       "                        \"azureml-defaults==1.0.85.1\"\n",
       "                    ]\n",
       "                },\n",
       "                \"numpy>=1.16.0,<=1.16.2\",\n",
       "                \"pandas>=0.21.0,<=0.23.4\",\n",
       "                \"scikit-learn>=0.19.0,<=0.20.3\",\n",
       "                \"py-xgboost<=0.80\",\n",
       "                \"fbprophet==0.5\",\n",
       "                \"psutil>=5.2.2,<6.0.0\"\n",
       "            ],\n",
       "            \"name\": \"azureml_c28e5849b99a3505dc34dfaf678707a8\"\n",
       "        }\n",
       "    },\n",
       "    \"docker\": {\n",
       "        \"enabled\": false,\n",
       "        \"baseImage\": \"mcr.microsoft.com/azureml/base:intelmpi2018.3-ubuntu16.04\",\n",
       "        \"baseDockerfile\": null,\n",
       "        \"sharedVolumes\": true,\n",
       "        \"shmSize\": null,\n",
       "        \"arguments\": [],\n",
       "        \"baseImageRegistry\": {\n",
       "            \"address\": null,\n",
       "            \"username\": null,\n",
       "            \"password\": null\n",
       "        }\n",
       "    },\n",
       "    \"spark\": {\n",
       "        \"repositories\": [],\n",
       "        \"packages\": [],\n",
       "        \"precachePackages\": true\n",
       "    },\n",
       "    \"databricks\": {\n",
       "        \"mavenLibraries\": [],\n",
       "        \"pypiLibraries\": [],\n",
       "        \"rcranLibraries\": [],\n",
       "        \"jarLibraries\": [],\n",
       "        \"eggLibraries\": []\n",
       "    },\n",
       "    \"inferencingStackVersion\": null\n",
       "}"
      ]
     },
     "execution_count": 50,
     "metadata": {},
     "output_type": "execute_result"
    }
   ],
   "source": [
    "# Create an environment to register and give it a name\n",
    "autoMLenv_local = Environment.from_conda_specification(name = \"automl-environment-local\",\n",
    "                                             file_path = environment_file_name_local)\n",
    "\n",
    "# Register the environment to your workspace\n",
    "autoMLenv_local.register(workspace=ws)"
   ]
  },
  {
   "cell_type": "code",
   "execution_count": null,
   "metadata": {},
   "outputs": [],
   "source": []
  }
 ],
 "metadata": {
  "kernelspec": {
   "display_name": "Python 3.6 - AzureML",
   "language": "python",
   "name": "python3-azureml"
  },
  "language_info": {
   "codemirror_mode": {
    "name": "ipython",
    "version": 3
   },
   "file_extension": ".py",
   "mimetype": "text/x-python",
   "name": "python",
   "nbconvert_exporter": "python",
   "pygments_lexer": "ipython3",
   "version": "3.6.9"
  }
 },
 "nbformat": 4,
 "nbformat_minor": 2
}

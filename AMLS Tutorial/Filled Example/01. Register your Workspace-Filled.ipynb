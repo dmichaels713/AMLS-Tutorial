{
 "cells": [
  {
   "cell_type": "markdown",
   "metadata": {},
   "source": [
    "# Set up a workspace\n",
    "Your workspace is your top-level resource for Azure Machine Learning, providing a centralized place to work with all the artifacts you create when you use Azure Machine Learning. The workspace keeps a history of all training runs, including logs, metrics, output, and a snapshot of your scripts. You use this information to determine which training run produces the best model.\n",
    "\n",
    "To learn more, click here:  https://docs.microsoft.com/en-us/azure/machine-learning/concept-workspace"
   ]
  },
  {
   "cell_type": "code",
   "execution_count": 1,
   "metadata": {},
   "outputs": [
    {
     "name": "stdout",
     "output_type": "stream",
     "text": [
      "This notebook was created using version <TYPE IN FIRST VERSION USED HERE> of the Azure ML SDK\n",
      "You are currently using version 1.0.85 of the Azure ML SDK\n"
     ]
    }
   ],
   "source": [
    "# Type in the first version of the Azure ML SDK you are using after running this cell the first time\n",
    "import azureml.core\n",
    "\n",
    "print(\"This notebook was created using version <TYPE IN FIRST VERSION USED HERE> of the Azure ML SDK\")\n",
    "print(\"You are currently using version\", azureml.core.VERSION, \"of the Azure ML SDK\")"
   ]
  },
  {
   "cell_type": "code",
   "execution_count": 2,
   "metadata": {},
   "outputs": [],
   "source": [
    "from azureml.core.workspace import Workspace\n",
    "from azureml.core.authentication import InteractiveLoginAuthentication\n",
    "import pandas as pd\n",
    "import numpy as np\n",
    "import json\n",
    "import os"
   ]
  },
  {
   "cell_type": "code",
   "execution_count": 3,
   "metadata": {},
   "outputs": [],
   "source": [
    "# Create a workspace from your configurations\n",
    "ws = Workspace.from_config()"
   ]
  },
  {
   "cell_type": "code",
   "execution_count": 4,
   "metadata": {},
   "outputs": [],
   "source": [
    "# Alternatively, specify your workspace by filling in the lower case values between double quotes \"\"\n",
    "# You will have to complete an interactive sign-in\n",
    "\n",
    "subscription_id = os.getenv(\"SUBSCRIPTION_ID\", default=\"47a7ec0c-37ad-428b-9114-b87ea1057632\")\n",
    "resource_group = os.getenv(\"RESOURCE_GROUP\", default=\"xeek-ancient-rivers\")\n",
    "workspace_name = os.getenv(\"WORKSPACE_NAME\", default=\"ancient-rivers-ml-workspace\")\n",
    "workspace_region = os.getenv(\"WORKSPACE_REGION\", default=\"eastus\")"
   ]
  },
  {
   "cell_type": "code",
   "execution_count": null,
   "metadata": {},
   "outputs": [],
   "source": [
    "# Create a workspace with the four fields\n",
    "try:\n",
    "    ws = Workspace(subscription_id = subscription_id, resource_group = resource_group, workspace_name = workspace_name)\n",
    "    print(\"Workspace configuration succeeded. Skip the workspace creation steps below\")\n",
    "except:\n",
    "    print(\"Workspace not accessible. Change your parameters or create a new workspace below\")"
   ]
  },
  {
   "cell_type": "code",
   "execution_count": 5,
   "metadata": {},
   "outputs": [],
   "source": [
    "# If you work with multiple tenants, add in one additional parameter to specify your tenant id\n",
    "interactive_auth = InteractiveLoginAuthentication(tenant_id=\"72f988bf-86f1-41af-91ab-2d7cd011db47\")"
   ]
  },
  {
   "cell_type": "code",
   "execution_count": 7,
   "metadata": {},
   "outputs": [
    {
     "name": "stdout",
     "output_type": "stream",
     "text": [
      "Workspace configuration succeeded. Skip the workspace creation steps below\n"
     ]
    }
   ],
   "source": [
    "# Create a workspace with the additional tenant field\n",
    "try:\n",
    "    ws = Workspace(auth = interactive_auth, subscription_id = subscription_id, resource_group = resource_group, \n",
    "                    workspace_name = workspace_name)\n",
    "    print(\"Workspace configuration succeeded. Skip the workspace creation steps below\")\n",
    "except:\n",
    "    print(\"Workspace not accessible. Change your parameters or create a new workspace below\")"
   ]
  },
  {
   "cell_type": "code",
   "execution_count": null,
   "metadata": {},
   "outputs": [],
   "source": [
    "# For greater security, you can also authenticate with a service principal\n",
    "sp = ServicePrincipalAuthentication(tenant_id=\"<your-tenant-id>\", # tenantID\n",
    "                                    service_principal_id=\"<your-client-id>\", # clientId\n",
    "                                    service_principal_password=\"<your-client-secret>\") # clientSecret"
   ]
  },
  {
   "cell_type": "code",
   "execution_count": 9,
   "metadata": {},
   "outputs": [
    {
     "name": "stdout",
     "output_type": "stream",
     "text": [
      "Workspace not accessible. Change your parameters or create a new workspace below\n"
     ]
    }
   ],
   "source": [
    "# Create a workspace with a service principal\n",
    "try:\n",
    "    ws = Workspace(auth = sp, subscription_id = subscription_id, resource_group = resource_group, \n",
    "                    workspace_name = workspace_name)\n",
    "    print(\"Workspace configuration succeeded. Skip the workspace creation steps below\")\n",
    "except:\n",
    "    print(\"Workspace not accessible. Change your parameters or create a new workspace below\")"
   ]
  },
  {
   "cell_type": "code",
   "execution_count": 8,
   "metadata": {},
   "outputs": [
    {
     "name": "stdout",
     "output_type": "stream",
     "text": [
      "{\n",
      "    \"applicationInsights\": \"/subscriptions/47a7ec0c-37ad-428b-9114-b87ea1057632/resourcegroups/xeek-ancient-rivers/providers/microsoft.insights/components/ancientriversm7955191869\",\n",
      "    \"containerRegistry\": \"/subscriptions/47a7ec0c-37ad-428b-9114-b87ea1057632/resourceGroups/xeek-ancient-rivers/providers/Microsoft.ContainerRegistry/registries/ancientriverd4d046d4\",\n",
      "    \"creationTime\": \"2019-12-28T01:34:43.7165223+00:00\",\n",
      "    \"description\": \"\",\n",
      "    \"friendlyName\": \"\",\n",
      "    \"hbiWorkspace\": false,\n",
      "    \"id\": \"/subscriptions/47a7ec0c-37ad-428b-9114-b87ea1057632/resourceGroups/xeek-ancient-rivers/providers/Microsoft.MachineLearningServices/workspaces/ancient-rivers-ml-workspace\",\n",
      "    \"identityPrincipalId\": \"b1fcbbdd-83b0-4676-a5b6-d8dcdde95588\",\n",
      "    \"identityTenantId\": \"72f988bf-86f1-41af-91ab-2d7cd011db47\",\n",
      "    \"identityType\": \"SystemAssigned\",\n",
      "    \"keyVault\": \"/subscriptions/47a7ec0c-37ad-428b-9114-b87ea1057632/resourcegroups/xeek-ancient-rivers/providers/microsoft.keyvault/vaults/ancientriversm7940862972\",\n",
      "    \"location\": \"eastus\",\n",
      "    \"name\": \"ancient-rivers-ml-workspace\",\n",
      "    \"sku\": \"Enterprise\",\n",
      "    \"storageAccount\": \"/subscriptions/47a7ec0c-37ad-428b-9114-b87ea1057632/resourcegroups/xeek-ancient-rivers/providers/microsoft.storage/storageaccounts/ancientriversm8752540079\",\n",
      "    \"tags\": {},\n",
      "    \"type\": \"Microsoft.MachineLearningServices/workspaces\",\n",
      "    \"workspaceid\": \"b93cf633-ab3d-4547-b47c-768fdeb85e29\"\n",
      "}\n"
     ]
    },
    {
     "data": {
      "text/html": [
       "<div>\n",
       "<style scoped>\n",
       "    .dataframe tbody tr th:only-of-type {\n",
       "        vertical-align: middle;\n",
       "    }\n",
       "\n",
       "    .dataframe tbody tr th {\n",
       "        vertical-align: top;\n",
       "    }\n",
       "\n",
       "    .dataframe thead th {\n",
       "        text-align: right;\n",
       "    }\n",
       "</style>\n",
       "<table border=\"1\" class=\"dataframe\">\n",
       "  <thead>\n",
       "    <tr style=\"text-align: right;\">\n",
       "      <th></th>\n",
       "      <th></th>\n",
       "    </tr>\n",
       "  </thead>\n",
       "  <tbody>\n",
       "    <tr>\n",
       "      <th>SDK version</th>\n",
       "      <td>1.0.85</td>\n",
       "    </tr>\n",
       "    <tr>\n",
       "      <th>Subscription ID</th>\n",
       "      <td>47a7ec0c-37ad-428b-9114-b87ea1057632</td>\n",
       "    </tr>\n",
       "    <tr>\n",
       "      <th>Workspace</th>\n",
       "      <td>ancient-rivers-ml-workspace</td>\n",
       "    </tr>\n",
       "    <tr>\n",
       "      <th>Resource Group</th>\n",
       "      <td>xeek-ancient-rivers</td>\n",
       "    </tr>\n",
       "    <tr>\n",
       "      <th>Location</th>\n",
       "      <td>eastus</td>\n",
       "    </tr>\n",
       "  </tbody>\n",
       "</table>\n",
       "</div>"
      ],
      "text/plain": [
       "                                                     \n",
       "SDK version      1.0.85                              \n",
       "Subscription ID  47a7ec0c-37ad-428b-9114-b87ea1057632\n",
       "Workspace        ancient-rivers-ml-workspace         \n",
       "Resource Group   xeek-ancient-rivers                 \n",
       "Location         eastus                              "
      ]
     },
     "execution_count": 8,
     "metadata": {},
     "output_type": "execute_result"
    }
   ],
   "source": [
    "# Create a nice table to see your workspace information\n",
    "wsoutput = {}\n",
    "wsoutput['SDK version'] = azureml.core.VERSION\n",
    "wsoutput['Subscription ID'] = ws.subscription_id\n",
    "wsoutput['Workspace'] = ws.name\n",
    "wsoutput['Resource Group'] = ws.resource_group\n",
    "wsoutput['Location'] = ws.location\n",
    "pd.set_option('display.max_colwidth', -1)\n",
    "wsoutputDf = pd.DataFrame(data = wsoutput, index = [''])\n",
    "\n",
    "# Print out all of the workspace details in JSON format\n",
    "wsdetails = ws.get_details()\n",
    "print(json.dumps(wsdetails, indent=4, sort_keys=True))\n",
    "\n",
    "# write the details of the workspace to a configuration file to the notebook library\n",
    "ws.write_config()\n",
    "\n",
    "wsoutputDf.T"
   ]
  },
  {
   "cell_type": "code",
   "execution_count": null,
   "metadata": {},
   "outputs": [],
   "source": []
  }
 ],
 "metadata": {
  "kernelspec": {
   "display_name": "Python 3.6 - AzureML",
   "language": "python",
   "name": "python3-azureml"
  },
  "language_info": {
   "codemirror_mode": {
    "name": "ipython",
    "version": 3
   },
   "file_extension": ".py",
   "mimetype": "text/x-python",
   "name": "python",
   "nbconvert_exporter": "python",
   "pygments_lexer": "ipython3",
   "version": "3.6.9"
  }
 },
 "nbformat": 4,
 "nbformat_minor": 2
}

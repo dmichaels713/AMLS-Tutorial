{
 "cells": [
  {
   "cell_type": "markdown",
   "metadata": {},
   "source": [
    "#  Update your AMLS To Latest Version\n",
    "When you are developing in Azure Machine Learning Service, you should always make sure you are using the latest version of the SDK.  \n",
    "You should also document which version you used during development so you can freeze the version during production deployment.\n",
    "\n",
    "Run this notebook once to install the latest versions and to record which versions you are using."
   ]
  },
  {
   "cell_type": "code",
   "execution_count": 24,
   "metadata": {},
   "outputs": [
    {
     "name": "stdout",
     "output_type": "stream",
     "text": [
      "You are currently using version 1.0.83 of the Azure ML SDK\n"
     ]
    }
   ],
   "source": [
    "# Check the base version of AzureMl\n",
    "import azureml.core\n",
    "print(\"You are currently using version \" + azureml.core.VERSION + \" of the Azure ML SDK\")"
   ]
  },
  {
   "cell_type": "code",
   "execution_count": 25,
   "metadata": {},
   "outputs": [
    {
     "name": "stdout",
     "output_type": "stream",
     "text": [
      "Requirement already up-to-date: azureml-sdk in /anaconda/envs/azureml_py36/lib/python3.6/site-packages (1.0.85)\n",
      "Requirement already satisfied, skipping upgrade: azureml-train-automl-client==1.0.85.* in /anaconda/envs/azureml_py36/lib/python3.6/site-packages (from azureml-sdk) (1.0.85.4)\n",
      "Requirement already satisfied, skipping upgrade: azureml-dataprep[fuse]<1.2.0a,>=1.1.37a in /anaconda/envs/azureml_py36/lib/python3.6/site-packages (from azureml-sdk) (1.1.38)\n",
      "Requirement already satisfied, skipping upgrade: azureml-core==1.0.85.* in /anaconda/envs/azureml_py36/lib/python3.6/site-packages (from azureml-sdk) (1.0.85.5)\n",
      "Requirement already satisfied, skipping upgrade: azureml-pipeline==1.0.85.* in /anaconda/envs/azureml_py36/lib/python3.6/site-packages (from azureml-sdk) (1.0.85)\n",
      "Requirement already satisfied, skipping upgrade: azureml-train==1.0.85.* in /anaconda/envs/azureml_py36/lib/python3.6/site-packages (from azureml-sdk) (1.0.85)\n",
      "Requirement already satisfied, skipping upgrade: azureml-automl-core==1.0.85.* in /anaconda/envs/azureml_py36/lib/python3.6/site-packages (from azureml-train-automl-client==1.0.85.*->azureml-sdk) (1.0.85.5)\n",
      "Requirement already satisfied, skipping upgrade: azureml-telemetry==1.0.85.* in /anaconda/envs/azureml_py36/lib/python3.6/site-packages (from azureml-train-automl-client==1.0.85.*->azureml-sdk) (1.0.85.1)\n",
      "Requirement already satisfied, skipping upgrade: pytz in /anaconda/envs/azureml_py36/lib/python3.6/site-packages (from azureml-train-automl-client==1.0.85.*->azureml-sdk) (2019.3)\n",
      "Requirement already satisfied, skipping upgrade: cloudpickle>=1.1.0 in /anaconda/envs/azureml_py36/lib/python3.6/site-packages (from azureml-dataprep[fuse]<1.2.0a,>=1.1.37a->azureml-sdk) (1.2.2)\n",
      "Requirement already satisfied, skipping upgrade: azureml-dataprep-native<14.0.0,>=13.2.0 in /anaconda/envs/azureml_py36/lib/python3.6/site-packages (from azureml-dataprep[fuse]<1.2.0a,>=1.1.37a->azureml-sdk) (13.2.0)\n",
      "Requirement already satisfied, skipping upgrade: dotnetcore2>=2.1.9 in /anaconda/envs/azureml_py36/lib/python3.6/site-packages (from azureml-dataprep[fuse]<1.2.0a,>=1.1.37a->azureml-sdk) (2.1.11)\n",
      "Requirement already satisfied, skipping upgrade: fusepy>=3.0.1; extra == \"fuse\" in /anaconda/envs/azureml_py36/lib/python3.6/site-packages (from azureml-dataprep[fuse]<1.2.0a,>=1.1.37a->azureml-sdk) (3.0.1)\n",
      "Requirement already satisfied, skipping upgrade: pathspec in /anaconda/envs/azureml_py36/lib/python3.6/site-packages (from azureml-core==1.0.85.*->azureml-sdk) (0.7.0)\n",
      "Requirement already satisfied, skipping upgrade: pyopenssl in /anaconda/envs/azureml_py36/lib/python3.6/site-packages (from azureml-core==1.0.85.*->azureml-sdk) (19.0.0)\n",
      "Requirement already satisfied, skipping upgrade: azure-mgmt-keyvault>=0.40.0 in /anaconda/envs/azureml_py36/lib/python3.6/site-packages (from azureml-core==1.0.85.*->azureml-sdk) (2.0.0)\n",
      "Requirement already satisfied, skipping upgrade: docker in /anaconda/envs/azureml_py36/lib/python3.6/site-packages (from azureml-core==1.0.85.*->azureml-sdk) (4.1.0)\n",
      "Requirement already satisfied, skipping upgrade: azure-mgmt-authorization>=0.40.0 in /anaconda/envs/azureml_py36/lib/python3.6/site-packages (from azureml-core==1.0.85.*->azureml-sdk) (0.60.0)\n",
      "Requirement already satisfied, skipping upgrade: urllib3>=1.23 in /anaconda/envs/azureml_py36/lib/python3.6/site-packages (from azureml-core==1.0.85.*->azureml-sdk) (1.24.2)\n",
      "Requirement already satisfied, skipping upgrade: adal>=1.2.0 in /anaconda/envs/azureml_py36/lib/python3.6/site-packages (from azureml-core==1.0.85.*->azureml-sdk) (1.2.2)\n",
      "Requirement already satisfied, skipping upgrade: contextlib2 in /anaconda/envs/azureml_py36/lib/python3.6/site-packages (from azureml-core==1.0.85.*->azureml-sdk) (0.6.0)\n",
      "Requirement already satisfied, skipping upgrade: azure-mgmt-resource>=1.2.1 in /anaconda/envs/azureml_py36/lib/python3.6/site-packages (from azureml-core==1.0.85.*->azureml-sdk) (7.0.0)\n",
      "Requirement already satisfied, skipping upgrade: msrest>=0.5.1 in /anaconda/envs/azureml_py36/lib/python3.6/site-packages (from azureml-core==1.0.85.*->azureml-sdk) (0.6.10)\n",
      "Requirement already satisfied, skipping upgrade: requests>=2.19.1 in /anaconda/envs/azureml_py36/lib/python3.6/site-packages (from azureml-core==1.0.85.*->azureml-sdk) (2.22.0)\n",
      "Requirement already satisfied, skipping upgrade: azure-graphrbac>=0.40.0 in /anaconda/envs/azureml_py36/lib/python3.6/site-packages (from azureml-core==1.0.85.*->azureml-sdk) (0.61.1)\n",
      "Requirement already satisfied, skipping upgrade: six>=1.11.0 in /anaconda/envs/azureml_py36/lib/python3.6/site-packages (from azureml-core==1.0.85.*->azureml-sdk) (1.13.0)\n",
      "Requirement already satisfied, skipping upgrade: ndg-httpsclient in /anaconda/envs/azureml_py36/lib/python3.6/site-packages (from azureml-core==1.0.85.*->azureml-sdk) (0.5.1)\n",
      "Requirement already satisfied, skipping upgrade: jsonpickle in /anaconda/envs/azureml_py36/lib/python3.6/site-packages (from azureml-core==1.0.85.*->azureml-sdk) (1.2)\n",
      "Requirement already satisfied, skipping upgrade: cryptography!=1.9,!=2.0.*,!=2.1.*,!=2.2.* in /anaconda/envs/azureml_py36/lib/python3.6/site-packages (from azureml-core==1.0.85.*->azureml-sdk) (2.7)\n",
      "Requirement already satisfied, skipping upgrade: backports.tempfile in /anaconda/envs/azureml_py36/lib/python3.6/site-packages (from azureml-core==1.0.85.*->azureml-sdk) (1.0)\n",
      "Requirement already satisfied, skipping upgrade: azure-mgmt-containerregistry>=2.0.0 in /anaconda/envs/azureml_py36/lib/python3.6/site-packages (from azureml-core==1.0.85.*->azureml-sdk) (2.8.0)\n",
      "Requirement already satisfied, skipping upgrade: msrestazure>=0.4.33 in /anaconda/envs/azureml_py36/lib/python3.6/site-packages (from azureml-core==1.0.85.*->azureml-sdk) (0.6.2)\n",
      "Requirement already satisfied, skipping upgrade: jmespath in /anaconda/envs/azureml_py36/lib/python3.6/site-packages (from azureml-core==1.0.85.*->azureml-sdk) (0.9.4)\n",
      "Requirement already satisfied, skipping upgrade: PyJWT in /anaconda/envs/azureml_py36/lib/python3.6/site-packages (from azureml-core==1.0.85.*->azureml-sdk) (1.7.1)\n",
      "Requirement already satisfied, skipping upgrade: SecretStorage in /anaconda/envs/azureml_py36/lib/python3.6/site-packages (from azureml-core==1.0.85.*->azureml-sdk) (3.1.1)\n",
      "Requirement already satisfied, skipping upgrade: azure-common>=1.1.12 in /anaconda/envs/azureml_py36/lib/python3.6/site-packages (from azureml-core==1.0.85.*->azureml-sdk) (1.1.24)\n",
      "Requirement already satisfied, skipping upgrade: azure-mgmt-storage>=1.5.0 in /anaconda/envs/azureml_py36/lib/python3.6/site-packages (from azureml-core==1.0.85.*->azureml-sdk) (7.0.0)\n",
      "Requirement already satisfied, skipping upgrade: python-dateutil>=2.7.3 in /anaconda/envs/azureml_py36/lib/python3.6/site-packages (from azureml-core==1.0.85.*->azureml-sdk) (2.8.0)\n",
      "Requirement already satisfied, skipping upgrade: ruamel.yaml<=0.15.89,>=0.15.35 in /anaconda/envs/azureml_py36/lib/python3.6/site-packages (from azureml-core==1.0.85.*->azureml-sdk) (0.15.89)\n",
      "Requirement already satisfied, skipping upgrade: azureml-pipeline-steps==1.0.85.* in /anaconda/envs/azureml_py36/lib/python3.6/site-packages (from azureml-pipeline==1.0.85.*->azureml-sdk) (1.0.85)\n",
      "Requirement already satisfied, skipping upgrade: azureml-pipeline-core==1.0.85.* in /anaconda/envs/azureml_py36/lib/python3.6/site-packages (from azureml-pipeline==1.0.85.*->azureml-sdk) (1.0.85.1)\n",
      "Requirement already satisfied, skipping upgrade: azureml-train-core==1.0.85.* in /anaconda/envs/azureml_py36/lib/python3.6/site-packages (from azureml-train==1.0.85.*->azureml-sdk) (1.0.85)\n",
      "Requirement already satisfied, skipping upgrade: applicationinsights in /anaconda/envs/azureml_py36/lib/python3.6/site-packages (from azureml-telemetry==1.0.85.*->azureml-train-automl-client==1.0.85.*->azureml-sdk) (0.11.9)\n",
      "Requirement already satisfied, skipping upgrade: distro>=1.2.0 in /anaconda/envs/azureml_py36/lib/python3.6/site-packages (from dotnetcore2>=2.1.9->azureml-dataprep[fuse]<1.2.0a,>=1.1.37a->azureml-sdk) (1.4.0)\n",
      "Requirement already satisfied, skipping upgrade: websocket-client>=0.32.0 in /anaconda/envs/azureml_py36/lib/python3.6/site-packages (from docker->azureml-core==1.0.85.*->azureml-sdk) (0.57.0)\n",
      "Requirement already satisfied, skipping upgrade: requests-oauthlib>=0.5.0 in /anaconda/envs/azureml_py36/lib/python3.6/site-packages (from msrest>=0.5.1->azureml-core==1.0.85.*->azureml-sdk) (1.3.0)\n",
      "Requirement already satisfied, skipping upgrade: isodate>=0.6.0 in /anaconda/envs/azureml_py36/lib/python3.6/site-packages (from msrest>=0.5.1->azureml-core==1.0.85.*->azureml-sdk) (0.6.0)\n",
      "Requirement already satisfied, skipping upgrade: certifi>=2017.4.17 in /anaconda/envs/azureml_py36/lib/python3.6/site-packages (from msrest>=0.5.1->azureml-core==1.0.85.*->azureml-sdk) (2019.11.28)\n",
      "Requirement already satisfied, skipping upgrade: chardet<3.1.0,>=3.0.2 in /anaconda/envs/azureml_py36/lib/python3.6/site-packages (from requests>=2.19.1->azureml-core==1.0.85.*->azureml-sdk) (3.0.4)\n",
      "Requirement already satisfied, skipping upgrade: idna<2.9,>=2.5 in /anaconda/envs/azureml_py36/lib/python3.6/site-packages (from requests>=2.19.1->azureml-core==1.0.85.*->azureml-sdk) (2.8)\n",
      "Requirement already satisfied, skipping upgrade: pyasn1>=0.1.1 in /anaconda/envs/azureml_py36/lib/python3.6/site-packages (from ndg-httpsclient->azureml-core==1.0.85.*->azureml-sdk) (0.4.8)\n",
      "Requirement already satisfied, skipping upgrade: asn1crypto>=0.21.0 in /anaconda/envs/azureml_py36/lib/python3.6/site-packages (from cryptography!=1.9,!=2.0.*,!=2.1.*,!=2.2.*->azureml-core==1.0.85.*->azureml-sdk) (1.0.1)\n",
      "Requirement already satisfied, skipping upgrade: cffi!=1.11.3,>=1.8 in /anaconda/envs/azureml_py36/lib/python3.6/site-packages (from cryptography!=1.9,!=2.0.*,!=2.1.*,!=2.2.*->azureml-core==1.0.85.*->azureml-sdk) (1.12.3)\n",
      "Requirement already satisfied, skipping upgrade: backports.weakref in /anaconda/envs/azureml_py36/lib/python3.6/site-packages (from backports.tempfile->azureml-core==1.0.85.*->azureml-sdk) (1.0.post1)\n",
      "Requirement already satisfied, skipping upgrade: jeepney in /anaconda/envs/azureml_py36/lib/python3.6/site-packages (from SecretStorage->azureml-core==1.0.85.*->azureml-sdk) (0.4.1)\n",
      "Requirement already satisfied, skipping upgrade: azureml-train-restclients-hyperdrive==1.0.85.* in /anaconda/envs/azureml_py36/lib/python3.6/site-packages (from azureml-train-core==1.0.85.*->azureml-train==1.0.85.*->azureml-sdk) (1.0.85)\n",
      "Requirement already satisfied, skipping upgrade: flake8<=3.7.9,>=3.1.0; python_version >= \"3.6\" in /anaconda/envs/azureml_py36/lib/python3.6/site-packages (from azureml-train-core==1.0.85.*->azureml-train==1.0.85.*->azureml-sdk) (3.7.9)\n",
      "Requirement already satisfied, skipping upgrade: oauthlib>=3.0.0 in /anaconda/envs/azureml_py36/lib/python3.6/site-packages (from requests-oauthlib>=0.5.0->msrest>=0.5.1->azureml-core==1.0.85.*->azureml-sdk) (3.1.0)\n"
     ]
    },
    {
     "name": "stdout",
     "output_type": "stream",
     "text": [
      "Requirement already satisfied, skipping upgrade: pycparser in /anaconda/envs/azureml_py36/lib/python3.6/site-packages (from cffi!=1.11.3,>=1.8->cryptography!=1.9,!=2.0.*,!=2.1.*,!=2.2.*->azureml-core==1.0.85.*->azureml-sdk) (2.19)\n",
      "Requirement already satisfied, skipping upgrade: mccabe<0.7.0,>=0.6.0 in /anaconda/envs/azureml_py36/lib/python3.6/site-packages (from flake8<=3.7.9,>=3.1.0; python_version >= \"3.6\"->azureml-train-core==1.0.85.*->azureml-train==1.0.85.*->azureml-sdk) (0.6.1)\n",
      "Requirement already satisfied, skipping upgrade: entrypoints<0.4.0,>=0.3.0 in /anaconda/envs/azureml_py36/lib/python3.6/site-packages (from flake8<=3.7.9,>=3.1.0; python_version >= \"3.6\"->azureml-train-core==1.0.85.*->azureml-train==1.0.85.*->azureml-sdk) (0.3)\n",
      "Requirement already satisfied, skipping upgrade: pycodestyle<2.6.0,>=2.5.0 in /anaconda/envs/azureml_py36/lib/python3.6/site-packages (from flake8<=3.7.9,>=3.1.0; python_version >= \"3.6\"->azureml-train-core==1.0.85.*->azureml-train==1.0.85.*->azureml-sdk) (2.5.0)\n",
      "Requirement already satisfied, skipping upgrade: pyflakes<2.2.0,>=2.1.0 in /anaconda/envs/azureml_py36/lib/python3.6/site-packages (from flake8<=3.7.9,>=3.1.0; python_version >= \"3.6\"->azureml-train-core==1.0.85.*->azureml-train==1.0.85.*->azureml-sdk) (2.1.1)\n",
      "Note: you may need to restart the kernel to use updated packages.\n"
     ]
    }
   ],
   "source": [
    "%pip install --upgrade azureml-sdk"
   ]
  },
  {
   "cell_type": "code",
   "execution_count": 1,
   "metadata": {},
   "outputs": [
    {
     "name": "stdout",
     "output_type": "stream",
     "text": [
      "Requirement already up-to-date: azureml-sdk[automl,contrib,explain,services] in /anaconda/envs/azureml_py36/lib/python3.6/site-packages (1.0.85)\n",
      "Requirement already satisfied, skipping upgrade: azureml-train-automl-client==1.0.85.* in /anaconda/envs/azureml_py36/lib/python3.6/site-packages (from azureml-sdk[automl,contrib,explain,services]) (1.0.85.4)\n",
      "Requirement already satisfied, skipping upgrade: azureml-train==1.0.85.* in /anaconda/envs/azureml_py36/lib/python3.6/site-packages (from azureml-sdk[automl,contrib,explain,services]) (1.0.85)\n",
      "Requirement already satisfied, skipping upgrade: azureml-pipeline==1.0.85.* in /anaconda/envs/azureml_py36/lib/python3.6/site-packages (from azureml-sdk[automl,contrib,explain,services]) (1.0.85)\n",
      "Requirement already satisfied, skipping upgrade: azureml-core==1.0.85.* in /anaconda/envs/azureml_py36/lib/python3.6/site-packages (from azureml-sdk[automl,contrib,explain,services]) (1.0.85.5)\n",
      "Requirement already satisfied, skipping upgrade: azureml-dataprep[fuse]<1.2.0a,>=1.1.37a in /anaconda/envs/azureml_py36/lib/python3.6/site-packages (from azureml-sdk[automl,contrib,explain,services]) (1.1.38)\n",
      "Requirement already satisfied, skipping upgrade: azureml-train-automl==1.0.85.*; extra == \"automl\" in /anaconda/envs/azureml_py36/lib/python3.6/site-packages (from azureml-sdk[automl,contrib,explain,services]) (1.0.85)\n",
      "Requirement already satisfied, skipping upgrade: azureml-contrib-notebook==1.0.85.*; extra == \"contrib\" in /anaconda/envs/azureml_py36/lib/python3.6/site-packages (from azureml-sdk[automl,contrib,explain,services]) (1.0.85)\n",
      "Requirement already satisfied, skipping upgrade: azureml-contrib-services==1.0.85.*; extra == \"contrib\" in /anaconda/envs/azureml_py36/lib/python3.6/site-packages (from azureml-sdk[automl,contrib,explain,services]) (1.0.85)\n",
      "Requirement already satisfied, skipping upgrade: azureml-contrib-server==1.0.85.*; extra == \"contrib\" in /anaconda/envs/azureml_py36/lib/python3.6/site-packages (from azureml-sdk[automl,contrib,explain,services]) (1.0.85)\n",
      "Requirement already satisfied, skipping upgrade: azureml-contrib-pipeline-steps==1.0.85.*; extra == \"contrib\" in /anaconda/envs/azureml_py36/lib/python3.6/site-packages (from azureml-sdk[automl,contrib,explain,services]) (1.0.85)\n",
      "Requirement already satisfied, skipping upgrade: azureml-explain-model==1.0.85.*; extra == \"explain\" in /anaconda/envs/azureml_py36/lib/python3.6/site-packages (from azureml-sdk[automl,contrib,explain,services]) (1.0.85)\n",
      "Requirement already satisfied, skipping upgrade: pytz in /anaconda/envs/azureml_py36/lib/python3.6/site-packages (from azureml-train-automl-client==1.0.85.*->azureml-sdk[automl,contrib,explain,services]) (2019.3)\n",
      "Requirement already satisfied, skipping upgrade: azureml-telemetry==1.0.85.* in /anaconda/envs/azureml_py36/lib/python3.6/site-packages (from azureml-train-automl-client==1.0.85.*->azureml-sdk[automl,contrib,explain,services]) (1.0.85.1)\n",
      "Requirement already satisfied, skipping upgrade: azureml-automl-core==1.0.85.* in /anaconda/envs/azureml_py36/lib/python3.6/site-packages (from azureml-train-automl-client==1.0.85.*->azureml-sdk[automl,contrib,explain,services]) (1.0.85.5)\n",
      "Requirement already satisfied, skipping upgrade: azureml-train-core==1.0.85.* in /anaconda/envs/azureml_py36/lib/python3.6/site-packages (from azureml-train==1.0.85.*->azureml-sdk[automl,contrib,explain,services]) (1.0.85)\n",
      "Requirement already satisfied, skipping upgrade: azureml-pipeline-core==1.0.85.* in /anaconda/envs/azureml_py36/lib/python3.6/site-packages (from azureml-pipeline==1.0.85.*->azureml-sdk[automl,contrib,explain,services]) (1.0.85.1)\n",
      "Requirement already satisfied, skipping upgrade: azureml-pipeline-steps==1.0.85.* in /anaconda/envs/azureml_py36/lib/python3.6/site-packages (from azureml-pipeline==1.0.85.*->azureml-sdk[automl,contrib,explain,services]) (1.0.85)\n",
      "Requirement already satisfied, skipping upgrade: six>=1.11.0 in /anaconda/envs/azureml_py36/lib/python3.6/site-packages (from azureml-core==1.0.85.*->azureml-sdk[automl,contrib,explain,services]) (1.13.0)\n",
      "Requirement already satisfied, skipping upgrade: adal>=1.2.0 in /anaconda/envs/azureml_py36/lib/python3.6/site-packages (from azureml-core==1.0.85.*->azureml-sdk[automl,contrib,explain,services]) (1.2.2)\n",
      "Requirement already satisfied, skipping upgrade: azure-mgmt-authorization>=0.40.0 in /anaconda/envs/azureml_py36/lib/python3.6/site-packages (from azureml-core==1.0.85.*->azureml-sdk[automl,contrib,explain,services]) (0.60.0)\n",
      "Requirement already satisfied, skipping upgrade: azure-mgmt-resource>=1.2.1 in /anaconda/envs/azureml_py36/lib/python3.6/site-packages (from azureml-core==1.0.85.*->azureml-sdk[automl,contrib,explain,services]) (7.0.0)\n",
      "Requirement already satisfied, skipping upgrade: PyJWT in /anaconda/envs/azureml_py36/lib/python3.6/site-packages (from azureml-core==1.0.85.*->azureml-sdk[automl,contrib,explain,services]) (1.7.1)\n",
      "Requirement already satisfied, skipping upgrade: ndg-httpsclient in /anaconda/envs/azureml_py36/lib/python3.6/site-packages (from azureml-core==1.0.85.*->azureml-sdk[automl,contrib,explain,services]) (0.5.1)\n",
      "Requirement already satisfied, skipping upgrade: azure-graphrbac>=0.40.0 in /anaconda/envs/azureml_py36/lib/python3.6/site-packages (from azureml-core==1.0.85.*->azureml-sdk[automl,contrib,explain,services]) (0.61.1)\n",
      "Requirement already satisfied, skipping upgrade: azure-mgmt-keyvault>=0.40.0 in /anaconda/envs/azureml_py36/lib/python3.6/site-packages (from azureml-core==1.0.85.*->azureml-sdk[automl,contrib,explain,services]) (2.0.0)\n",
      "Requirement already satisfied, skipping upgrade: pathspec in /anaconda/envs/azureml_py36/lib/python3.6/site-packages (from azureml-core==1.0.85.*->azureml-sdk[automl,contrib,explain,services]) (0.7.0)\n",
      "Requirement already satisfied, skipping upgrade: requests>=2.19.1 in /anaconda/envs/azureml_py36/lib/python3.6/site-packages (from azureml-core==1.0.85.*->azureml-sdk[automl,contrib,explain,services]) (2.22.0)\n",
      "Requirement already satisfied, skipping upgrade: azure-common>=1.1.12 in /anaconda/envs/azureml_py36/lib/python3.6/site-packages (from azureml-core==1.0.85.*->azureml-sdk[automl,contrib,explain,services]) (1.1.24)\n",
      "Requirement already satisfied, skipping upgrade: docker in /anaconda/envs/azureml_py36/lib/python3.6/site-packages (from azureml-core==1.0.85.*->azureml-sdk[automl,contrib,explain,services]) (4.1.0)\n",
      "Requirement already satisfied, skipping upgrade: ruamel.yaml<=0.15.89,>=0.15.35 in /anaconda/envs/azureml_py36/lib/python3.6/site-packages (from azureml-core==1.0.85.*->azureml-sdk[automl,contrib,explain,services]) (0.15.89)\n",
      "Requirement already satisfied, skipping upgrade: azure-mgmt-containerregistry>=2.0.0 in /anaconda/envs/azureml_py36/lib/python3.6/site-packages (from azureml-core==1.0.85.*->azureml-sdk[automl,contrib,explain,services]) (2.8.0)\n",
      "Requirement already satisfied, skipping upgrade: SecretStorage in /anaconda/envs/azureml_py36/lib/python3.6/site-packages (from azureml-core==1.0.85.*->azureml-sdk[automl,contrib,explain,services]) (3.1.1)\n",
      "Requirement already satisfied, skipping upgrade: msrestazure>=0.4.33 in /anaconda/envs/azureml_py36/lib/python3.6/site-packages (from azureml-core==1.0.85.*->azureml-sdk[automl,contrib,explain,services]) (0.6.2)\n",
      "Requirement already satisfied, skipping upgrade: cryptography!=1.9,!=2.0.*,!=2.1.*,!=2.2.* in /anaconda/envs/azureml_py36/lib/python3.6/site-packages (from azureml-core==1.0.85.*->azureml-sdk[automl,contrib,explain,services]) (2.7)\n",
      "Requirement already satisfied, skipping upgrade: jmespath in /anaconda/envs/azureml_py36/lib/python3.6/site-packages (from azureml-core==1.0.85.*->azureml-sdk[automl,contrib,explain,services]) (0.9.4)\n",
      "Requirement already satisfied, skipping upgrade: pyopenssl in /anaconda/envs/azureml_py36/lib/python3.6/site-packages (from azureml-core==1.0.85.*->azureml-sdk[automl,contrib,explain,services]) (19.0.0)\n",
      "Requirement already satisfied, skipping upgrade: azure-mgmt-storage>=1.5.0 in /anaconda/envs/azureml_py36/lib/python3.6/site-packages (from azureml-core==1.0.85.*->azureml-sdk[automl,contrib,explain,services]) (7.0.0)\n",
      "Requirement already satisfied, skipping upgrade: contextlib2 in /anaconda/envs/azureml_py36/lib/python3.6/site-packages (from azureml-core==1.0.85.*->azureml-sdk[automl,contrib,explain,services]) (0.6.0)\n",
      "Requirement already satisfied, skipping upgrade: jsonpickle in /anaconda/envs/azureml_py36/lib/python3.6/site-packages (from azureml-core==1.0.85.*->azureml-sdk[automl,contrib,explain,services]) (1.2)\n",
      "Requirement already satisfied, skipping upgrade: python-dateutil>=2.7.3 in /anaconda/envs/azureml_py36/lib/python3.6/site-packages (from azureml-core==1.0.85.*->azureml-sdk[automl,contrib,explain,services]) (2.8.0)\n"
     ]
    },
    {
     "name": "stdout",
     "output_type": "stream",
     "text": [
      "Requirement already satisfied, skipping upgrade: backports.tempfile in /anaconda/envs/azureml_py36/lib/python3.6/site-packages (from azureml-core==1.0.85.*->azureml-sdk[automl,contrib,explain,services]) (1.0)\n",
      "Requirement already satisfied, skipping upgrade: msrest>=0.5.1 in /anaconda/envs/azureml_py36/lib/python3.6/site-packages (from azureml-core==1.0.85.*->azureml-sdk[automl,contrib,explain,services]) (0.6.10)\n",
      "Requirement already satisfied, skipping upgrade: urllib3>=1.23 in /anaconda/envs/azureml_py36/lib/python3.6/site-packages (from azureml-core==1.0.85.*->azureml-sdk[automl,contrib,explain,services]) (1.24.2)\n",
      "Requirement already satisfied, skipping upgrade: azureml-dataprep-native<14.0.0,>=13.2.0 in /anaconda/envs/azureml_py36/lib/python3.6/site-packages (from azureml-dataprep[fuse]<1.2.0a,>=1.1.37a->azureml-sdk[automl,contrib,explain,services]) (13.2.0)\n",
      "Requirement already satisfied, skipping upgrade: cloudpickle>=1.1.0 in /anaconda/envs/azureml_py36/lib/python3.6/site-packages (from azureml-dataprep[fuse]<1.2.0a,>=1.1.37a->azureml-sdk[automl,contrib,explain,services]) (1.2.2)\n",
      "Requirement already satisfied, skipping upgrade: dotnetcore2>=2.1.9 in /anaconda/envs/azureml_py36/lib/python3.6/site-packages (from azureml-dataprep[fuse]<1.2.0a,>=1.1.37a->azureml-sdk[automl,contrib,explain,services]) (2.1.11)\n",
      "Requirement already satisfied, skipping upgrade: fusepy>=3.0.1; extra == \"fuse\" in /anaconda/envs/azureml_py36/lib/python3.6/site-packages (from azureml-dataprep[fuse]<1.2.0a,>=1.1.37a->azureml-sdk[automl,contrib,explain,services]) (3.0.1)\n",
      "Requirement already satisfied, skipping upgrade: azureml-automl-runtime==1.0.85.* in /anaconda/envs/azureml_py36/lib/python3.6/site-packages (from azureml-train-automl==1.0.85.*; extra == \"automl\"->azureml-sdk[automl,contrib,explain,services]) (1.0.85.4)\n",
      "Requirement already satisfied, skipping upgrade: azureml-train-automl-runtime==1.0.85.* in /anaconda/envs/azureml_py36/lib/python3.6/site-packages (from azureml-train-automl==1.0.85.*; extra == \"automl\"->azureml-sdk[automl,contrib,explain,services]) (1.0.85.5)\n",
      "Requirement already satisfied, skipping upgrade: ipykernel in /anaconda/envs/azureml_py36/lib/python3.6/site-packages (from azureml-contrib-notebook==1.0.85.*; extra == \"contrib\"->azureml-sdk[automl,contrib,explain,services]) (5.1.3)\n",
      "Requirement already satisfied, skipping upgrade: papermill in /anaconda/envs/azureml_py36/lib/python3.6/site-packages (from azureml-contrib-notebook==1.0.85.*; extra == \"contrib\"->azureml-sdk[automl,contrib,explain,services]) (1.2.1)\n",
      "Requirement already satisfied, skipping upgrade: ipython in /anaconda/envs/azureml_py36/lib/python3.6/site-packages (from azureml-contrib-notebook==1.0.85.*; extra == \"contrib\"->azureml-sdk[automl,contrib,explain,services]) (7.8.0)\n",
      "Requirement already satisfied, skipping upgrade: Flask<2.0,>=1.0 in /anaconda/envs/azureml_py36/lib/python3.6/site-packages (from azureml-contrib-services==1.0.85.*; extra == \"contrib\"->azureml-sdk[automl,contrib,explain,services]) (1.0.3)\n",
      "Requirement already satisfied, skipping upgrade: azureml-interpret==1.0.85.* in /anaconda/envs/azureml_py36/lib/python3.6/site-packages (from azureml-explain-model==1.0.85.*; extra == \"explain\"->azureml-sdk[automl,contrib,explain,services]) (1.0.85)\n",
      "Requirement already satisfied, skipping upgrade: applicationinsights in /anaconda/envs/azureml_py36/lib/python3.6/site-packages (from azureml-telemetry==1.0.85.*->azureml-train-automl-client==1.0.85.*->azureml-sdk[automl,contrib,explain,services]) (0.11.9)\n",
      "Requirement already satisfied, skipping upgrade: azureml-train-restclients-hyperdrive==1.0.85.* in /anaconda/envs/azureml_py36/lib/python3.6/site-packages (from azureml-train-core==1.0.85.*->azureml-train==1.0.85.*->azureml-sdk[automl,contrib,explain,services]) (1.0.85)\n",
      "Requirement already satisfied, skipping upgrade: flake8<=3.7.9,>=3.1.0; python_version >= \"3.6\" in /anaconda/envs/azureml_py36/lib/python3.6/site-packages (from azureml-train-core==1.0.85.*->azureml-train==1.0.85.*->azureml-sdk[automl,contrib,explain,services]) (3.7.9)\n",
      "Requirement already satisfied, skipping upgrade: pyasn1>=0.1.1 in /anaconda/envs/azureml_py36/lib/python3.6/site-packages (from ndg-httpsclient->azureml-core==1.0.85.*->azureml-sdk[automl,contrib,explain,services]) (0.4.8)\n",
      "Requirement already satisfied, skipping upgrade: certifi>=2017.4.17 in /anaconda/envs/azureml_py36/lib/python3.6/site-packages (from requests>=2.19.1->azureml-core==1.0.85.*->azureml-sdk[automl,contrib,explain,services]) (2019.11.28)\n",
      "Requirement already satisfied, skipping upgrade: chardet<3.1.0,>=3.0.2 in /anaconda/envs/azureml_py36/lib/python3.6/site-packages (from requests>=2.19.1->azureml-core==1.0.85.*->azureml-sdk[automl,contrib,explain,services]) (3.0.4)\n",
      "Requirement already satisfied, skipping upgrade: idna<2.9,>=2.5 in /anaconda/envs/azureml_py36/lib/python3.6/site-packages (from requests>=2.19.1->azureml-core==1.0.85.*->azureml-sdk[automl,contrib,explain,services]) (2.8)\n",
      "Requirement already satisfied, skipping upgrade: websocket-client>=0.32.0 in /anaconda/envs/azureml_py36/lib/python3.6/site-packages (from docker->azureml-core==1.0.85.*->azureml-sdk[automl,contrib,explain,services]) (0.57.0)\n",
      "Requirement already satisfied, skipping upgrade: jeepney in /anaconda/envs/azureml_py36/lib/python3.6/site-packages (from SecretStorage->azureml-core==1.0.85.*->azureml-sdk[automl,contrib,explain,services]) (0.4.1)\n",
      "Requirement already satisfied, skipping upgrade: asn1crypto>=0.21.0 in /anaconda/envs/azureml_py36/lib/python3.6/site-packages (from cryptography!=1.9,!=2.0.*,!=2.1.*,!=2.2.*->azureml-core==1.0.85.*->azureml-sdk[automl,contrib,explain,services]) (1.0.1)\n",
      "Requirement already satisfied, skipping upgrade: cffi!=1.11.3,>=1.8 in /anaconda/envs/azureml_py36/lib/python3.6/site-packages (from cryptography!=1.9,!=2.0.*,!=2.1.*,!=2.2.*->azureml-core==1.0.85.*->azureml-sdk[automl,contrib,explain,services]) (1.12.3)\n",
      "Requirement already satisfied, skipping upgrade: backports.weakref in /anaconda/envs/azureml_py36/lib/python3.6/site-packages (from backports.tempfile->azureml-core==1.0.85.*->azureml-sdk[automl,contrib,explain,services]) (1.0.post1)\n",
      "Requirement already satisfied, skipping upgrade: requests-oauthlib>=0.5.0 in /anaconda/envs/azureml_py36/lib/python3.6/site-packages (from msrest>=0.5.1->azureml-core==1.0.85.*->azureml-sdk[automl,contrib,explain,services]) (1.3.0)\n",
      "Requirement already satisfied, skipping upgrade: isodate>=0.6.0 in /anaconda/envs/azureml_py36/lib/python3.6/site-packages (from msrest>=0.5.1->azureml-core==1.0.85.*->azureml-sdk[automl,contrib,explain,services]) (0.6.0)\n",
      "Requirement already satisfied, skipping upgrade: distro>=1.2.0 in /anaconda/envs/azureml_py36/lib/python3.6/site-packages (from dotnetcore2>=2.1.9->azureml-dataprep[fuse]<1.2.0a,>=1.1.37a->azureml-sdk[automl,contrib,explain,services]) (1.4.0)\n",
      "Requirement already satisfied, skipping upgrade: onnxmltools==1.4.1 in /anaconda/envs/azureml_py36/lib/python3.6/site-packages (from azureml-automl-runtime==1.0.85.*->azureml-train-automl==1.0.85.*; extra == \"automl\"->azureml-sdk[automl,contrib,explain,services]) (1.4.1)\n",
      "Requirement already satisfied, skipping upgrade: statsmodels<=0.10.2,>=0.9.0 in /anaconda/envs/azureml_py36/lib/python3.6/site-packages (from azureml-automl-runtime==1.0.85.*->azureml-train-automl==1.0.85.*; extra == \"automl\"->azureml-sdk[automl,contrib,explain,services]) (0.10.1)\n",
      "Requirement already satisfied, skipping upgrade: scikit-learn<=0.20.3,>=0.19.0 in /anaconda/envs/azureml_py36/lib/python3.6/site-packages (from azureml-automl-runtime==1.0.85.*->azureml-train-automl==1.0.85.*; extra == \"automl\"->azureml-sdk[automl,contrib,explain,services]) (0.20.3)\n",
      "Requirement already satisfied, skipping upgrade: resource>=0.1.8 in /anaconda/envs/azureml_py36/lib/python3.6/site-packages (from azureml-automl-runtime==1.0.85.*->azureml-train-automl==1.0.85.*; extra == \"automl\"->azureml-sdk[automl,contrib,explain,services]) (0.2.1)\n",
      "Requirement already satisfied, skipping upgrade: scipy<=1.1.0,>=1.0.0 in /anaconda/envs/azureml_py36/lib/python3.6/site-packages (from azureml-automl-runtime==1.0.85.*->azureml-train-automl==1.0.85.*; extra == \"automl\"->azureml-sdk[automl,contrib,explain,services]) (1.1.0)\n",
      "Requirement already satisfied, skipping upgrade: onnx>=1.5.0 in /anaconda/envs/azureml_py36/lib/python3.6/site-packages (from azureml-automl-runtime==1.0.85.*->azureml-train-automl==1.0.85.*; extra == \"automl\"->azureml-sdk[automl,contrib,explain,services]) (1.6.0)\n",
      "Requirement already satisfied, skipping upgrade: pandas<=0.23.4,>=0.21.0 in /anaconda/envs/azureml_py36/lib/python3.6/site-packages (from azureml-automl-runtime==1.0.85.*->azureml-train-automl==1.0.85.*; extra == \"automl\"->azureml-sdk[automl,contrib,explain,services]) (0.23.4)\n",
      "Requirement already satisfied, skipping upgrade: numpy<=1.16.2,>=1.16.0 in /anaconda/envs/azureml_py36/lib/python3.6/site-packages (from azureml-automl-runtime==1.0.85.*->azureml-train-automl==1.0.85.*; extra == \"automl\"->azureml-sdk[automl,contrib,explain,services]) (1.16.2)\n",
      "Requirement already satisfied, skipping upgrade: wheel==0.30.0 in /anaconda/envs/azureml_py36/lib/python3.6/site-packages (from azureml-automl-runtime==1.0.85.*->azureml-train-automl==1.0.85.*; extra == \"automl\"->azureml-sdk[automl,contrib,explain,services]) (0.30.0)\n",
      "Requirement already satisfied, skipping upgrade: patsy>=0.5.1 in /anaconda/envs/azureml_py36/lib/python3.6/site-packages (from azureml-automl-runtime==1.0.85.*->azureml-train-automl==1.0.85.*; extra == \"automl\"->azureml-sdk[automl,contrib,explain,services]) (0.5.1)\n",
      "Requirement already satisfied, skipping upgrade: nimbusml>=1.5.0 in /anaconda/envs/azureml_py36/lib/python3.6/site-packages (from azureml-automl-runtime==1.0.85.*->azureml-train-automl==1.0.85.*; extra == \"automl\"->azureml-sdk[automl,contrib,explain,services]) (1.6.1)\n",
      "Requirement already satisfied, skipping upgrade: onnxconverter-common<=1.6.0,>=1.4.2 in /anaconda/envs/azureml_py36/lib/python3.6/site-packages (from azureml-automl-runtime==1.0.85.*->azureml-train-automl==1.0.85.*; extra == \"automl\"->azureml-sdk[automl,contrib,explain,services]) (1.6.0)\n"
     ]
    },
    {
     "name": "stdout",
     "output_type": "stream",
     "text": [
      "Requirement already satisfied, skipping upgrade: sklearn-pandas<=1.7.0,>=1.4.0 in /anaconda/envs/azureml_py36/lib/python3.6/site-packages (from azureml-automl-runtime==1.0.85.*->azureml-train-automl==1.0.85.*; extra == \"automl\"->azureml-sdk[automl,contrib,explain,services]) (1.7.0)\n",
      "Requirement already satisfied, skipping upgrade: skl2onnx==1.4.9 in /anaconda/envs/azureml_py36/lib/python3.6/site-packages (from azureml-automl-runtime==1.0.85.*->azureml-train-automl==1.0.85.*; extra == \"automl\"->azureml-sdk[automl,contrib,explain,services]) (1.4.9)\n",
      "Requirement already satisfied, skipping upgrade: lightgbm<=2.3.0,>=2.0.11 in /anaconda/envs/azureml_py36/lib/python3.6/site-packages (from azureml-automl-runtime==1.0.85.*->azureml-train-automl==1.0.85.*; extra == \"automl\"->azureml-sdk[automl,contrib,explain,services]) (2.3.0)\n",
      "Requirement already satisfied, skipping upgrade: psutil<6.0.0,>=5.2.2 in /anaconda/envs/azureml_py36/lib/python3.6/site-packages (from azureml-automl-runtime==1.0.85.*->azureml-train-automl==1.0.85.*; extra == \"automl\"->azureml-sdk[automl,contrib,explain,services]) (5.6.3)\n",
      "Requirement already satisfied, skipping upgrade: py-cpuinfo in /anaconda/envs/azureml_py36/lib/python3.6/site-packages (from azureml-automl-runtime==1.0.85.*->azureml-train-automl==1.0.85.*; extra == \"automl\"->azureml-sdk[automl,contrib,explain,services]) (5.0.0)\n",
      "Requirement already satisfied, skipping upgrade: gensim in /anaconda/envs/azureml_py36/lib/python3.6/site-packages (from azureml-automl-runtime==1.0.85.*->azureml-train-automl==1.0.85.*; extra == \"automl\"->azureml-sdk[automl,contrib,explain,services]) (3.8.1)\n",
      "Requirement already satisfied, skipping upgrade: pmdarima==1.1.1 in /anaconda/envs/azureml_py36/lib/python3.6/site-packages (from azureml-automl-runtime==1.0.85.*->azureml-train-automl==1.0.85.*; extra == \"automl\"->azureml-sdk[automl,contrib,explain,services]) (1.1.1)\n",
      "Requirement already satisfied, skipping upgrade: dill>=0.2.8 in /anaconda/envs/azureml_py36/lib/python3.6/site-packages (from azureml-automl-runtime==1.0.85.*->azureml-train-automl==1.0.85.*; extra == \"automl\"->azureml-sdk[automl,contrib,explain,services]) (0.3.1.1)\n",
      "Requirement already satisfied, skipping upgrade: azureml-defaults==1.0.85.* in /anaconda/envs/azureml_py36/lib/python3.6/site-packages (from azureml-train-automl-runtime==1.0.85.*->azureml-train-automl==1.0.85.*; extra == \"automl\"->azureml-sdk[automl,contrib,explain,services]) (1.0.85.1)\n",
      "Requirement already satisfied, skipping upgrade: tornado>=4.2 in /anaconda/envs/azureml_py36/lib/python3.6/site-packages (from ipykernel->azureml-contrib-notebook==1.0.85.*; extra == \"contrib\"->azureml-sdk[automl,contrib,explain,services]) (6.0.3)\n",
      "Requirement already satisfied, skipping upgrade: jupyter-client in /anaconda/envs/azureml_py36/lib/python3.6/site-packages (from ipykernel->azureml-contrib-notebook==1.0.85.*; extra == \"contrib\"->azureml-sdk[automl,contrib,explain,services]) (5.3.3)\n",
      "Requirement already satisfied, skipping upgrade: traitlets>=4.1.0 in /anaconda/envs/azureml_py36/lib/python3.6/site-packages (from ipykernel->azureml-contrib-notebook==1.0.85.*; extra == \"contrib\"->azureml-sdk[automl,contrib,explain,services]) (4.3.3)\n",
      "Requirement already satisfied, skipping upgrade: pyyaml in /anaconda/envs/azureml_py36/lib/python3.6/site-packages (from papermill->azureml-contrib-notebook==1.0.85.*; extra == \"contrib\"->azureml-sdk[automl,contrib,explain,services]) (5.1.2)\n",
      "Requirement already satisfied, skipping upgrade: entrypoints in /anaconda/envs/azureml_py36/lib/python3.6/site-packages (from papermill->azureml-contrib-notebook==1.0.85.*; extra == \"contrib\"->azureml-sdk[automl,contrib,explain,services]) (0.3)\n",
      "Requirement already satisfied, skipping upgrade: ansiwrap in /anaconda/envs/azureml_py36/lib/python3.6/site-packages (from papermill->azureml-contrib-notebook==1.0.85.*; extra == \"contrib\"->azureml-sdk[automl,contrib,explain,services]) (0.8.4)\n",
      "Requirement already satisfied, skipping upgrade: click in /anaconda/envs/azureml_py36/lib/python3.6/site-packages (from papermill->azureml-contrib-notebook==1.0.85.*; extra == \"contrib\"->azureml-sdk[automl,contrib,explain,services]) (7.0)\n",
      "Requirement already satisfied, skipping upgrade: future in /anaconda/envs/azureml_py36/lib/python3.6/site-packages (from papermill->azureml-contrib-notebook==1.0.85.*; extra == \"contrib\"->azureml-sdk[automl,contrib,explain,services]) (0.18.2)\n",
      "Requirement already satisfied, skipping upgrade: tenacity in /anaconda/envs/azureml_py36/lib/python3.6/site-packages (from papermill->azureml-contrib-notebook==1.0.85.*; extra == \"contrib\"->azureml-sdk[automl,contrib,explain,services]) (6.0.0)\n",
      "Requirement already satisfied, skipping upgrade: tqdm>=4.32.2 in /anaconda/envs/azureml_py36/lib/python3.6/site-packages (from papermill->azureml-contrib-notebook==1.0.85.*; extra == \"contrib\"->azureml-sdk[automl,contrib,explain,services]) (4.40.2)\n",
      "Requirement already satisfied, skipping upgrade: nbformat in /anaconda/envs/azureml_py36/lib/python3.6/site-packages (from papermill->azureml-contrib-notebook==1.0.85.*; extra == \"contrib\"->azureml-sdk[automl,contrib,explain,services]) (4.4.0)\n",
      "Requirement already satisfied, skipping upgrade: nbconvert>=5.5 in /anaconda/envs/azureml_py36/lib/python3.6/site-packages (from papermill->azureml-contrib-notebook==1.0.85.*; extra == \"contrib\"->azureml-sdk[automl,contrib,explain,services]) (5.6.1)\n",
      "Requirement already satisfied, skipping upgrade: setuptools>=18.5 in /anaconda/envs/azureml_py36/lib/python3.6/site-packages (from ipython->azureml-contrib-notebook==1.0.85.*; extra == \"contrib\"->azureml-sdk[automl,contrib,explain,services]) (41.4.0)\n",
      "Requirement already satisfied, skipping upgrade: pygments in /anaconda/envs/azureml_py36/lib/python3.6/site-packages (from ipython->azureml-contrib-notebook==1.0.85.*; extra == \"contrib\"->azureml-sdk[automl,contrib,explain,services]) (2.4.2)\n",
      "Requirement already satisfied, skipping upgrade: pickleshare in /anaconda/envs/azureml_py36/lib/python3.6/site-packages (from ipython->azureml-contrib-notebook==1.0.85.*; extra == \"contrib\"->azureml-sdk[automl,contrib,explain,services]) (0.7.5)\n",
      "Requirement already satisfied, skipping upgrade: backcall in /anaconda/envs/azureml_py36/lib/python3.6/site-packages (from ipython->azureml-contrib-notebook==1.0.85.*; extra == \"contrib\"->azureml-sdk[automl,contrib,explain,services]) (0.1.0)\n",
      "Requirement already satisfied, skipping upgrade: decorator in /anaconda/envs/azureml_py36/lib/python3.6/site-packages (from ipython->azureml-contrib-notebook==1.0.85.*; extra == \"contrib\"->azureml-sdk[automl,contrib,explain,services]) (4.4.0)\n",
      "Requirement already satisfied, skipping upgrade: prompt-toolkit<2.1.0,>=2.0.0 in /anaconda/envs/azureml_py36/lib/python3.6/site-packages (from ipython->azureml-contrib-notebook==1.0.85.*; extra == \"contrib\"->azureml-sdk[automl,contrib,explain,services]) (2.0.10)\n",
      "Requirement already satisfied, skipping upgrade: pexpect; sys_platform != \"win32\" in /anaconda/envs/azureml_py36/lib/python3.6/site-packages (from ipython->azureml-contrib-notebook==1.0.85.*; extra == \"contrib\"->azureml-sdk[automl,contrib,explain,services]) (4.7.0)\n",
      "Requirement already satisfied, skipping upgrade: jedi>=0.10 in /anaconda/envs/azureml_py36/lib/python3.6/site-packages (from ipython->azureml-contrib-notebook==1.0.85.*; extra == \"contrib\"->azureml-sdk[automl,contrib,explain,services]) (0.15.1)\n",
      "Requirement already satisfied, skipping upgrade: Jinja2>=2.10 in /anaconda/envs/azureml_py36/lib/python3.6/site-packages (from Flask<2.0,>=1.0->azureml-contrib-services==1.0.85.*; extra == \"contrib\"->azureml-sdk[automl,contrib,explain,services]) (2.10.3)\n",
      "Requirement already satisfied, skipping upgrade: itsdangerous>=0.24 in /anaconda/envs/azureml_py36/lib/python3.6/site-packages (from Flask<2.0,>=1.0->azureml-contrib-services==1.0.85.*; extra == \"contrib\"->azureml-sdk[automl,contrib,explain,services]) (1.1.0)\n",
      "Requirement already satisfied, skipping upgrade: Werkzeug>=0.14 in /anaconda/envs/azureml_py36/lib/python3.6/site-packages (from Flask<2.0,>=1.0->azureml-contrib-services==1.0.85.*; extra == \"contrib\"->azureml-sdk[automl,contrib,explain,services]) (0.16.1)\n",
      "Requirement already satisfied, skipping upgrade: interpret-community==0.4.* in /anaconda/envs/azureml_py36/lib/python3.6/site-packages (from azureml-interpret==1.0.85.*->azureml-explain-model==1.0.85.*; extra == \"explain\"->azureml-sdk[automl,contrib,explain,services]) (0.4.1)\n",
      "Requirement already satisfied, skipping upgrade: pyflakes<2.2.0,>=2.1.0 in /anaconda/envs/azureml_py36/lib/python3.6/site-packages (from flake8<=3.7.9,>=3.1.0; python_version >= \"3.6\"->azureml-train-core==1.0.85.*->azureml-train==1.0.85.*->azureml-sdk[automl,contrib,explain,services]) (2.1.1)\n",
      "Requirement already satisfied, skipping upgrade: pycodestyle<2.6.0,>=2.5.0 in /anaconda/envs/azureml_py36/lib/python3.6/site-packages (from flake8<=3.7.9,>=3.1.0; python_version >= \"3.6\"->azureml-train-core==1.0.85.*->azureml-train==1.0.85.*->azureml-sdk[automl,contrib,explain,services]) (2.5.0)\n",
      "Requirement already satisfied, skipping upgrade: mccabe<0.7.0,>=0.6.0 in /anaconda/envs/azureml_py36/lib/python3.6/site-packages (from flake8<=3.7.9,>=3.1.0; python_version >= \"3.6\"->azureml-train-core==1.0.85.*->azureml-train==1.0.85.*->azureml-sdk[automl,contrib,explain,services]) (0.6.1)\n",
      "Requirement already satisfied, skipping upgrade: pycparser in /anaconda/envs/azureml_py36/lib/python3.6/site-packages (from cffi!=1.11.3,>=1.8->cryptography!=1.9,!=2.0.*,!=2.1.*,!=2.2.*->azureml-core==1.0.85.*->azureml-sdk[automl,contrib,explain,services]) (2.19)\n",
      "Requirement already satisfied, skipping upgrade: oauthlib>=3.0.0 in /anaconda/envs/azureml_py36/lib/python3.6/site-packages (from requests-oauthlib>=0.5.0->msrest>=0.5.1->azureml-core==1.0.85.*->azureml-sdk[automl,contrib,explain,services]) (3.1.0)\n",
      "Requirement already satisfied, skipping upgrade: keras2onnx in /anaconda/envs/azureml_py36/lib/python3.6/site-packages (from onnxmltools==1.4.1->azureml-automl-runtime==1.0.85.*->azureml-train-automl==1.0.85.*; extra == \"automl\"->azureml-sdk[automl,contrib,explain,services]) (1.6.0)\n",
      "Requirement already satisfied, skipping upgrade: protobuf in /anaconda/envs/azureml_py36/lib/python3.6/site-packages (from onnxmltools==1.4.1->azureml-automl-runtime==1.0.85.*->azureml-train-automl==1.0.85.*; extra == \"automl\"->azureml-sdk[automl,contrib,explain,services]) (3.11.2)\n",
      "Requirement already satisfied, skipping upgrade: JsonForm>=0.0.2 in /anaconda/envs/azureml_py36/lib/python3.6/site-packages (from resource>=0.1.8->azureml-automl-runtime==1.0.85.*->azureml-train-automl==1.0.85.*; extra == \"automl\"->azureml-sdk[automl,contrib,explain,services]) (0.0.2)\n",
      "Requirement already satisfied, skipping upgrade: JsonSir>=0.0.2 in /anaconda/envs/azureml_py36/lib/python3.6/site-packages (from resource>=0.1.8->azureml-automl-runtime==1.0.85.*->azureml-train-automl==1.0.85.*; extra == \"automl\"->azureml-sdk[automl,contrib,explain,services]) (0.0.2)\n",
      "Requirement already satisfied, skipping upgrade: python-easyconfig>=0.1.0 in /anaconda/envs/azureml_py36/lib/python3.6/site-packages (from resource>=0.1.8->azureml-automl-runtime==1.0.85.*->azureml-train-automl==1.0.85.*; extra == \"automl\"->azureml-sdk[automl,contrib,explain,services]) (0.1.7)\n"
     ]
    },
    {
     "name": "stdout",
     "output_type": "stream",
     "text": [
      "Requirement already satisfied, skipping upgrade: typing-extensions>=3.6.2.1 in /anaconda/envs/azureml_py36/lib/python3.6/site-packages (from onnx>=1.5.0->azureml-automl-runtime==1.0.85.*->azureml-train-automl==1.0.85.*; extra == \"automl\"->azureml-sdk[automl,contrib,explain,services]) (3.7.4.1)\n",
      "Requirement already satisfied, skipping upgrade: smart-open>=1.8.1 in /anaconda/envs/azureml_py36/lib/python3.6/site-packages (from gensim->azureml-automl-runtime==1.0.85.*->azureml-train-automl==1.0.85.*; extra == \"automl\"->azureml-sdk[automl,contrib,explain,services]) (1.9.0)\n",
      "Requirement already satisfied, skipping upgrade: Cython>=0.29 in /anaconda/envs/azureml_py36/lib/python3.6/site-packages (from pmdarima==1.1.1->azureml-automl-runtime==1.0.85.*->azureml-train-automl==1.0.85.*; extra == \"automl\"->azureml-sdk[automl,contrib,explain,services]) (0.29.14)\n",
      "Requirement already satisfied, skipping upgrade: json-logging-py==0.2 in /anaconda/envs/azureml_py36/lib/python3.6/site-packages (from azureml-defaults==1.0.85.*->azureml-train-automl-runtime==1.0.85.*->azureml-train-automl==1.0.85.*; extra == \"automl\"->azureml-sdk[automl,contrib,explain,services]) (0.2)\n",
      "Requirement already satisfied, skipping upgrade: azureml-model-management-sdk==1.0.1b6.post1 in /anaconda/envs/azureml_py36/lib/python3.6/site-packages (from azureml-defaults==1.0.85.*->azureml-train-automl-runtime==1.0.85.*->azureml-train-automl==1.0.85.*; extra == \"automl\"->azureml-sdk[automl,contrib,explain,services]) (1.0.1b6.post1)\n",
      "Requirement already satisfied, skipping upgrade: configparser==3.7.4 in /anaconda/envs/azureml_py36/lib/python3.6/site-packages (from azureml-defaults==1.0.85.*->azureml-train-automl-runtime==1.0.85.*->azureml-train-automl==1.0.85.*; extra == \"automl\"->azureml-sdk[automl,contrib,explain,services]) (3.7.4)\n",
      "Requirement already satisfied, skipping upgrade: gunicorn==19.9.0 in /anaconda/envs/azureml_py36/lib/python3.6/site-packages (from azureml-defaults==1.0.85.*->azureml-train-automl-runtime==1.0.85.*->azureml-train-automl==1.0.85.*; extra == \"automl\"->azureml-sdk[automl,contrib,explain,services]) (19.9.0)\n",
      "Requirement already satisfied, skipping upgrade: jupyter-core in /anaconda/envs/azureml_py36/lib/python3.6/site-packages (from jupyter-client->ipykernel->azureml-contrib-notebook==1.0.85.*; extra == \"contrib\"->azureml-sdk[automl,contrib,explain,services]) (4.5.0)\n",
      "Requirement already satisfied, skipping upgrade: pyzmq>=13 in /anaconda/envs/azureml_py36/lib/python3.6/site-packages (from jupyter-client->ipykernel->azureml-contrib-notebook==1.0.85.*; extra == \"contrib\"->azureml-sdk[automl,contrib,explain,services]) (18.1.0)\n",
      "Requirement already satisfied, skipping upgrade: ipython-genutils in /anaconda/envs/azureml_py36/lib/python3.6/site-packages (from traitlets>=4.1.0->ipykernel->azureml-contrib-notebook==1.0.85.*; extra == \"contrib\"->azureml-sdk[automl,contrib,explain,services]) (0.2.0)\n",
      "Requirement already satisfied, skipping upgrade: textwrap3>=0.9.2 in /anaconda/envs/azureml_py36/lib/python3.6/site-packages (from ansiwrap->papermill->azureml-contrib-notebook==1.0.85.*; extra == \"contrib\"->azureml-sdk[automl,contrib,explain,services]) (0.9.2)\n",
      "Requirement already satisfied, skipping upgrade: jsonschema!=2.5.0,>=2.4 in /anaconda/envs/azureml_py36/lib/python3.6/site-packages (from nbformat->papermill->azureml-contrib-notebook==1.0.85.*; extra == \"contrib\"->azureml-sdk[automl,contrib,explain,services]) (3.0.2)\n",
      "Requirement already satisfied, skipping upgrade: defusedxml in /anaconda/envs/azureml_py36/lib/python3.6/site-packages (from nbconvert>=5.5->papermill->azureml-contrib-notebook==1.0.85.*; extra == \"contrib\"->azureml-sdk[automl,contrib,explain,services]) (0.6.0)\n",
      "Requirement already satisfied, skipping upgrade: pandocfilters>=1.4.1 in /anaconda/envs/azureml_py36/lib/python3.6/site-packages (from nbconvert>=5.5->papermill->azureml-contrib-notebook==1.0.85.*; extra == \"contrib\"->azureml-sdk[automl,contrib,explain,services]) (1.4.2)\n",
      "Requirement already satisfied, skipping upgrade: mistune<2,>=0.8.1 in /anaconda/envs/azureml_py36/lib/python3.6/site-packages (from nbconvert>=5.5->papermill->azureml-contrib-notebook==1.0.85.*; extra == \"contrib\"->azureml-sdk[automl,contrib,explain,services]) (0.8.4)\n",
      "Requirement already satisfied, skipping upgrade: testpath in /anaconda/envs/azureml_py36/lib/python3.6/site-packages (from nbconvert>=5.5->papermill->azureml-contrib-notebook==1.0.85.*; extra == \"contrib\"->azureml-sdk[automl,contrib,explain,services]) (0.4.2)\n",
      "Requirement already satisfied, skipping upgrade: bleach in /anaconda/envs/azureml_py36/lib/python3.6/site-packages (from nbconvert>=5.5->papermill->azureml-contrib-notebook==1.0.85.*; extra == \"contrib\"->azureml-sdk[automl,contrib,explain,services]) (3.1.0)\n",
      "Requirement already satisfied, skipping upgrade: wcwidth in /anaconda/envs/azureml_py36/lib/python3.6/site-packages (from prompt-toolkit<2.1.0,>=2.0.0->ipython->azureml-contrib-notebook==1.0.85.*; extra == \"contrib\"->azureml-sdk[automl,contrib,explain,services]) (0.1.7)\n",
      "Requirement already satisfied, skipping upgrade: ptyprocess>=0.5 in /anaconda/envs/azureml_py36/lib/python3.6/site-packages (from pexpect; sys_platform != \"win32\"->ipython->azureml-contrib-notebook==1.0.85.*; extra == \"contrib\"->azureml-sdk[automl,contrib,explain,services]) (0.6.0)\n",
      "Requirement already satisfied, skipping upgrade: parso>=0.5.0 in /anaconda/envs/azureml_py36/lib/python3.6/site-packages (from jedi>=0.10->ipython->azureml-contrib-notebook==1.0.85.*; extra == \"contrib\"->azureml-sdk[automl,contrib,explain,services]) (0.5.1)\n",
      "Requirement already satisfied, skipping upgrade: MarkupSafe>=0.23 in /anaconda/envs/azureml_py36/lib/python3.6/site-packages (from Jinja2>=2.10->Flask<2.0,>=1.0->azureml-contrib-services==1.0.85.*; extra == \"contrib\"->azureml-sdk[automl,contrib,explain,services]) (1.1.1)\n",
      "Requirement already satisfied, skipping upgrade: shap<=0.33.0,>=0.20.0 in /anaconda/envs/azureml_py36/lib/python3.6/site-packages (from interpret-community==0.4.*->azureml-interpret==1.0.85.*->azureml-explain-model==1.0.85.*; extra == \"explain\"->azureml-sdk[automl,contrib,explain,services]) (0.29.3)\n",
      "Requirement already satisfied, skipping upgrade: interpret-core[required]==0.1.19 in /anaconda/envs/azureml_py36/lib/python3.6/site-packages (from interpret-community==0.4.*->azureml-interpret==1.0.85.*->azureml-explain-model==1.0.85.*; extra == \"explain\"->azureml-sdk[automl,contrib,explain,services]) (0.1.19)\n",
      "Requirement already satisfied, skipping upgrade: packaging in /anaconda/envs/azureml_py36/lib/python3.6/site-packages (from interpret-community==0.4.*->azureml-interpret==1.0.85.*->azureml-explain-model==1.0.85.*; extra == \"explain\"->azureml-sdk[automl,contrib,explain,services]) (19.2)\n",
      "Requirement already satisfied, skipping upgrade: fire in /anaconda/envs/azureml_py36/lib/python3.6/site-packages (from keras2onnx->onnxmltools==1.4.1->azureml-automl-runtime==1.0.85.*->azureml-train-automl==1.0.85.*; extra == \"automl\"->azureml-sdk[automl,contrib,explain,services]) (0.2.1)\n",
      "Requirement already satisfied, skipping upgrade: boto>=2.32 in /anaconda/envs/azureml_py36/lib/python3.6/site-packages (from smart-open>=1.8.1->gensim->azureml-automl-runtime==1.0.85.*->azureml-train-automl==1.0.85.*; extra == \"automl\"->azureml-sdk[automl,contrib,explain,services]) (2.49.0)\n",
      "Requirement already satisfied, skipping upgrade: boto3 in /anaconda/envs/azureml_py36/lib/python3.6/site-packages (from smart-open>=1.8.1->gensim->azureml-automl-runtime==1.0.85.*->azureml-train-automl==1.0.85.*; extra == \"automl\"->azureml-sdk[automl,contrib,explain,services]) (1.10.48)\n",
      "Requirement already satisfied, skipping upgrade: liac-arff>=2.1.1 in /anaconda/envs/azureml_py36/lib/python3.6/site-packages (from azureml-model-management-sdk==1.0.1b6.post1->azureml-defaults==1.0.85.*->azureml-train-automl-runtime==1.0.85.*->azureml-train-automl==1.0.85.*; extra == \"automl\"->azureml-sdk[automl,contrib,explain,services]) (2.4.0)\n",
      "Requirement already satisfied, skipping upgrade: pyrsistent>=0.14.0 in /anaconda/envs/azureml_py36/lib/python3.6/site-packages (from jsonschema!=2.5.0,>=2.4->nbformat->papermill->azureml-contrib-notebook==1.0.85.*; extra == \"contrib\"->azureml-sdk[automl,contrib,explain,services]) (0.15.4)\n",
      "Requirement already satisfied, skipping upgrade: attrs>=17.4.0 in /anaconda/envs/azureml_py36/lib/python3.6/site-packages (from jsonschema!=2.5.0,>=2.4->nbformat->papermill->azureml-contrib-notebook==1.0.85.*; extra == \"contrib\"->azureml-sdk[automl,contrib,explain,services]) (19.2.0)\n"
     ]
    },
    {
     "name": "stdout",
     "output_type": "stream",
     "text": [
      "Requirement already satisfied, skipping upgrade: webencodings in /anaconda/envs/azureml_py36/lib/python3.6/site-packages (from bleach->nbconvert>=5.5->papermill->azureml-contrib-notebook==1.0.85.*; extra == \"contrib\"->azureml-sdk[automl,contrib,explain,services]) (0.5.1)\n",
      "Requirement already satisfied, skipping upgrade: scikit-image in /anaconda/envs/azureml_py36/lib/python3.6/site-packages (from shap<=0.33.0,>=0.20.0->interpret-community==0.4.*->azureml-interpret==1.0.85.*->azureml-explain-model==1.0.85.*; extra == \"explain\"->azureml-sdk[automl,contrib,explain,services]) (0.16.2)\n",
      "Requirement already satisfied, skipping upgrade: matplotlib in /anaconda/envs/azureml_py36/lib/python3.6/site-packages (from shap<=0.33.0,>=0.20.0->interpret-community==0.4.*->azureml-interpret==1.0.85.*->azureml-explain-model==1.0.85.*; extra == \"explain\"->azureml-sdk[automl,contrib,explain,services]) (3.1.2)\n",
      "Requirement already satisfied, skipping upgrade: joblib>=0.11; extra == \"required\" in /anaconda/envs/azureml_py36/lib/python3.6/site-packages (from interpret-core[required]==0.1.19->interpret-community==0.4.*->azureml-interpret==1.0.85.*->azureml-explain-model==1.0.85.*; extra == \"explain\"->azureml-sdk[automl,contrib,explain,services]) (0.14.1)\n",
      "Requirement already satisfied, skipping upgrade: pyparsing>=2.0.2 in /anaconda/envs/azureml_py36/lib/python3.6/site-packages (from packaging->interpret-community==0.4.*->azureml-interpret==1.0.85.*->azureml-explain-model==1.0.85.*; extra == \"explain\"->azureml-sdk[automl,contrib,explain,services]) (2.4.2)\n",
      "Requirement already satisfied, skipping upgrade: termcolor in /anaconda/envs/azureml_py36/lib/python3.6/site-packages (from fire->keras2onnx->onnxmltools==1.4.1->azureml-automl-runtime==1.0.85.*->azureml-train-automl==1.0.85.*; extra == \"automl\"->azureml-sdk[automl,contrib,explain,services]) (1.1.0)\n",
      "Requirement already satisfied, skipping upgrade: s3transfer<0.3.0,>=0.2.0 in /anaconda/envs/azureml_py36/lib/python3.6/site-packages (from boto3->smart-open>=1.8.1->gensim->azureml-automl-runtime==1.0.85.*->azureml-train-automl==1.0.85.*; extra == \"automl\"->azureml-sdk[automl,contrib,explain,services]) (0.2.1)\n",
      "Requirement already satisfied, skipping upgrade: botocore<1.14.0,>=1.13.48 in /anaconda/envs/azureml_py36/lib/python3.6/site-packages (from boto3->smart-open>=1.8.1->gensim->azureml-automl-runtime==1.0.85.*->azureml-train-automl==1.0.85.*; extra == \"automl\"->azureml-sdk[automl,contrib,explain,services]) (1.13.48)\n",
      "Requirement already satisfied, skipping upgrade: imageio>=2.3.0 in /anaconda/envs/azureml_py36/lib/python3.6/site-packages (from scikit-image->shap<=0.33.0,>=0.20.0->interpret-community==0.4.*->azureml-interpret==1.0.85.*->azureml-explain-model==1.0.85.*; extra == \"explain\"->azureml-sdk[automl,contrib,explain,services]) (2.6.0)\n",
      "Requirement already satisfied, skipping upgrade: pillow>=4.3.0 in /anaconda/envs/azureml_py36/lib/python3.6/site-packages (from scikit-image->shap<=0.33.0,>=0.20.0->interpret-community==0.4.*->azureml-interpret==1.0.85.*->azureml-explain-model==1.0.85.*; extra == \"explain\"->azureml-sdk[automl,contrib,explain,services]) (6.2.0)\n",
      "Requirement already satisfied, skipping upgrade: PyWavelets>=0.4.0 in /anaconda/envs/azureml_py36/lib/python3.6/site-packages (from scikit-image->shap<=0.33.0,>=0.20.0->interpret-community==0.4.*->azureml-interpret==1.0.85.*->azureml-explain-model==1.0.85.*; extra == \"explain\"->azureml-sdk[automl,contrib,explain,services]) (1.0.3)\n",
      "Requirement already satisfied, skipping upgrade: networkx>=2.0 in /anaconda/envs/azureml_py36/lib/python3.6/site-packages (from scikit-image->shap<=0.33.0,>=0.20.0->interpret-community==0.4.*->azureml-interpret==1.0.85.*->azureml-explain-model==1.0.85.*; extra == \"explain\"->azureml-sdk[automl,contrib,explain,services]) (2.3)\n",
      "Requirement already satisfied, skipping upgrade: cycler>=0.10 in /anaconda/envs/azureml_py36/lib/python3.6/site-packages (from matplotlib->shap<=0.33.0,>=0.20.0->interpret-community==0.4.*->azureml-interpret==1.0.85.*->azureml-explain-model==1.0.85.*; extra == \"explain\"->azureml-sdk[automl,contrib,explain,services]) (0.10.0)\n",
      "Requirement already satisfied, skipping upgrade: kiwisolver>=1.0.1 in /anaconda/envs/azureml_py36/lib/python3.6/site-packages (from matplotlib->shap<=0.33.0,>=0.20.0->interpret-community==0.4.*->azureml-interpret==1.0.85.*->azureml-explain-model==1.0.85.*; extra == \"explain\"->azureml-sdk[automl,contrib,explain,services]) (1.1.0)\n",
      "Requirement already satisfied, skipping upgrade: docutils<0.16,>=0.10 in /anaconda/envs/azureml_py36/lib/python3.6/site-packages (from botocore<1.14.0,>=1.13.48->boto3->smart-open>=1.8.1->gensim->azureml-automl-runtime==1.0.85.*->azureml-train-automl==1.0.85.*; extra == \"automl\"->azureml-sdk[automl,contrib,explain,services]) (0.15.2)\n",
      "Note: you may need to restart the kernel to use updated packages.\n"
     ]
    }
   ],
   "source": [
    "%pip install --upgrade azureml-sdk[automl,explain,services,contrib]\n",
    "#azureml-automl-runtime\n",
    "#azureml-automl-core"
   ]
  },
  {
   "cell_type": "code",
   "execution_count": null,
   "metadata": {},
   "outputs": [],
   "source": [
    "# Restart your Kernel and then run the Cell Below"
   ]
  },
  {
   "cell_type": "code",
   "execution_count": 3,
   "metadata": {},
   "outputs": [
    {
     "name": "stdout",
     "output_type": "stream",
     "text": [
      "You have upgraded to version 1.0.85 of the Azure ML SDK\n"
     ]
    }
   ],
   "source": [
    "import azureml.core\n",
    "print(\"You have upgraded to version \" + azureml.core.VERSION + \" of the Azure ML SDK\")"
   ]
  }
 ],
 "metadata": {
  "kernelspec": {
   "display_name": "Python 3.6 - AzureML",
   "language": "python",
   "name": "python3-azureml"
  },
  "language_info": {
   "codemirror_mode": {
    "name": "ipython",
    "version": 3
   },
   "file_extension": ".py",
   "mimetype": "text/x-python",
   "name": "python",
   "nbconvert_exporter": "python",
   "pygments_lexer": "ipython3",
   "version": "3.6.9"
  }
 },
 "nbformat": 4,
 "nbformat_minor": 2
}

{
 "cells": [
  {
   "cell_type": "markdown",
   "metadata": {},
   "source": [
    "# Create Your DataSet\n",
    "\n",
    "Azure Machine Learning Datasets (preview) make it easier to access and work with your data. Datasets manage data in various scenarios such as model training and pipeline creation. Using the Azure Machine Learning SDK, you can access underlying storage, explore data, and manage the life cycle of different Dataset definitions.\n",
    "\n",
    "Essentially, datasets let you share data with other users of your workspace, let you version datasets automatically and let data scientists easily keep track of different transformations of data.\n",
    "\n",
    "To learn more, click here: https://docs.microsoft.com/en-us/python/api/azureml-core/azureml.core.dataset(class)?view=azure-ml-py"
   ]
  },
  {
   "cell_type": "code",
   "execution_count": null,
   "metadata": {},
   "outputs": [],
   "source": [
    "# Load Azure Libaries\n",
    "from azureml.core import Datastore\n",
    "from azureml.core.dataset import Dataset\n",
    "from azureml.core.workspace import Workspace\n",
    "from azureml.core.authentication import InteractiveLoginAuthentication\n",
    "import pandas as pd\n",
    "import numpy as np\n",
    "import json\n",
    "import os"
   ]
  },
  {
   "cell_type": "code",
   "execution_count": null,
   "metadata": {},
   "outputs": [],
   "source": [
    "# Retrieve your workspace by name by filling in the lower case values between double quotes\n",
    "ws = Workspace.get(name=\"<my-workspace>\",\n",
    "        subscription_id=\"<my-azure-subscription-id>\",\n",
    "        resource_group=\"<my-resource-group>\")"
   ]
  },
  {
   "cell_type": "code",
   "execution_count": null,
   "metadata": {},
   "outputs": [],
   "source": [
    "# Retrieve your Datastore by name by filling in the lower case values between double quotes\n",
    "datastore_name = \"<my-datastore-name>\"\n",
    "datastore = Datastore.get(ws, datastore_name)"
   ]
  },
  {
   "cell_type": "markdown",
   "metadata": {},
   "source": [
    "### Pull in your Data in Azure Tabular Format from your Datastore.  \n",
    "This is the default format for AutoML.  "
   ]
  },
  {
   "cell_type": "code",
   "execution_count": null,
   "metadata": {},
   "outputs": [],
   "source": [
    "# First, specity the files and/or directories in your datastore.  You can pull in multiple or single files.\n",
    "# Here, we pull in testing data and training data separately\n",
    "datastore_path_test = [\n",
    "                  (datastore, \"<my-path-on-datastore-to-test-data>\")\n",
    "                 ]\n",
    "\n",
    "datastore_path_train = [\n",
    "                  (datastore, \"<my-path-on-datastore-to-train-data>\")\n",
    "                 ]"
   ]
  },
  {
   "cell_type": "code",
   "execution_count": null,
   "metadata": {},
   "outputs": [],
   "source": [
    "# Create Tabular Data Sets\n",
    "testing_data = Dataset.Tabular.from_delimited_files(path=datastore_path_test)\n",
    "training_data = Dataset.Tabular.from_delimited_files(path=datastore_path_train)"
   ]
  },
  {
   "cell_type": "markdown",
   "metadata": {},
   "source": [
    "### Register your datasets\n",
    "This allows you to share your datasets with others in your workspace, to version and keep track of them."
   ]
  },
  {
   "cell_type": "code",
   "execution_count": null,
   "metadata": {},
   "outputs": [],
   "source": [
    "# Register and tag your data sets\n",
    "testing_data.register(workspace=ws,\n",
    "                        name=\"<my-dataset-name>\",\n",
    "                        description=\"<my-dataset-description>\",\n",
    "                        tags = {\"<my-tag-name>\": \"<my-tag-value>\", \"<my-tag-name2>\": \"<my-tag-value2>\"},\n",
    "                        create_new_version=True)"
   ]
  },
  {
   "cell_type": "code",
   "execution_count": null,
   "metadata": {},
   "outputs": [],
   "source": [
    "training_data.register(workspace=ws,\n",
    "                        name=\"<my-dataset-name>\",\n",
    "                        description=\"<my-dataset-description>\",\n",
    "                        tags = {\"<my-tag-name>\": \"<my-tag-value>\", \"<my-tag-name2>\": \"<my-tag-value2>\"},\n",
    "                        create_new_version=True)"
   ]
  }
 ],
 "metadata": {
  "kernelspec": {
   "display_name": "Python 3.6 - AzureML",
   "language": "python",
   "name": "python3-azureml"
  },
  "language_info": {
   "codemirror_mode": {
    "name": "ipython",
    "version": 3
   },
   "file_extension": ".py",
   "mimetype": "text/x-python",
   "name": "python",
   "nbconvert_exporter": "python",
   "pygments_lexer": "ipython3",
   "version": "3.6.9"
  }
 },
 "nbformat": 4,
 "nbformat_minor": 2
}

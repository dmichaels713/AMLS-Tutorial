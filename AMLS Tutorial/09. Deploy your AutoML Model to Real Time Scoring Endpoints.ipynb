{
 "cells": [
  {
   "cell_type": "markdown",
   "metadata": {},
   "source": [
    "# Deploy Model with either ACI or AKS\n",
    "Now it's time to deploy your model.  There are many ways to deploy models in Azure.  For testing purposes, we recommend Azure Container Instance (ACI).  For production purposes, we recommend Azure Kubernetes Service (AKS).  AKS requires a cluster to run on, but has much more robust security options and can run inside of a virtual network.<br>\n",
    "\n",
    "Both AKS and ACI are used for real-time or near real-time scoring situations.  These are situations where you want to send data to the system and immediately get a result to use in some process.\n",
    "\n",
    "To learn more about deployment, click here: https://docs.microsoft.com/en-us/azure/machine-learning/how-to-deploy-and-where\n",
    "\n"
   ]
  },
  {
   "cell_type": "code",
   "execution_count": 6,
   "metadata": {},
   "outputs": [],
   "source": [
    "# Load Azure Libaries\n",
    "from azureml.core import Datastore\n",
    "from azureml.core.dataset import Dataset\n",
    "from azureml.core.workspace import Workspace\n",
    "from azureml.core.authentication import InteractiveLoginAuthentication\n",
    "from azure.storage.blob import BlockBlobService\n",
    "from azureml.core.compute import ComputeTarget, AmlCompute\n",
    "from azureml.core.compute_target import ComputeTargetException\n",
    "from azureml.train.automl import AutoMLConfig\n",
    "from azureml.core.experiment import Experiment\n",
    "from azureml.core.environment import Environment\n",
    "from azureml.core.conda_dependencies import CondaDependencies\n",
    "from azureml.automl.core.featurization import FeaturizationConfig\n",
    "from azureml.explain.model._internal.explanation_client import ExplanationClient\n",
    "\n",
    "#Load Libraries for Deployment\n",
    "from azureml.core.model import Model\n",
    "from azureml.core.webservice import Webservice\n",
    "from azureml.core.model import InferenceConfig\n",
    "from azureml.core.webservice import AciWebservice\n",
    "from azureml.core.webservice import AksWebservice\n",
    "from azureml.core.compute import AksCompute, ComputeTarget\n",
    "\n",
    "# Import other Libraries\n",
    "import pandas as pd\n",
    "import numpy as np\n",
    "import logging\n",
    "import requests\n",
    "import json\n",
    "import os\n",
    "import math\n",
    "import seaborn as sns\n",
    "import matplotlib.pyplot as plt"
   ]
  },
  {
   "cell_type": "code",
   "execution_count": 7,
   "metadata": {},
   "outputs": [
    {
     "name": "stdout",
     "output_type": "stream",
     "text": [
      "Performing interactive authentication. Please follow the instructions on the terminal.\n",
      "To sign in, use a web browser to open the page https://microsoft.com/devicelogin and enter the code A3W8PNAVG to authenticate.\n"
     ]
    },
    {
     "ename": "KeyboardInterrupt",
     "evalue": "",
     "output_type": "error",
     "traceback": [
      "\u001b[0;31m---------------------------------------------------------------------------\u001b[0m",
      "\u001b[0;31mUserErrorException\u001b[0m                        Traceback (most recent call last)",
      "\u001b[0;32m/anaconda/envs/azureml_py36/lib/python3.6/site-packages/azureml/core/authentication.py\u001b[0m in \u001b[0;36mwrapper\u001b[0;34m(self, *args, **kwargs)\u001b[0m\n\u001b[1;32m    271\u001b[0m                     \u001b[0mmodule_logger\u001b[0m\u001b[0;34m.\u001b[0m\u001b[0mdebug\u001b[0m\u001b[0;34m(\u001b[0m\u001b[0;34m\"{} acquired lock in {} s.\"\u001b[0m\u001b[0;34m.\u001b[0m\u001b[0mformat\u001b[0m\u001b[0;34m(\u001b[0m\u001b[0mtype\u001b[0m\u001b[0;34m(\u001b[0m\u001b[0mself\u001b[0m\u001b[0;34m)\u001b[0m\u001b[0;34m.\u001b[0m\u001b[0m__name__\u001b[0m\u001b[0;34m,\u001b[0m \u001b[0mduration\u001b[0m\u001b[0;34m)\u001b[0m\u001b[0;34m)\u001b[0m\u001b[0;34m\u001b[0m\u001b[0;34m\u001b[0m\u001b[0m\n\u001b[0;32m--> 272\u001b[0;31m                 \u001b[0;32mreturn\u001b[0m \u001b[0mtest_function\u001b[0m\u001b[0;34m(\u001b[0m\u001b[0mself\u001b[0m\u001b[0;34m,\u001b[0m \u001b[0;34m*\u001b[0m\u001b[0margs\u001b[0m\u001b[0;34m,\u001b[0m \u001b[0;34m**\u001b[0m\u001b[0mkwargs\u001b[0m\u001b[0;34m)\u001b[0m\u001b[0;34m\u001b[0m\u001b[0;34m\u001b[0m\u001b[0m\n\u001b[0m\u001b[1;32m    273\u001b[0m             \u001b[0;32mexcept\u001b[0m \u001b[0mException\u001b[0m \u001b[0;32mas\u001b[0m \u001b[0me\u001b[0m\u001b[0;34m:\u001b[0m\u001b[0;34m\u001b[0m\u001b[0;34m\u001b[0m\u001b[0m\n",
      "\u001b[0;32m/anaconda/envs/azureml_py36/lib/python3.6/site-packages/azureml/core/authentication.py\u001b[0m in \u001b[0;36m_check_if_subscription_exists\u001b[0;34m(self, subscription_id, subscription_id_list, tenant_id)\u001b[0m\n\u001b[1;32m    478\u001b[0m         super(InteractiveLoginAuthentication, self)._check_if_subscription_exists(subscription_id,\n\u001b[0;32m--> 479\u001b[0;31m                                                                                   subscription_id_list, tenant_id)\n\u001b[0m\u001b[1;32m    480\u001b[0m \u001b[0;34m\u001b[0m\u001b[0m\n",
      "\u001b[0;32m/anaconda/envs/azureml_py36/lib/python3.6/site-packages/azureml/core/authentication.py\u001b[0m in \u001b[0;36m_check_if_subscription_exists\u001b[0;34m(self, subscription_id, subscription_id_list, tenant_id)\u001b[0m\n\u001b[1;32m    225\u001b[0m                                                                                         \u001b[0msubscription_id\u001b[0m\u001b[0;34m,\u001b[0m\u001b[0;34m\u001b[0m\u001b[0;34m\u001b[0m\u001b[0m\n\u001b[0;32m--> 226\u001b[0;31m                                                                                         subscription_id_list))\n\u001b[0m\u001b[1;32m    227\u001b[0m \u001b[0;34m\u001b[0m\u001b[0m\n",
      "\u001b[0;31mUserErrorException\u001b[0m: UserErrorException:\n\tMessage: You are currently logged-in to 72f988bf-86f1-41af-91ab-2d7cd011db47 tenant. You don't have access to <my-azure-subscription-id> subscription, please check if it is in this tenant. All the subscriptions that you have access to in this tenant are = \n [SubscriptionInfo(subscription_name='Dennis Demo Space', subscription_id='6521e272-56cc-43d7-ae04-8ed404a581c6'), SubscriptionInfo(subscription_name='Dennis Sawyers Internal MS Learning Account', subscription_id='47a7ec0c-37ad-428b-9114-b87ea1057632'), SubscriptionInfo(subscription_name='Edge DevTools Client', subscription_id='d21a0e9f-5e29-4b39-8ba5-0e189bc5fe2d')]. \n Please refer to aka.ms/aml-notebook-auth for different authentication mechanisms in azureml-sdk.\n\tInnerException None\n\tErrorResponse \n{\n    \"error\": {\n        \"code\": \"UserError\",\n        \"message\": \"You are currently logged-in to 72f988bf-86f1-41af-91ab-2d7cd011db47 tenant. You don't have access to <my-azure-subscription-id> subscription, please check if it is in this tenant. All the subscriptions that you have access to in this tenant are = \\n [SubscriptionInfo(subscription_name='Dennis Demo Space', subscription_id='6521e272-56cc-43d7-ae04-8ed404a581c6'), SubscriptionInfo(subscription_name='Dennis Sawyers Internal MS Learning Account', subscription_id='47a7ec0c-37ad-428b-9114-b87ea1057632'), SubscriptionInfo(subscription_name='Edge DevTools Client', subscription_id='d21a0e9f-5e29-4b39-8ba5-0e189bc5fe2d')]. \\n Please refer to aka.ms/aml-notebook-auth for different authentication mechanisms in azureml-sdk.\"\n    }\n}",
      "\nDuring handling of the above exception, another exception occurred:\n",
      "\u001b[0;31mKeyboardInterrupt\u001b[0m                         Traceback (most recent call last)",
      "\u001b[0;32m<ipython-input-7-4d479e032e3c>\u001b[0m in \u001b[0;36m<module>\u001b[0;34m\u001b[0m\n\u001b[1;32m      2\u001b[0m ws = Workspace.get(name=\"<my-workspace>\",\n\u001b[1;32m      3\u001b[0m         \u001b[0msubscription_id\u001b[0m\u001b[0;34m=\u001b[0m\u001b[0;34m\"<my-azure-subscription-id>\"\u001b[0m\u001b[0;34m,\u001b[0m\u001b[0;34m\u001b[0m\u001b[0;34m\u001b[0m\u001b[0m\n\u001b[0;32m----> 4\u001b[0;31m         resource_group=\"<my-resource-group>\")\n\u001b[0m",
      "\u001b[0;32m/anaconda/envs/azureml_py36/lib/python3.6/site-packages/azureml/core/workspace.py\u001b[0m in \u001b[0;36mget\u001b[0;34m(name, auth, subscription_id, resource_group)\u001b[0m\n\u001b[1;32m    466\u001b[0m         \u001b[0;31m# operation.\u001b[0m\u001b[0;34m\u001b[0m\u001b[0;34m\u001b[0m\u001b[0;34m\u001b[0m\u001b[0m\n\u001b[1;32m    467\u001b[0m         \u001b[0;32mif\u001b[0m \u001b[0msubscription_id\u001b[0m \u001b[0;32mand\u001b[0m \u001b[0mresource_group\u001b[0m\u001b[0;34m:\u001b[0m\u001b[0;34m\u001b[0m\u001b[0;34m\u001b[0m\u001b[0m\n\u001b[0;32m--> 468\u001b[0;31m             \u001b[0;32mreturn\u001b[0m \u001b[0mWorkspace\u001b[0m\u001b[0;34m(\u001b[0m\u001b[0msubscription_id\u001b[0m\u001b[0;34m,\u001b[0m \u001b[0mresource_group\u001b[0m\u001b[0;34m,\u001b[0m \u001b[0mname\u001b[0m\u001b[0;34m,\u001b[0m \u001b[0mauth\u001b[0m\u001b[0;34m=\u001b[0m\u001b[0mauth\u001b[0m\u001b[0;34m)\u001b[0m\u001b[0;34m\u001b[0m\u001b[0;34m\u001b[0m\u001b[0m\n\u001b[0m\u001b[1;32m    469\u001b[0m \u001b[0;34m\u001b[0m\u001b[0m\n\u001b[1;32m    470\u001b[0m         \u001b[0;32mif\u001b[0m \u001b[0;32mnot\u001b[0m \u001b[0msubscription_id\u001b[0m\u001b[0;34m:\u001b[0m\u001b[0;34m\u001b[0m\u001b[0;34m\u001b[0m\u001b[0m\n",
      "\u001b[0;32m/anaconda/envs/azureml_py36/lib/python3.6/site-packages/azureml/core/workspace.py\u001b[0m in \u001b[0;36m__init__\u001b[0;34m(self, subscription_id, resource_group, workspace_name, auth, _location, _disable_service_check, _workspace_id, sku)\u001b[0m\n\u001b[1;32m    183\u001b[0m \u001b[0;34m\u001b[0m\u001b[0m\n\u001b[1;32m    184\u001b[0m         \u001b[0;32mif\u001b[0m \u001b[0;32mnot\u001b[0m \u001b[0m_disable_service_check\u001b[0m\u001b[0;34m:\u001b[0m\u001b[0;34m\u001b[0m\u001b[0;34m\u001b[0m\u001b[0m\n\u001b[0;32m--> 185\u001b[0;31m             \u001b[0mauto_rest_workspace\u001b[0m \u001b[0;34m=\u001b[0m \u001b[0m_commands\u001b[0m\u001b[0;34m.\u001b[0m\u001b[0mget_workspace\u001b[0m\u001b[0;34m(\u001b[0m\u001b[0mauth\u001b[0m\u001b[0;34m,\u001b[0m \u001b[0msubscription_id\u001b[0m\u001b[0;34m,\u001b[0m \u001b[0mresource_group\u001b[0m\u001b[0;34m,\u001b[0m \u001b[0mworkspace_name\u001b[0m\u001b[0;34m)\u001b[0m\u001b[0;34m\u001b[0m\u001b[0;34m\u001b[0m\u001b[0m\n\u001b[0m\u001b[1;32m    186\u001b[0m             \u001b[0mself\u001b[0m\u001b[0;34m.\u001b[0m\u001b[0m_workspace_autorest_object\u001b[0m \u001b[0;34m=\u001b[0m \u001b[0mauto_rest_workspace\u001b[0m\u001b[0;34m\u001b[0m\u001b[0;34m\u001b[0m\u001b[0m\n\u001b[1;32m    187\u001b[0m \u001b[0;34m\u001b[0m\u001b[0m\n",
      "\u001b[0;32m/anaconda/envs/azureml_py36/lib/python3.6/site-packages/azureml/_project/_commands.py\u001b[0m in \u001b[0;36mget_workspace\u001b[0;34m(auth, subscription_id, resource_group_name, workspace_name)\u001b[0m\n\u001b[1;32m    351\u001b[0m     \"\"\"\n\u001b[1;32m    352\u001b[0m     \u001b[0;32mtry\u001b[0m\u001b[0;34m:\u001b[0m\u001b[0;34m\u001b[0m\u001b[0;34m\u001b[0m\u001b[0m\n\u001b[0;32m--> 353\u001b[0;31m         \u001b[0mworkspaces\u001b[0m \u001b[0;34m=\u001b[0m \u001b[0mauth\u001b[0m\u001b[0;34m.\u001b[0m\u001b[0m_get_service_client\u001b[0m\u001b[0;34m(\u001b[0m\u001b[0mAzureMachineLearningWorkspaces\u001b[0m\u001b[0;34m,\u001b[0m \u001b[0msubscription_id\u001b[0m\u001b[0;34m)\u001b[0m\u001b[0;34m.\u001b[0m\u001b[0mworkspaces\u001b[0m\u001b[0;34m\u001b[0m\u001b[0;34m\u001b[0m\u001b[0m\n\u001b[0m\u001b[1;32m    354\u001b[0m         return WorkspacesOperations.get(\n\u001b[1;32m    355\u001b[0m             \u001b[0mworkspaces\u001b[0m\u001b[0;34m,\u001b[0m\u001b[0;34m\u001b[0m\u001b[0;34m\u001b[0m\u001b[0m\n",
      "\u001b[0;32m/anaconda/envs/azureml_py36/lib/python3.6/site-packages/azureml/core/authentication.py\u001b[0m in \u001b[0;36m_get_service_client\u001b[0;34m(self, client_class, subscription_id, subscription_bound, base_url)\u001b[0m\n\u001b[1;32m    139\u001b[0m         \u001b[0;32mif\u001b[0m \u001b[0msubscription_id\u001b[0m\u001b[0;34m:\u001b[0m\u001b[0;34m\u001b[0m\u001b[0;34m\u001b[0m\u001b[0m\n\u001b[1;32m    140\u001b[0m             \u001b[0mall_subscription_list\u001b[0m\u001b[0;34m,\u001b[0m \u001b[0mtenant_id\u001b[0m \u001b[0;34m=\u001b[0m \u001b[0mself\u001b[0m\u001b[0;34m.\u001b[0m\u001b[0m_get_all_subscription_ids\u001b[0m\u001b[0;34m(\u001b[0m\u001b[0;34m)\u001b[0m\u001b[0;34m\u001b[0m\u001b[0;34m\u001b[0m\u001b[0m\n\u001b[0;32m--> 141\u001b[0;31m             \u001b[0mself\u001b[0m\u001b[0;34m.\u001b[0m\u001b[0m_check_if_subscription_exists\u001b[0m\u001b[0;34m(\u001b[0m\u001b[0msubscription_id\u001b[0m\u001b[0;34m,\u001b[0m \u001b[0mall_subscription_list\u001b[0m\u001b[0;34m,\u001b[0m \u001b[0mtenant_id\u001b[0m\u001b[0;34m)\u001b[0m\u001b[0;34m\u001b[0m\u001b[0;34m\u001b[0m\u001b[0m\n\u001b[0m\u001b[1;32m    142\u001b[0m \u001b[0;34m\u001b[0m\u001b[0m\n\u001b[1;32m    143\u001b[0m         \u001b[0;32mif\u001b[0m \u001b[0;32mnot\u001b[0m \u001b[0mbase_url\u001b[0m\u001b[0;34m:\u001b[0m\u001b[0;34m\u001b[0m\u001b[0;34m\u001b[0m\u001b[0m\n",
      "\u001b[0;32m/anaconda/envs/azureml_py36/lib/python3.6/site-packages/azureml/core/authentication.py\u001b[0m in \u001b[0;36mwrapper\u001b[0;34m(self, *args, **kwargs)\u001b[0m\n\u001b[1;32m    274\u001b[0m                 \u001b[0;32mif\u001b[0m \u001b[0mtype\u001b[0m\u001b[0;34m(\u001b[0m\u001b[0mself\u001b[0m\u001b[0;34m)\u001b[0m \u001b[0;34m==\u001b[0m \u001b[0mInteractiveLoginAuthentication\u001b[0m\u001b[0;34m:\u001b[0m\u001b[0;34m\u001b[0m\u001b[0;34m\u001b[0m\u001b[0m\n\u001b[1;32m    275\u001b[0m                     \u001b[0;31m# Perform InteractiveLoginAuthentication and try one more time.\u001b[0m\u001b[0;34m\u001b[0m\u001b[0;34m\u001b[0m\u001b[0;34m\u001b[0m\u001b[0m\n\u001b[0;32m--> 276\u001b[0;31m                     \u001b[0mInteractiveLoginAuthentication\u001b[0m\u001b[0;34m(\u001b[0m\u001b[0mforce\u001b[0m\u001b[0;34m=\u001b[0m\u001b[0;32mTrue\u001b[0m\u001b[0;34m,\u001b[0m \u001b[0mtenant_id\u001b[0m\u001b[0;34m=\u001b[0m\u001b[0mself\u001b[0m\u001b[0;34m.\u001b[0m\u001b[0m_tenant_id\u001b[0m\u001b[0;34m)\u001b[0m\u001b[0;34m\u001b[0m\u001b[0;34m\u001b[0m\u001b[0m\n\u001b[0m\u001b[1;32m    277\u001b[0m                     \u001b[0;31m# Try one more time\u001b[0m\u001b[0;34m\u001b[0m\u001b[0;34m\u001b[0m\u001b[0;34m\u001b[0m\u001b[0m\n\u001b[1;32m    278\u001b[0m                     \u001b[0;32mreturn\u001b[0m \u001b[0mtest_function\u001b[0m\u001b[0;34m(\u001b[0m\u001b[0mself\u001b[0m\u001b[0;34m,\u001b[0m \u001b[0;34m*\u001b[0m\u001b[0margs\u001b[0m\u001b[0;34m,\u001b[0m \u001b[0;34m**\u001b[0m\u001b[0mkwargs\u001b[0m\u001b[0;34m)\u001b[0m\u001b[0;34m\u001b[0m\u001b[0;34m\u001b[0m\u001b[0m\n",
      "\u001b[0;32m/anaconda/envs/azureml_py36/lib/python3.6/site-packages/azureml/core/authentication.py\u001b[0m in \u001b[0;36m__init__\u001b[0;34m(self, force, tenant_id, cloud)\u001b[0m\n\u001b[1;32m    393\u001b[0m                 print(\"Performing interactive authentication. Please follow the instructions \"\n\u001b[1;32m    394\u001b[0m                       \"on the terminal.\")\n\u001b[0;32m--> 395\u001b[0;31m                 \u001b[0mperform_interactive_login\u001b[0m\u001b[0;34m(\u001b[0m\u001b[0mtenant\u001b[0m\u001b[0;34m=\u001b[0m\u001b[0mtenant_id\u001b[0m\u001b[0;34m,\u001b[0m \u001b[0mcloud_type\u001b[0m\u001b[0;34m=\u001b[0m\u001b[0mself\u001b[0m\u001b[0;34m.\u001b[0m\u001b[0m_cloud_type\u001b[0m\u001b[0;34m)\u001b[0m\u001b[0;34m\u001b[0m\u001b[0;34m\u001b[0m\u001b[0m\n\u001b[0m\u001b[1;32m    396\u001b[0m                 \u001b[0mprint\u001b[0m\u001b[0;34m(\u001b[0m\u001b[0;34m\"Interactive authentication successfully completed.\"\u001b[0m\u001b[0;34m)\u001b[0m\u001b[0;34m\u001b[0m\u001b[0;34m\u001b[0m\u001b[0m\n\u001b[1;32m    397\u001b[0m             \u001b[0;32melse\u001b[0m\u001b[0;34m:\u001b[0m\u001b[0;34m\u001b[0m\u001b[0;34m\u001b[0m\u001b[0m\n",
      "\u001b[0;32m/anaconda/envs/azureml_py36/lib/python3.6/site-packages/azureml/_base_sdk_common/common.py\u001b[0m in \u001b[0;36mperform_interactive_login\u001b[0;34m(username, password, service_principal, tenant, allow_no_subscriptions, identity, use_device_code, use_cert_sn_issuer, cloud_type)\u001b[0m\n\u001b[1;32m    578\u001b[0m             \u001b[0muse_device_code\u001b[0m\u001b[0;34m=\u001b[0m\u001b[0muse_device_code\u001b[0m\u001b[0;34m,\u001b[0m\u001b[0;34m\u001b[0m\u001b[0;34m\u001b[0m\u001b[0m\n\u001b[1;32m    579\u001b[0m             \u001b[0mallow_no_subscriptions\u001b[0m\u001b[0;34m=\u001b[0m\u001b[0mallow_no_subscriptions\u001b[0m\u001b[0;34m,\u001b[0m\u001b[0;34m\u001b[0m\u001b[0;34m\u001b[0m\u001b[0m\n\u001b[0;32m--> 580\u001b[0;31m             use_cert_sn_issuer=use_cert_sn_issuer)\n\u001b[0m\u001b[1;32m    581\u001b[0m     \u001b[0;32mexcept\u001b[0m \u001b[0mAdalError\u001b[0m \u001b[0;32mas\u001b[0m \u001b[0merr\u001b[0m\u001b[0;34m:\u001b[0m\u001b[0;34m\u001b[0m\u001b[0;34m\u001b[0m\u001b[0m\n\u001b[1;32m    582\u001b[0m         \u001b[0;31m# try polish unfriendly server errors\u001b[0m\u001b[0;34m\u001b[0m\u001b[0;34m\u001b[0m\u001b[0;34m\u001b[0m\u001b[0m\n",
      "\u001b[0;32m/anaconda/envs/azureml_py36/lib/python3.6/site-packages/azureml/_vendor/azure_cli_core/_profile.py\u001b[0m in \u001b[0;36mfind_subscriptions_on_login\u001b[0;34m(self, interactive, username, password, is_service_principal, tenant, use_device_code, allow_no_subscriptions, subscription_finder, use_cert_sn_issuer)\u001b[0m\n\u001b[1;32m    226\u001b[0m             \u001b[0;32mif\u001b[0m \u001b[0muse_device_code\u001b[0m\u001b[0;34m:\u001b[0m\u001b[0;34m\u001b[0m\u001b[0;34m\u001b[0m\u001b[0m\n\u001b[1;32m    227\u001b[0m                 subscriptions = subscription_finder.find_through_interactive_flow(\n\u001b[0;32m--> 228\u001b[0;31m                     tenant, self._ad_resource_uri)\n\u001b[0m\u001b[1;32m    229\u001b[0m         \u001b[0;32melse\u001b[0m\u001b[0;34m:\u001b[0m\u001b[0;34m\u001b[0m\u001b[0;34m\u001b[0m\u001b[0m\n\u001b[1;32m    230\u001b[0m             \u001b[0;32mif\u001b[0m \u001b[0mis_service_principal\u001b[0m\u001b[0;34m:\u001b[0m\u001b[0;34m\u001b[0m\u001b[0;34m\u001b[0m\u001b[0m\n",
      "\u001b[0;32m/anaconda/envs/azureml_py36/lib/python3.6/site-packages/azureml/_vendor/azure_cli_core/_profile.py\u001b[0m in \u001b[0;36mfind_through_interactive_flow\u001b[0;34m(self, tenant, resource)\u001b[0m\n\u001b[1;32m    784\u001b[0m         \u001b[0msys\u001b[0m\u001b[0;34m.\u001b[0m\u001b[0mstdout\u001b[0m\u001b[0;34m.\u001b[0m\u001b[0mflush\u001b[0m\u001b[0;34m(\u001b[0m\u001b[0;34m)\u001b[0m\u001b[0;34m\u001b[0m\u001b[0;34m\u001b[0m\u001b[0m\n\u001b[1;32m    785\u001b[0m \u001b[0;34m\u001b[0m\u001b[0m\n\u001b[0;32m--> 786\u001b[0;31m         \u001b[0mtoken_entry\u001b[0m \u001b[0;34m=\u001b[0m \u001b[0mcontext\u001b[0m\u001b[0;34m.\u001b[0m\u001b[0macquire_token_with_device_code\u001b[0m\u001b[0;34m(\u001b[0m\u001b[0mresource\u001b[0m\u001b[0;34m,\u001b[0m \u001b[0mcode\u001b[0m\u001b[0;34m,\u001b[0m \u001b[0m_CLIENT_ID\u001b[0m\u001b[0;34m)\u001b[0m\u001b[0;34m\u001b[0m\u001b[0;34m\u001b[0m\u001b[0m\n\u001b[0m\u001b[1;32m    787\u001b[0m         \u001b[0mself\u001b[0m\u001b[0;34m.\u001b[0m\u001b[0muser_id\u001b[0m \u001b[0;34m=\u001b[0m \u001b[0mtoken_entry\u001b[0m\u001b[0;34m[\u001b[0m\u001b[0m_TOKEN_ENTRY_USER_ID\u001b[0m\u001b[0;34m]\u001b[0m\u001b[0;34m\u001b[0m\u001b[0;34m\u001b[0m\u001b[0m\n\u001b[1;32m    788\u001b[0m         \u001b[0;32mif\u001b[0m \u001b[0mtenant\u001b[0m \u001b[0;32mis\u001b[0m \u001b[0;32mNone\u001b[0m\u001b[0;34m:\u001b[0m\u001b[0;34m\u001b[0m\u001b[0;34m\u001b[0m\u001b[0m\n",
      "\u001b[0;32m/anaconda/envs/azureml_py36/lib/python3.6/site-packages/adal/authentication_context.py\u001b[0m in \u001b[0;36macquire_token_with_device_code\u001b[0;34m(self, resource, user_code_info, client_id)\u001b[0m\n\u001b[1;32m    297\u001b[0m             \u001b[0;32mreturn\u001b[0m \u001b[0mtoken\u001b[0m\u001b[0;34m\u001b[0m\u001b[0;34m\u001b[0m\u001b[0m\n\u001b[1;32m    298\u001b[0m \u001b[0;34m\u001b[0m\u001b[0m\n\u001b[0;32m--> 299\u001b[0;31m         \u001b[0;32mreturn\u001b[0m \u001b[0mself\u001b[0m\u001b[0;34m.\u001b[0m\u001b[0m_acquire_token\u001b[0m\u001b[0;34m(\u001b[0m\u001b[0mtoken_func\u001b[0m\u001b[0;34m,\u001b[0m \u001b[0muser_code_info\u001b[0m\u001b[0;34m.\u001b[0m\u001b[0mget\u001b[0m\u001b[0;34m(\u001b[0m\u001b[0;34m'correlation_id'\u001b[0m\u001b[0;34m,\u001b[0m \u001b[0;32mNone\u001b[0m\u001b[0;34m)\u001b[0m\u001b[0;34m)\u001b[0m\u001b[0;34m\u001b[0m\u001b[0;34m\u001b[0m\u001b[0m\n\u001b[0m\u001b[1;32m    300\u001b[0m \u001b[0;34m\u001b[0m\u001b[0m\n\u001b[1;32m    301\u001b[0m     \u001b[0;32mdef\u001b[0m \u001b[0mcancel_request_to_get_token_with_device_code\u001b[0m\u001b[0;34m(\u001b[0m\u001b[0mself\u001b[0m\u001b[0;34m,\u001b[0m \u001b[0muser_code_info\u001b[0m\u001b[0;34m)\u001b[0m\u001b[0;34m:\u001b[0m\u001b[0;34m\u001b[0m\u001b[0;34m\u001b[0m\u001b[0m\n",
      "\u001b[0;32m/anaconda/envs/azureml_py36/lib/python3.6/site-packages/adal/authentication_context.py\u001b[0m in \u001b[0;36m_acquire_token\u001b[0;34m(self, token_func, correlation_id)\u001b[0m\n\u001b[1;32m    126\u001b[0m             correlation_id or self.correlation_id, self._call_context.get('enable_pii', False))\n\u001b[1;32m    127\u001b[0m         \u001b[0mself\u001b[0m\u001b[0;34m.\u001b[0m\u001b[0mauthority\u001b[0m\u001b[0;34m.\u001b[0m\u001b[0mvalidate\u001b[0m\u001b[0;34m(\u001b[0m\u001b[0mself\u001b[0m\u001b[0;34m.\u001b[0m\u001b[0m_call_context\u001b[0m\u001b[0;34m)\u001b[0m\u001b[0;34m\u001b[0m\u001b[0;34m\u001b[0m\u001b[0m\n\u001b[0;32m--> 128\u001b[0;31m         \u001b[0;32mreturn\u001b[0m \u001b[0mtoken_func\u001b[0m\u001b[0;34m(\u001b[0m\u001b[0mself\u001b[0m\u001b[0;34m)\u001b[0m\u001b[0;34m\u001b[0m\u001b[0;34m\u001b[0m\u001b[0m\n\u001b[0m\u001b[1;32m    129\u001b[0m \u001b[0;34m\u001b[0m\u001b[0m\n\u001b[1;32m    130\u001b[0m     \u001b[0;32mdef\u001b[0m \u001b[0macquire_token\u001b[0m\u001b[0;34m(\u001b[0m\u001b[0mself\u001b[0m\u001b[0;34m,\u001b[0m \u001b[0mresource\u001b[0m\u001b[0;34m,\u001b[0m \u001b[0muser_id\u001b[0m\u001b[0;34m,\u001b[0m \u001b[0mclient_id\u001b[0m\u001b[0;34m)\u001b[0m\u001b[0;34m:\u001b[0m\u001b[0;34m\u001b[0m\u001b[0;34m\u001b[0m\u001b[0m\n",
      "\u001b[0;32m/anaconda/envs/azureml_py36/lib/python3.6/site-packages/adal/authentication_context.py\u001b[0m in \u001b[0;36mtoken_func\u001b[0;34m(self)\u001b[0m\n\u001b[1;32m    290\u001b[0m                 \u001b[0mself\u001b[0m\u001b[0;34m.\u001b[0m\u001b[0m_token_requests_with_user_code\u001b[0m\u001b[0;34m[\u001b[0m\u001b[0mkey\u001b[0m\u001b[0;34m]\u001b[0m \u001b[0;34m=\u001b[0m \u001b[0mtoken_request\u001b[0m\u001b[0;34m\u001b[0m\u001b[0;34m\u001b[0m\u001b[0m\n\u001b[1;32m    291\u001b[0m \u001b[0;34m\u001b[0m\u001b[0m\n\u001b[0;32m--> 292\u001b[0;31m             \u001b[0mtoken\u001b[0m \u001b[0;34m=\u001b[0m \u001b[0mtoken_request\u001b[0m\u001b[0;34m.\u001b[0m\u001b[0mget_token_with_device_code\u001b[0m\u001b[0;34m(\u001b[0m\u001b[0muser_code_info\u001b[0m\u001b[0;34m)\u001b[0m\u001b[0;34m\u001b[0m\u001b[0;34m\u001b[0m\u001b[0m\n\u001b[0m\u001b[1;32m    293\u001b[0m \u001b[0;34m\u001b[0m\u001b[0m\n\u001b[1;32m    294\u001b[0m             \u001b[0;32mwith\u001b[0m \u001b[0mself\u001b[0m\u001b[0;34m.\u001b[0m\u001b[0m_lock\u001b[0m\u001b[0;34m:\u001b[0m\u001b[0;34m\u001b[0m\u001b[0;34m\u001b[0m\u001b[0m\n",
      "\u001b[0;32m/anaconda/envs/azureml_py36/lib/python3.6/site-packages/adal/token_request.py\u001b[0m in \u001b[0;36mget_token_with_device_code\u001b[0;34m(self, user_code_info)\u001b[0m\n\u001b[1;32m    390\u001b[0m         \u001b[0mself\u001b[0m\u001b[0;34m.\u001b[0m\u001b[0m_polling_client\u001b[0m \u001b[0;34m=\u001b[0m \u001b[0mclient\u001b[0m\u001b[0;34m\u001b[0m\u001b[0;34m\u001b[0m\u001b[0m\n\u001b[1;32m    391\u001b[0m \u001b[0;34m\u001b[0m\u001b[0m\n\u001b[0;32m--> 392\u001b[0;31m         \u001b[0mtoken\u001b[0m \u001b[0;34m=\u001b[0m \u001b[0mclient\u001b[0m\u001b[0;34m.\u001b[0m\u001b[0mget_token_with_polling\u001b[0m\u001b[0;34m(\u001b[0m\u001b[0moauth_parameters\u001b[0m\u001b[0;34m,\u001b[0m \u001b[0minterval\u001b[0m\u001b[0;34m,\u001b[0m \u001b[0mexpires_in\u001b[0m\u001b[0;34m)\u001b[0m\u001b[0;34m\u001b[0m\u001b[0;34m\u001b[0m\u001b[0m\n\u001b[0m\u001b[1;32m    393\u001b[0m         \u001b[0mself\u001b[0m\u001b[0;34m.\u001b[0m\u001b[0m_add_token_into_cache\u001b[0m\u001b[0;34m(\u001b[0m\u001b[0mtoken\u001b[0m\u001b[0;34m)\u001b[0m\u001b[0;34m\u001b[0m\u001b[0;34m\u001b[0m\u001b[0m\n\u001b[1;32m    394\u001b[0m \u001b[0;34m\u001b[0m\u001b[0m\n",
      "\u001b[0;32m/anaconda/envs/azureml_py36/lib/python3.6/site-packages/adal/oauth2_client.py\u001b[0m in \u001b[0;36mget_token_with_polling\u001b[0;34m(self, oauth_parameters, refresh_internal, expires_in)\u001b[0m\n\u001b[1;32m    356\u001b[0m             \u001b[0merror\u001b[0m \u001b[0;34m=\u001b[0m \u001b[0mwire_response\u001b[0m\u001b[0;34m.\u001b[0m\u001b[0mget\u001b[0m\u001b[0;34m(\u001b[0m\u001b[0mOAuth2\u001b[0m\u001b[0;34m.\u001b[0m\u001b[0mDeviceCodeResponseParameters\u001b[0m\u001b[0;34m.\u001b[0m\u001b[0mERROR\u001b[0m\u001b[0;34m)\u001b[0m\u001b[0;34m\u001b[0m\u001b[0;34m\u001b[0m\u001b[0m\n\u001b[1;32m    357\u001b[0m             \u001b[0;32mif\u001b[0m \u001b[0merror\u001b[0m \u001b[0;34m==\u001b[0m \u001b[0;34m'authorization_pending'\u001b[0m\u001b[0;34m:\u001b[0m\u001b[0;34m\u001b[0m\u001b[0;34m\u001b[0m\u001b[0m\n\u001b[0;32m--> 358\u001b[0;31m                 \u001b[0mtime\u001b[0m\u001b[0;34m.\u001b[0m\u001b[0msleep\u001b[0m\u001b[0;34m(\u001b[0m\u001b[0mrefresh_internal\u001b[0m\u001b[0;34m)\u001b[0m\u001b[0;34m\u001b[0m\u001b[0;34m\u001b[0m\u001b[0m\n\u001b[0m\u001b[1;32m    359\u001b[0m                 \u001b[0;32mcontinue\u001b[0m\u001b[0;34m\u001b[0m\u001b[0;34m\u001b[0m\u001b[0m\n\u001b[1;32m    360\u001b[0m             \u001b[0;32melif\u001b[0m \u001b[0merror\u001b[0m\u001b[0;34m:\u001b[0m\u001b[0;34m\u001b[0m\u001b[0;34m\u001b[0m\u001b[0m\n",
      "\u001b[0;31mKeyboardInterrupt\u001b[0m: "
     ]
    }
   ],
   "source": [
    "# Retrieve your workspace by name by filling in the lower case values between double quotes\n",
    "ws = Workspace.get(name=\"<my-workspace>\",\n",
    "        subscription_id=\"<my-azure-subscription-id>\",\n",
    "        resource_group=\"<my-resource-group>\")"
   ]
  },
  {
   "cell_type": "code",
   "execution_count": null,
   "metadata": {},
   "outputs": [],
   "source": [
    "# Retrieve your Datastore by name by filling in the lower case values between double quotes\n",
    "datastore_name = \"<my-datastore-name>\"\n",
    "datastore = Datastore.get(ws, datastore_name)"
   ]
  },
  {
   "cell_type": "code",
   "execution_count": null,
   "metadata": {},
   "outputs": [],
   "source": [
    "# Retrieve your Refined Datasets by name by filling in the lower case values between double quotes\n",
    "dataset_name_test = \"<my-transformed-dataset-name>\"\n",
    "dataset_name_train  = \"<my-transformed-dataset-name>\"\n",
    "\n",
    "# Load Data in as Tabular Datasets\n",
    "testing_data  = Dataset.get_by_name(ws, dataset_name_test, version='latest')\n",
    "training_data = Dataset.get_by_name(ws, dataset_name_train, version='latest')"
   ]
  },
  {
   "cell_type": "code",
   "execution_count": null,
   "metadata": {},
   "outputs": [],
   "source": [
    "# Convert your tabular dataset to pandas data frames\n",
    "testTransformedDF = testing_data.to_pandas_dataframe()\n",
    "trainTransformedDF = training_data.to_pandas_dataframe()"
   ]
  },
  {
   "cell_type": "markdown",
   "metadata": {},
   "source": [
    "### Now, deploy your model to your ACI Cluster.\n",
    "To deploy your model, you will need to use an entry script and an environment file.<br>\n",
    "ACI is for testing and has less security, less power and shorter timeouts than AKS."
   ]
  },
  {
   "cell_type": "code",
   "execution_count": 8,
   "metadata": {},
   "outputs": [
    {
     "ename": "WebserviceException",
     "evalue": "WebserviceException:\n\tMessage: ModelNotFound: Model with name <my-model-name> not found in provided workspace\n\tInnerException None\n\tErrorResponse \n{\n    \"error\": {\n        \"message\": \"ModelNotFound: Model with name <my-model-name> not found in provided workspace\"\n    }\n}",
     "output_type": "error",
     "traceback": [
      "\u001b[0;31m---------------------------------------------------------------------------\u001b[0m",
      "\u001b[0;31mWebserviceException\u001b[0m                       Traceback (most recent call last)",
      "\u001b[0;32m<ipython-input-8-3b8e02736389>\u001b[0m in \u001b[0;36m<module>\u001b[0;34m\u001b[0m\n\u001b[1;32m      6\u001b[0m \u001b[0;34m\u001b[0m\u001b[0m\n\u001b[1;32m      7\u001b[0m \u001b[0;31m# Retrieve your AutoML Model\u001b[0m\u001b[0;34m\u001b[0m\u001b[0;34m\u001b[0m\u001b[0;34m\u001b[0m\u001b[0m\n\u001b[0;32m----> 8\u001b[0;31m \u001b[0mmodel\u001b[0m \u001b[0;34m=\u001b[0m \u001b[0mModel\u001b[0m\u001b[0;34m(\u001b[0m\u001b[0mws\u001b[0m\u001b[0;34m,\u001b[0m \u001b[0;34m'<my-model-name>'\u001b[0m\u001b[0;34m)\u001b[0m\u001b[0;34m\u001b[0m\u001b[0;34m\u001b[0m\u001b[0m\n\u001b[0m",
      "\u001b[0;32m/anaconda/envs/azureml_py36/lib/python3.6/site-packages/azureml/core/model.py\u001b[0m in \u001b[0;36m__init__\u001b[0;34m(self, workspace, name, id, tags, properties, version, run_id, model_framework)\u001b[0m\n\u001b[1;32m    279\u001b[0m                 \u001b[0merror_message\u001b[0m \u001b[0;34m+=\u001b[0m \u001b[0;34m' not found in provided workspace'\u001b[0m\u001b[0;34m\u001b[0m\u001b[0;34m\u001b[0m\u001b[0m\n\u001b[1;32m    280\u001b[0m \u001b[0;34m\u001b[0m\u001b[0m\n\u001b[0;32m--> 281\u001b[0;31m                 \u001b[0;32mraise\u001b[0m \u001b[0mWebserviceException\u001b[0m\u001b[0;34m(\u001b[0m\u001b[0merror_message\u001b[0m\u001b[0;34m)\u001b[0m\u001b[0;34m\u001b[0m\u001b[0;34m\u001b[0m\u001b[0m\n\u001b[0m\u001b[1;32m    282\u001b[0m \u001b[0;34m\u001b[0m\u001b[0m\n\u001b[1;32m    283\u001b[0m     \u001b[0;32mdef\u001b[0m \u001b[0m__repr__\u001b[0m\u001b[0;34m(\u001b[0m\u001b[0mself\u001b[0m\u001b[0;34m)\u001b[0m\u001b[0;34m:\u001b[0m\u001b[0;34m\u001b[0m\u001b[0;34m\u001b[0m\u001b[0m\n",
      "\u001b[0;31mWebserviceException\u001b[0m: WebserviceException:\n\tMessage: ModelNotFound: Model with name <my-model-name> not found in provided workspace\n\tInnerException None\n\tErrorResponse \n{\n    \"error\": {\n        \"message\": \"ModelNotFound: Model with name <my-model-name> not found in provided workspace\"\n    }\n}"
     ]
    }
   ],
   "source": [
    "# Retrieve your AutoML generated entry script\n",
    "entry_script = 'inference/score.py'\n",
    "\n",
    "# Retrieve your AutoML generated environment\n",
    "environment = Environment.get(ws, 'automl-environment')\n",
    "\n",
    "# Retrieve your AutoML Model\n",
    "model = Model(ws, '<my-model-name>')"
   ]
  },
  {
   "cell_type": "code",
   "execution_count": null,
   "metadata": {},
   "outputs": [],
   "source": [
    "# Give your ACI deployment a name\n",
    "aci_service_name = '<my-aci-deployment>'\n",
    "\n",
    "# Set your scoring script and environment file\n",
    "inference_config = InferenceConfig(entry_script=entry_script, environment = environment)\n",
    "\n",
    "# Set your ACI configuration options\n",
    "aci_config = AciWebservice.deploy_configuration(cpu_cores = 1, \n",
    "                                               memory_gb = 1, \n",
    "                                               tags = {'<my-tag-1>': '<my-tag-1-value>', '<my-tag-2>': '<my-tag-2-value>'},\n",
    "                                               description = '<my-project-description>')\n",
    "\n",
    "# Deploy your model to ACI\n",
    "print(aci_service_name)\n",
    "aci_service = Model.deploy(ws, aci_service_name, [model], inference_config, aci_config,overwrite=True)\n",
    "aci_service.wait_for_deployment(True)\n",
    "print(aci_service.state)"
   ]
  },
  {
   "cell_type": "markdown",
   "metadata": {},
   "source": [
    "### Create an AKS Cluster\n",
    "Select a VM Size and number of VMs to run your AKS cluster.  Your cores must number at least 12, so if you select a VM with 4 cores, set agent count to 3.<br>\n",
    "A single AKS Cluster can support many deployments depending on the size of the cluster.\n",
    "\n",
    "Check out AKS configuration options here:<br> https://docs.microsoft.com/en-us/python/api/azureml-core/azureml.core.compute.aks.aksprovisioningconfiguration?view=azure-ml-py"
   ]
  },
  {
   "cell_type": "code",
   "execution_count": null,
   "metadata": {},
   "outputs": [],
   "source": [
    "from azureml.core.compute import AksCompute, ComputeTarget\n",
    "\n",
    "# Run this cell only once.\n",
    "# Set the configurations here.  Select Larger VM sizes and more agents for faster performance\n",
    "prov_config = AksCompute.provisioning_configuration(vm_size='Standard_D3_v2', agent_count=3)\n",
    "# Give your AKS Cluster a name\n",
    "aks_name = '<my-aks-cluster>'\n",
    "# Create the cluster and attach it to your workspace\n",
    "aks_target = ComputeTarget.create(workspace = ws,\n",
    "                                    name = aks_name,\n",
    "                                    provisioning_configuration = prov_config)\n",
    "\n",
    "# Wait for the create process to complete\n",
    "aks_target.wait_for_completion(show_output = True)\n",
    "\n",
    "# You only need to run this cell once to set up your AKS Cluster.\n",
    "# After setting it up once, hashtag this cell out unless you want to create more clusters."
   ]
  },
  {
   "cell_type": "markdown",
   "metadata": {},
   "source": [
    "### Deploy your model to your AKS Cluster.\n",
    "To deploy your model, you will need to use an entry script and an environment file.<br>\n",
    "AKS is for production jobs and can be configured to use large VMs, more security and longer timeouts than ACI."
   ]
  },
  {
   "cell_type": "code",
   "execution_count": 5,
   "metadata": {},
   "outputs": [
    {
     "ename": "Exception",
     "evalue": "Error retrieving the environment definition. Code: 404\n: {\n  \"error\": {\n    \"code\": \"UserError\",\n    \"message\": \"No definitions exist for environment automl-environment\",\n    \"detailsUri\": null,\n    \"target\": null,\n    \"details\": [],\n    \"innerError\": null,\n    \"debugInfo\": {\n      \"type\": \"Common.WebApi.Exceptions.ResourceNotFoundException\",\n      \"message\": \"No definitions exist for environment automl-environment\",\n      \"stackTrace\": \"   at Microsoft.MachineLearning.EnvironmentManagement.Services.EnvironmentStateManager.GetLatestDefinitionOrFail(WorkspaceScope workspace, String name, Boolean secrets) in /home/vsts/work/1/s/src/azureml-api/src/EnvironmentManagement/Services/EnvironmentStateManager.cs:line 108\\n   at Microsoft.MachineLearning.EnvironmentManagement.EntryPoints.Api.Controllers.EnvironmentController.GetLatestDefinition(Guid subscriptionId, String resourceGroupName, String workspaceName, String environmentName, Boolean secrets) in /home/vsts/work/1/s/src/azureml-api/src/EnvironmentManagement/EntryPoints/Api/Controllers/EnvironmentController.cs:line 70\\n   at lambda_method(Closure , Object )\\n   at Microsoft.AspNetCore.Mvc.Internal.ActionMethodExecutor.AwaitableObjectResultExecutor.Execute(IActionResultTypeMapper mapper, ObjectMethodExecutor executor, Object controller, Object[] arguments)\\n   at Microsoft.AspNetCore.Mvc.Internal.ControllerActionInvoker.InvokeActionMethodAsync()\\n   at Microsoft.AspNetCore.Mvc.Internal.ControllerActionInvoker.InvokeNextActionFilterAsync()\\n   at Microsoft.AspNetCore.Mvc.Internal.ControllerActionInvoker.Rethrow(ActionExecutedContext context)\\n   at Microsoft.AspNetCore.Mvc.Internal.ControllerActionInvoker.Next(State& next, Scope& scope, Object& state, Boolean& isCompleted)\\n   at Microsoft.AspNetCore.Mvc.Internal.ControllerActionInvoker.InvokeInnerFilterAsync()\\n   at Microsoft.AspNetCore.Mvc.Internal.ResourceInvoker.InvokeNextExceptionFilterAsync()\",\n      \"innerException\": null,\n      \"data\": {},\n      \"errorResponse\": null\n    }\n  },\n  \"correlation\": {\n    \"operation\": \"414aeee54d6c9943a564e3114b7247ff\",\n    \"request\": \"bb44873f26a2ab1d\"\n  },\n  \"environment\": \"eastus\",\n  \"location\": \"eastus\",\n  \"time\": \"2020-03-01T04:13:53.2227031+00:00\"\n}",
     "output_type": "error",
     "traceback": [
      "\u001b[0;31m---------------------------------------------------------------------------\u001b[0m",
      "\u001b[0;31mException\u001b[0m                                 Traceback (most recent call last)",
      "\u001b[0;32m<ipython-input-5-fcaa1c3e05ba>\u001b[0m in \u001b[0;36m<module>\u001b[0;34m\u001b[0m\n\u001b[1;32m      3\u001b[0m \u001b[0;34m\u001b[0m\u001b[0m\n\u001b[1;32m      4\u001b[0m \u001b[0;31m# Retrieve your AutoML generated environment\u001b[0m\u001b[0;34m\u001b[0m\u001b[0;34m\u001b[0m\u001b[0;34m\u001b[0m\u001b[0m\n\u001b[0;32m----> 5\u001b[0;31m \u001b[0menvironment\u001b[0m \u001b[0;34m=\u001b[0m \u001b[0mEnvironment\u001b[0m\u001b[0;34m.\u001b[0m\u001b[0mget\u001b[0m\u001b[0;34m(\u001b[0m\u001b[0mws\u001b[0m\u001b[0;34m,\u001b[0m \u001b[0;34m'automl-environment'\u001b[0m\u001b[0;34m,\u001b[0m \u001b[0mversion\u001b[0m\u001b[0;34m=\u001b[0m\u001b[0;32mNone\u001b[0m\u001b[0;34m)\u001b[0m\u001b[0;34m\u001b[0m\u001b[0;34m\u001b[0m\u001b[0m\n\u001b[0m",
      "\u001b[0;32m/anaconda/envs/azureml_py36/lib/python3.6/site-packages/azureml/core/environment.py\u001b[0m in \u001b[0;36mget\u001b[0;34m(workspace, name, version)\u001b[0m\n\u001b[1;32m    568\u001b[0m         \"\"\"\n\u001b[1;32m    569\u001b[0m         \u001b[0menvironment_client\u001b[0m \u001b[0;34m=\u001b[0m \u001b[0mEnvironmentClient\u001b[0m\u001b[0;34m(\u001b[0m\u001b[0mworkspace\u001b[0m\u001b[0;34m.\u001b[0m\u001b[0mservice_context\u001b[0m\u001b[0;34m)\u001b[0m\u001b[0;34m\u001b[0m\u001b[0;34m\u001b[0m\u001b[0m\n\u001b[0;32m--> 570\u001b[0;31m         \u001b[0menvironment_dict\u001b[0m \u001b[0;34m=\u001b[0m \u001b[0menvironment_client\u001b[0m\u001b[0;34m.\u001b[0m\u001b[0m_get_environment_definition\u001b[0m\u001b[0;34m(\u001b[0m\u001b[0mname\u001b[0m\u001b[0;34m=\u001b[0m\u001b[0mname\u001b[0m\u001b[0;34m,\u001b[0m \u001b[0mversion\u001b[0m\u001b[0;34m=\u001b[0m\u001b[0mversion\u001b[0m\u001b[0;34m)\u001b[0m\u001b[0;34m\u001b[0m\u001b[0;34m\u001b[0m\u001b[0m\n\u001b[0m\u001b[1;32m    571\u001b[0m         \u001b[0menv\u001b[0m \u001b[0;34m=\u001b[0m \u001b[0mEnvironment\u001b[0m\u001b[0;34m.\u001b[0m\u001b[0m_deserialize_and_add_to_object\u001b[0m\u001b[0;34m(\u001b[0m\u001b[0menvironment_dict\u001b[0m\u001b[0;34m)\u001b[0m\u001b[0;34m\u001b[0m\u001b[0;34m\u001b[0m\u001b[0m\n\u001b[1;32m    572\u001b[0m \u001b[0;34m\u001b[0m\u001b[0m\n",
      "\u001b[0;32m/anaconda/envs/azureml_py36/lib/python3.6/site-packages/azureml/_restclient/environment_client.py\u001b[0m in \u001b[0;36m_get_environment_definition\u001b[0;34m(self, name, version)\u001b[0m\n\u001b[1;32m     44\u001b[0m             message = \"Error retrieving the environment definition. Code: {}\\n: {}\".format(response.status_code,\n\u001b[1;32m     45\u001b[0m                                                                                            response.text)\n\u001b[0;32m---> 46\u001b[0;31m             \u001b[0;32mraise\u001b[0m \u001b[0mException\u001b[0m\u001b[0;34m(\u001b[0m\u001b[0mmessage\u001b[0m\u001b[0;34m)\u001b[0m\u001b[0;34m\u001b[0m\u001b[0;34m\u001b[0m\u001b[0m\n\u001b[0m\u001b[1;32m     47\u001b[0m \u001b[0;34m\u001b[0m\u001b[0m\n\u001b[1;32m     48\u001b[0m     \u001b[0;32mdef\u001b[0m \u001b[0m_register_environment_definition\u001b[0m\u001b[0;34m(\u001b[0m\u001b[0mself\u001b[0m\u001b[0;34m,\u001b[0m \u001b[0menvironment_dict\u001b[0m\u001b[0;34m)\u001b[0m\u001b[0;34m:\u001b[0m\u001b[0;34m\u001b[0m\u001b[0;34m\u001b[0m\u001b[0m\n",
      "\u001b[0;31mException\u001b[0m: Error retrieving the environment definition. Code: 404\n: {\n  \"error\": {\n    \"code\": \"UserError\",\n    \"message\": \"No definitions exist for environment automl-environment\",\n    \"detailsUri\": null,\n    \"target\": null,\n    \"details\": [],\n    \"innerError\": null,\n    \"debugInfo\": {\n      \"type\": \"Common.WebApi.Exceptions.ResourceNotFoundException\",\n      \"message\": \"No definitions exist for environment automl-environment\",\n      \"stackTrace\": \"   at Microsoft.MachineLearning.EnvironmentManagement.Services.EnvironmentStateManager.GetLatestDefinitionOrFail(WorkspaceScope workspace, String name, Boolean secrets) in /home/vsts/work/1/s/src/azureml-api/src/EnvironmentManagement/Services/EnvironmentStateManager.cs:line 108\\n   at Microsoft.MachineLearning.EnvironmentManagement.EntryPoints.Api.Controllers.EnvironmentController.GetLatestDefinition(Guid subscriptionId, String resourceGroupName, String workspaceName, String environmentName, Boolean secrets) in /home/vsts/work/1/s/src/azureml-api/src/EnvironmentManagement/EntryPoints/Api/Controllers/EnvironmentController.cs:line 70\\n   at lambda_method(Closure , Object )\\n   at Microsoft.AspNetCore.Mvc.Internal.ActionMethodExecutor.AwaitableObjectResultExecutor.Execute(IActionResultTypeMapper mapper, ObjectMethodExecutor executor, Object controller, Object[] arguments)\\n   at Microsoft.AspNetCore.Mvc.Internal.ControllerActionInvoker.InvokeActionMethodAsync()\\n   at Microsoft.AspNetCore.Mvc.Internal.ControllerActionInvoker.InvokeNextActionFilterAsync()\\n   at Microsoft.AspNetCore.Mvc.Internal.ControllerActionInvoker.Rethrow(ActionExecutedContext context)\\n   at Microsoft.AspNetCore.Mvc.Internal.ControllerActionInvoker.Next(State& next, Scope& scope, Object& state, Boolean& isCompleted)\\n   at Microsoft.AspNetCore.Mvc.Internal.ControllerActionInvoker.InvokeInnerFilterAsync()\\n   at Microsoft.AspNetCore.Mvc.Internal.ResourceInvoker.InvokeNextExceptionFilterAsync()\",\n      \"innerException\": null,\n      \"data\": {},\n      \"errorResponse\": null\n    }\n  },\n  \"correlation\": {\n    \"operation\": \"414aeee54d6c9943a564e3114b7247ff\",\n    \"request\": \"bb44873f26a2ab1d\"\n  },\n  \"environment\": \"eastus\",\n  \"location\": \"eastus\",\n  \"time\": \"2020-03-01T04:13:53.2227031+00:00\"\n}"
     ]
    }
   ],
   "source": [
    "# Retrieve your AutoML generated entry script\n",
    "entry_script = 'inference/score.py'\n",
    "\n",
    "# Retrieve your AutoML generated environment\n",
    "environment = Environment.get(ws, 'automl-environment')\n",
    "\n",
    "# Retrieve your AutoML Model\n",
    "model = Model(ws, '<my-model-name>')"
   ]
  },
  {
   "cell_type": "code",
   "execution_count": null,
   "metadata": {},
   "outputs": [],
   "source": [
    "# Set your target AKS Cluster\n",
    "aks_target = AksCompute(ws,\"<my-aks-cluster>\")\n",
    "\n",
    "# Give your deployment a name\n",
    "aks_service_name = '<my-aks-deployment>'\n",
    "\n",
    "# Set your scoring script and environment file\n",
    "inference_config = InferenceConfig(entry_script=entry_script, environment = environment)\n",
    "\n",
    "# Set your AKS configuration options\n",
    "aks_config = AksWebservice.deploy_configuration(cpu_cores = 1, \n",
    "                                                memory_gb = 1, \n",
    "                                                tags = {'<my-tag-1>': '<my-tag-1-value>', '<my-tag-2>': '<my-tag-2-value>'}, \n",
    "                                                description = '<my-project-description>')\n",
    "\n",
    "# Deploy your model to AKS\n",
    "print(aks_service_name)\n",
    "aks_service = Model.deploy(ws, aks_service_name, [model], inference_config, aks_config, aks_target,overwrite=True)\n",
    "aks_service.wait_for_deployment(show_output = True)\n",
    "print(aks_service.state)"
   ]
  },
  {
   "cell_type": "markdown",
   "metadata": {},
   "source": [
    "# Test your Deployment\n",
    "Test your AKS and ACI deployed models through your Jupyter Notebook.  You can also use CURL (Postman)."
   ]
  },
  {
   "cell_type": "code",
   "execution_count": null,
   "metadata": {},
   "outputs": [],
   "source": [
    "# Drop columns that are not used in your scoring script\n",
    "# Create a sample to display the data easily\n",
    "# Make sure your sample data is not too large or you will run into problems.\n",
    "\n",
    "testSampleDF = testTransformedDF[(testTransformedDF.MyFilterColumn == '<My-Filter-Value>')]\n",
    "testScoreDF = testSampleDF.drop(['<my-extra-column-1>','<my-extra-column-2>','<my-label-column>'],axis=1)"
   ]
  },
  {
   "cell_type": "code",
   "execution_count": null,
   "metadata": {},
   "outputs": [],
   "source": [
    "# Use orient records to create your JSON file.  Other formats may not work.\n",
    "# Preface your autoML test data with {\"data\": and close it with }\n",
    "\n",
    "testJsonLoad = '{\"data\":' + testScoreDF.to_json(orient='records') + '}'"
   ]
  },
  {
   "cell_type": "code",
   "execution_count": null,
   "metadata": {},
   "outputs": [],
   "source": [
    "# Load the data into JSON \n",
    "testJson = json.loads(testJsonLoad)\n",
    "\n",
    "# Convert your test data to a JSON string\n",
    "input_data = json.dumps(testJson)"
   ]
  },
  {
   "cell_type": "markdown",
   "metadata": {},
   "source": [
    "### Examine your Scoring Script\n",
    "Make sure that you only include variables in your test data that appear in your scoring script's inference schema.<br>  Print out your script using the cell below and compare your schema with the print statement 2 cells down."
   ]
  },
  {
   "cell_type": "code",
   "execution_count": 1,
   "metadata": {},
   "outputs": [
    {
     "name": "stdout",
     "output_type": "stream",
     "text": [
      "# ---------------------------------------------------------\n",
      "# Copyright (c) Microsoft Corporation. All rights reserved.\n",
      "# ---------------------------------------------------------\n",
      "import json\n",
      "import pickle\n",
      "import numpy as np\n",
      "import pandas as pd\n",
      "import azureml.train.automl\n",
      "from sklearn.externals import joblib\n",
      "from azureml.core.model import Model\n",
      "\n",
      "from inference_schema.schema_decorators import input_schema, output_schema\n",
      "from inference_schema.parameter_types.numpy_parameter_type import NumpyParameterType\n",
      "from inference_schema.parameter_types.pandas_parameter_type import PandasParameterType\n",
      "\n",
      "\n",
      "input_sample = pd.DataFrame(data=[{'RowID': 0, 'GR': 99.0, 'smoothedGR': 104.0, 'FirstRow': 'First', 'smoothedGR1': None, 'smoothedGR-1': 104.0, 'smoothedGR2': None, 'smoothedGR-2': 104.1, 'smoothedGR3': None, 'smoothedGR-3': 104.1, 'smoothedGR4': None, 'smoothedGR-4': 104.2, 'smoothedDifference': 0.0, 'smoothedDifference_SMA': -2.8, 'smoothedDifference_SMA_4': None, 'smoothedDifference_SMA_8': None, 'smoothedDifference_SMA_12': None, 'smoothedDifference_SMA_16': None, 'smoothedDifference_SMA_20': None, 'smoothedDifference_SMA_24': None, 'smoothedDifference_SMA_28': None, 'smoothedDifference_SMA_32': None, 'smoothedDifference_SMA_36': None, 'smoothedDifference_SMA_40': None, 'smoothedDifference_SMA_FORWARD_4': -1.1, 'smoothedDifference_SMA_FORWARD_8': 4.5, 'smoothedDifference_SMA_FORWARD_12': -3.2, 'smoothedDifference_SMA_FORWARD_16': 0.7, 'smoothedDifference_SMA_FORWARD_20': 0.3, 'smoothedDifference_SMA_FORWARD_24': 1.6, 'smoothedDifference_SMA_FORWARD_28': -0.8, 'smoothedDifference_SMA_FORWARD_32': -2.0, 'smoothedDifference_SMA_FORWARD_36': 2.6, 'smoothedDifference_SMA_FORWARD_40': -1.6}])\n",
      "output_sample = np.array([0])\n",
      "\n",
      "\n",
      "def init():\n",
      "    global model\n",
      "    # This name is model.id of model that we want to deploy deserialize the model file back\n",
      "    # into a sklearn model\n",
      "    model_path = Model.get_model_path(model_name = 'AutoML37a31f86512')\n",
      "    model = joblib.load(model_path)\n",
      "\n",
      "\n",
      "@input_schema('data', PandasParameterType(input_sample))\n",
      "@output_schema(NumpyParameterType(output_sample))\n",
      "def run(data):\n",
      "    try:\n",
      "        result = model.predict(data)\n",
      "        return json.dumps({\"result\": result.tolist()})\n",
      "    except Exception as e:\n",
      "        result = str(e)\n",
      "        return json.dumps({\"error\": result})\n",
      "\n"
     ]
    }
   ],
   "source": [
    "#Make variables to identify where your scoring file and folders are kept\n",
    "scripts_folder = \"inference\"\n",
    "script_file = \"score.py\"\n",
    "\n",
    "# peek at contents\n",
    "with open(os.path.join(scripts_folder, script_file)) as inference_file:\n",
    "    print(inference_file.read())"
   ]
  },
  {
   "cell_type": "code",
   "execution_count": null,
   "metadata": {},
   "outputs": [],
   "source": [
    "testJson"
   ]
  },
  {
   "cell_type": "markdown",
   "metadata": {},
   "source": [
    "## Test ACI"
   ]
  },
  {
   "cell_type": "code",
   "execution_count": null,
   "metadata": {},
   "outputs": [],
   "source": [
    "# Plug in the URL for your ACI web service.  You can find it easily on ML Studio by clicking endpoints.\n",
    "scoring_uri_aci = '<my-aci-url>'\n",
    "\n",
    "# Set the content type to 'application/json'\n",
    "headers = {'Content-Type': 'application/json'}\n",
    "\n",
    "# Make the request and display the response\n",
    "resp = requests.post(scoring_uri_aci, input_data, headers=headers)\n",
    "print(resp.text)"
   ]
  },
  {
   "cell_type": "markdown",
   "metadata": {},
   "source": [
    "## Test AKS"
   ]
  },
  {
   "cell_type": "code",
   "execution_count": null,
   "metadata": {},
   "outputs": [],
   "source": [
    "# Plug in the URL for your AKS web service.  You can find it easily on ML Studio by clicking endpoints.\n",
    "scoring_uri_aks = '<my-aks-url>'\n",
    "# Since your AKS service requires authentication, set the key or token\n",
    "key = '<my-aks_authentication-key>'\n",
    "\n",
    "# Set the content type to 'application/json'\n",
    "headers = {'Content-Type': 'application/json'}\n",
    "# Set the authorization header for AKS\n",
    "headers['Authorization'] = f'Bearer {key}'\n",
    "\n",
    "# Make the request to your deployed model and display the response\n",
    "resp = requests.post(scoring_uri_aks, input_data, headers=headers)\n",
    "print(resp.text)"
   ]
  }
 ],
 "metadata": {
  "kernelspec": {
   "display_name": "Python 3.6 - AzureML",
   "language": "python",
   "name": "python3-azureml"
  },
  "language_info": {
   "codemirror_mode": {
    "name": "ipython",
    "version": 3
   },
   "file_extension": ".py",
   "mimetype": "text/x-python",
   "name": "python",
   "nbconvert_exporter": "python",
   "pygments_lexer": "ipython3",
   "version": "3.6.9"
  }
 },
 "nbformat": 4,
 "nbformat_minor": 2
}

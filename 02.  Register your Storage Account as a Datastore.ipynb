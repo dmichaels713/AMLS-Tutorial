{
 "cells": [
  {
   "cell_type": "markdown",
   "metadata": {},
   "source": [
    "# Create your Datastore\n",
    "A datastore is a storage abstraction over an Azure storage account. The datastore can use either an Azure blob container or an Azure file share as the back-end storage. Each workspace has a default datastore, and you can register additional datastores. Use the Python SDK API or the Azure Machine Learning CLI to store and retrieve files from the datastore.\n",
    "\n",
    "Essentially, Datastores are ways to keep track of different storage accounts and containers within storage accounts to better manage your data.\n",
    "\n",
    "To learn more, click here:  https://docs.microsoft.com/en-us/python/api/azureml-core/azureml.core.datastore(class)?view=azure-ml-py"
   ]
  },
  {
   "cell_type": "code",
   "execution_count": null,
   "metadata": {},
   "outputs": [],
   "source": [
    "# Load Azure Libaries\n",
    "from azureml.core import Datastore\n",
    "from azureml.core.workspace import Workspace\n",
    "from azureml.core.authentication import InteractiveLoginAuthentication\n",
    "import pandas as pd\n",
    "import numpy as np\n",
    "import json\n",
    "import os"
   ]
  },
  {
   "cell_type": "code",
   "execution_count": null,
   "metadata": {},
   "outputs": [],
   "source": [
    "# Type in the first version of the Azure ML SDK you are using after running this cell the first time\n",
    "import azureml.core\n",
    "\n",
    "print(\"This notebook was created using version <TYPE IN FIRST VERSION USED HERE> of the Azure ML SDK\")\n",
    "print(\"You are currently using version\", azureml.core.VERSION, \"of the Azure ML SDK\")"
   ]
  },
  {
   "cell_type": "code",
   "execution_count": null,
   "metadata": {},
   "outputs": [],
   "source": [
    "ws = Workspace.from_config()"
   ]
  },
  {
   "cell_type": "code",
   "execution_count": null,
   "metadata": {},
   "outputs": [],
   "source": [
    "# Set up your datastore by filling in the lower case values between double quotes\n",
    "blob_datastore_name=\"<my-datastore-name>\" # Name of the datastore.  This is your choice.\n",
    "account_name=os.getenv(\"BLOB_ACCOUNTNAME\", \"<my-storage-account>\") # Name of your Storage Account you use to store data\n",
    "container_name=os.getenv(\"BLOB_CONTAINER\", \"<my-container>\") # Name of the Container you use to store data\n",
    "account_key=os.getenv(\"BLOB_ACCOUNT_KEY\", \"<my-storage-account-key>\") # Your Storage Account key\n",
    "\n",
    "# Set up a datastore using the normal parameters (for Blob Storage or Azure Data Lake Gen 2)\n",
    "datastore = Datastore.register_azure_blob_container(workspace=ws, \n",
    "                                                    datastore_name=blob_datastore_name, \n",
    "                                                    container_name=container_name, \n",
    "                                                    account_name=account_name,\n",
    "                                                    account_key=account_key,\n",
    "                                                    overwrite=True)"
   ]
  },
  {
   "cell_type": "code",
   "execution_count": null,
   "metadata": {},
   "outputs": [],
   "source": [
    "# Output a nice table with all of your essential datastore information\n",
    "dsoutput = {}\n",
    "dsoutput['Workspace Name'] = ws.name\n",
    "dsoutput['Datastore Name'] = datastore.name\n",
    "dsoutput['Container Name'] = datastore.container_name\n",
    "dsoutput['Resource Group'] = ws.resource_group\n",
    "dsoutput['Storage Account'] = datastore.account_name\n",
    "pd.set_option('display.max_colwidth', -1)\n",
    "dsoutputDf = pd.DataFrame(data = dsoutput, index = [''])\n",
    "dsoutputDf.T"
   ]
  },
  {
   "cell_type": "markdown",
   "metadata": {},
   "source": [
    "## Most people can stop here and move on to the next notebook.  \n",
    "If you want to set up your datastore using a service principal for enhanced security, read and work through the cells below."
   ]
  },
  {
   "cell_type": "code",
   "execution_count": null,
   "metadata": {},
   "outputs": [],
   "source": [
    "# You can also set up a datastore using a service principal if you use Azure Data Lake Gen 2\n",
    "\n",
    "client_id=os.getenv(\"CLIENT_ID\",\"<my-client-id>\") # Service Principal ID with permissions to access your Storage Account\n",
    "client_secret=os.getenv(\"CLIENT_SECRET\",\"<my-client-secret>\") # Service Principal Password\n",
    "tenant_id=os.getenv(\"TENANT_ID\",\"<my-tenant_id>\") # Your Tenant ID\n",
    "\n",
    "\n",
    "\n",
    "# Set up a datastore using a service principal (Azure Data Lake Gen 2 only)\n",
    "\n",
    "datastore = Datastore.register_azure_data_lake_gen2(workspace=ws, \n",
    "                                                         datastore_name=blob_datastore_name, \n",
    "                                                         account_name=account_name,\n",
    "                                                         filesystem=container_name,\n",
    "                                                         client_id=client_id, \n",
    "                                                         client_secret=client_secret,\n",
    "                                                         tenant_id=tenant_id,\n",
    "                                                         overwrite=True)"
   ]
  },
  {
   "cell_type": "code",
   "execution_count": null,
   "metadata": {},
   "outputs": [],
   "source": [
    "# Output a nice table with all of your essential datastore information\n",
    "dsoutput = {}\n",
    "dsoutput['Workspace Name'] = ws.name\n",
    "dsoutput['Datastore Name'] = datastore.name\n",
    "dsoutput['Container Name'] = datastore.container_name\n",
    "dsoutput['Resource Group'] = ws.resource_group\n",
    "dsoutput['Storage Account'] = datastore.account_name\n",
    "pd.set_option('display.max_colwidth', -1)\n",
    "dsoutputDf = pd.DataFrame(data = dsoutput, index = [''])\n",
    "dsoutputDf.T"
   ]
  },
  {
   "cell_type": "markdown",
   "metadata": {},
   "source": [
    "<br><br><br><br><br>\n",
    "\n",
    "\n",
    "\n",
    "Copyright (c) Microsoft Corporation. All rights reserved.\n",
    "\n",
    "Licensed under the MIT License."
   ]
  }
 ],
 "metadata": {
  "kernelspec": {
   "display_name": "Python 3.6 - AzureML",
   "language": "python",
   "name": "python3-azureml"
  },
  "language_info": {
   "codemirror_mode": {
    "name": "ipython",
    "version": 3
   },
   "file_extension": ".py",
   "mimetype": "text/x-python",
   "name": "python",
   "nbconvert_exporter": "python",
   "pygments_lexer": "ipython3",
   "version": "3.6.9"
  }
 },
 "nbformat": 4,
 "nbformat_minor": 4
}

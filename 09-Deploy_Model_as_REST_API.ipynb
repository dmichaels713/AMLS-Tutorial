{
 "cells": [
  {
   "cell_type": "markdown",
   "metadata": {},
   "source": [
    "# Deploy Model with either ACI or AKS\n",
    "Now it's time to deploy your model.  There are many ways to deploy models in Azure.  For testing purposes, we recommend Azure Container Instance (ACI).  For production purposes, we recommend Azure Kubernetes Service (AKS).  AKS requires a cluster to run on, but has much more robust security options and can run inside of a virtual network.<br>\n",
    "\n",
    "Both AKS and ACI are used for real-time or near real-time scoring situations.  These are situations where you want to send data to the system and immediately get a result to use in some process.\n",
    "\n",
    "To learn more about deployment, click here: https://docs.microsoft.com/en-us/azure/machine-learning/how-to-deploy-and-where\n",
    "\n"
   ]
  },
  {
   "cell_type": "code",
   "execution_count": null,
   "metadata": {},
   "outputs": [],
   "source": [
    "# Load Azure Libaries\n",
    "from azureml.core import Datastore\n",
    "from azureml.core.dataset import Dataset\n",
    "from azureml.core.workspace import Workspace\n",
    "from azureml.core.authentication import InteractiveLoginAuthentication\n",
    "from azure.storage.blob import BlockBlobService\n",
    "from azureml.core.compute import ComputeTarget, AmlCompute\n",
    "from azureml.core.compute_target import ComputeTargetException\n",
    "from azureml.train.automl import AutoMLConfig\n",
    "from azureml.core.experiment import Experiment\n",
    "from azureml.core.environment import Environment\n",
    "from azureml.core.conda_dependencies import CondaDependencies\n",
    "from azureml.automl.core.featurization import FeaturizationConfig\n",
    "from azureml.explain.model._internal.explanation_client import ExplanationClient\n",
    "\n",
    "#Load Libraries for Deployment\n",
    "from azureml.core.model import Model\n",
    "from azureml.core.webservice import Webservice\n",
    "from azureml.core.model import InferenceConfig\n",
    "from azureml.core.webservice import AciWebservice\n",
    "from azureml.core.webservice import AksWebservice\n",
    "from azureml.core.compute import AksCompute, ComputeTarget\n",
    "\n",
    "# Import other Libraries\n",
    "import pandas as pd\n",
    "import numpy as np\n",
    "import logging\n",
    "import requests\n",
    "import json\n",
    "import os\n",
    "import math\n",
    "import seaborn as sns\n",
    "import matplotlib.pyplot as plt"
   ]
  },
  {
   "cell_type": "code",
   "execution_count": null,
   "metadata": {},
   "outputs": [],
   "source": [
    "# Retrieve your workspace from the configuration file\n",
    "ws = Workspace.from_config()"
   ]
  },
  {
   "cell_type": "code",
   "execution_count": null,
   "metadata": {},
   "outputs": [],
   "source": [
    "# Retrieve your Datastore by name by filling in the lower case values between double quotes\n",
    "datastore_name = \"<my-datastore-name>\"\n",
    "datastore = Datastore.get(ws, datastore_name)"
   ]
  },
  {
   "cell_type": "code",
   "execution_count": null,
   "metadata": {},
   "outputs": [],
   "source": [
    "# Retrieve your Refined Datasets by name by filling in the lower case values between double quotes\n",
    "dataset_name_test = \"<my-transformed-dataset-name>\"\n",
    "dataset_name_train  = \"<my-transformed-dataset-name>\"\n",
    "\n",
    "# Load Data in as Tabular Datasets\n",
    "testing_data  = Dataset.get_by_name(ws, dataset_name_test, version='latest')\n",
    "training_data = Dataset.get_by_name(ws, dataset_name_train, version='latest')"
   ]
  },
  {
   "cell_type": "code",
   "execution_count": null,
   "metadata": {},
   "outputs": [],
   "source": [
    "# Convert your tabular dataset to pandas data frames\n",
    "testTransformedDF = testing_data.to_pandas_dataframe()\n",
    "trainTransformedDF = training_data.to_pandas_dataframe()"
   ]
  },
  {
   "cell_type": "markdown",
   "metadata": {},
   "source": [
    "### Now, deploy your model to your ACI Cluster.\n",
    "To deploy your model, you will need to use an entry script and an environment file.<br>\n",
    "ACI is for testing and has less security, less power and shorter timeouts than AKS."
   ]
  },
  {
   "cell_type": "code",
   "execution_count": null,
   "metadata": {},
   "outputs": [],
   "source": [
    "# Retrieve your AutoML generated entry script\n",
    "entry_script = 'inference/score.py'\n",
    "\n",
    "# Retrieve your AutoML generated environment\n",
    "environment = Environment.get(ws, 'automl-environment')\n",
    "\n",
    "# Retrieve your AutoML Model\n",
    "model = Model(ws, '<my-model-name>')"
   ]
  },
  {
   "cell_type": "code",
   "execution_count": null,
   "metadata": {},
   "outputs": [],
   "source": [
    "# Give your ACI deployment a name\n",
    "aci_service_name = '<my-aci-deployment>'\n",
    "\n",
    "# Set your scoring script and environment file\n",
    "inference_config = InferenceConfig(entry_script=entry_script, environment = environment)\n",
    "\n",
    "# Set your ACI configuration options\n",
    "aci_config = AciWebservice.deploy_configuration(cpu_cores = 1, \n",
    "                                               memory_gb = 1, \n",
    "                                               tags = {'<my-tag-1>': '<my-tag-1-value>', '<my-tag-2>': '<my-tag-2-value>'},\n",
    "                                               description = '<my-project-description>')\n",
    "\n",
    "# Deploy your model to ACI\n",
    "print(aci_service_name)\n",
    "aci_service = Model.deploy(ws, aci_service_name, [model], inference_config, aci_config,overwrite=True)\n",
    "aci_service.wait_for_deployment(True)\n",
    "print(aci_service.state)"
   ]
  },
  {
   "cell_type": "markdown",
   "metadata": {},
   "source": [
    "### Create an AKS Cluster\n",
    "Select a VM Size and number of VMs to run your AKS cluster.  Your cores must number at least 12, so if you select a VM with 4 cores, set agent count to 3.<br>\n",
    "A single AKS Cluster can support many deployments depending on the size of the cluster.\n",
    "\n",
    "Check out AKS configuration options here:<br> https://docs.microsoft.com/en-us/python/api/azureml-core/azureml.core.compute.aks.aksprovisioningconfiguration?view=azure-ml-py"
   ]
  },
  {
   "cell_type": "code",
   "execution_count": null,
   "metadata": {},
   "outputs": [],
   "source": [
    "from azureml.core.compute import AksCompute, ComputeTarget\n",
    "\n",
    "# Run this cell only once.\n",
    "# Set the configurations here.  Select Larger VM sizes and more agents for faster performance\n",
    "prov_config = AksCompute.provisioning_configuration(vm_size='Standard_D3_v2', agent_count=3)\n",
    "# Give your AKS Cluster a name\n",
    "aks_name = '<my-aks-cluster>'\n",
    "# Create the cluster and attach it to your workspace\n",
    "aks_target = ComputeTarget.create(workspace = ws,\n",
    "                                    name = aks_name,\n",
    "                                    provisioning_configuration = prov_config)\n",
    "\n",
    "# Wait for the create process to complete\n",
    "aks_target.wait_for_completion(show_output = True)\n",
    "\n",
    "# You only need to run this cell once to set up your AKS Cluster.\n",
    "# After setting it up once, hashtag this cell out unless you want to create more clusters."
   ]
  },
  {
   "cell_type": "markdown",
   "metadata": {},
   "source": [
    "### Deploy your model to your AKS Cluster.\n",
    "To deploy your model, you will need to use an entry script and an environment file.<br>\n",
    "AKS is for production jobs and can be configured to use large VMs, more security and longer timeouts than ACI."
   ]
  },
  {
   "cell_type": "code",
   "execution_count": null,
   "metadata": {},
   "outputs": [],
   "source": [
    "# Retrieve your AutoML generated entry script\n",
    "entry_script = 'inference/score.py'\n",
    "\n",
    "# Retrieve your AutoML generated environment\n",
    "environment = Environment.get(ws, 'automl-environment')\n",
    "\n",
    "# Retrieve your AutoML Model\n",
    "model = Model(ws, '<my-model-name>')"
   ]
  },
  {
   "cell_type": "code",
   "execution_count": null,
   "metadata": {},
   "outputs": [],
   "source": [
    "# Set your target AKS Cluster\n",
    "aks_target = AksCompute(ws,\"<my-aks-cluster>\")\n",
    "\n",
    "# Give your deployment a name\n",
    "aks_service_name = '<my-aks-deployment>'\n",
    "\n",
    "# Set your scoring script and environment file\n",
    "inference_config = InferenceConfig(entry_script=entry_script, environment = environment)\n",
    "\n",
    "# Set your AKS configuration options\n",
    "aks_config = AksWebservice.deploy_configuration(cpu_cores = 1, \n",
    "                                                memory_gb = 1, \n",
    "                                                tags = {'<my-tag-1>': '<my-tag-1-value>', '<my-tag-2>': '<my-tag-2-value>'}, \n",
    "                                                description = '<my-project-description>')\n",
    "\n",
    "# Deploy your model to AKS\n",
    "print(aks_service_name)\n",
    "aks_service = Model.deploy(ws, aks_service_name, [model], inference_config, aks_config, aks_target,overwrite=True)\n",
    "aks_service.wait_for_deployment(show_output = True)\n",
    "print(aks_service.state)"
   ]
  },
  {
   "cell_type": "markdown",
   "metadata": {},
   "source": [
    "# Test your Deployment\n",
    "Test your AKS and ACI deployed models through your Jupyter Notebook.  You can also use CURL (Postman)."
   ]
  },
  {
   "cell_type": "code",
   "execution_count": null,
   "metadata": {},
   "outputs": [],
   "source": [
    "# Drop columns that are not used in your scoring script\n",
    "# Create a sample to display the data easily\n",
    "# Make sure your sample data is not too large or you will run into problems.\n",
    "\n",
    "testSampleDF = testTransformedDF[(testTransformedDF.MyFilterColumn == '<My-Filter-Value>')]\n",
    "testScoreDF = testSampleDF.drop(['<my-extra-column-1>','<my-extra-column-2>','<my-label-column>'],axis=1)"
   ]
  },
  {
   "cell_type": "code",
   "execution_count": null,
   "metadata": {},
   "outputs": [],
   "source": [
    "# Use orient records to create your JSON file.  Other formats may not work.\n",
    "# Preface your autoML test data with {\"data\": and close it with }\n",
    "\n",
    "testJsonLoad = '{\"data\":' + testScoreDF.to_json(orient='records') + '}'"
   ]
  },
  {
   "cell_type": "code",
   "execution_count": null,
   "metadata": {},
   "outputs": [],
   "source": [
    "# Load the data into JSON \n",
    "testJson = json.loads(testJsonLoad)\n",
    "\n",
    "# Convert your test data to a JSON string\n",
    "input_data = json.dumps(testJson)"
   ]
  },
  {
   "cell_type": "markdown",
   "metadata": {},
   "source": [
    "### Examine your Scoring Script\n",
    "Make sure that you only include variables in your test data that appear in your scoring script's inference schema.<br>  Print out your script using the cell below and compare your schema with the print statement 2 cells down."
   ]
  },
  {
   "cell_type": "code",
   "execution_count": null,
   "metadata": {},
   "outputs": [],
   "source": [
    "#Make variables to identify where your scoring file and folders are kept\n",
    "scripts_folder = \"inference\"\n",
    "script_file = \"score.py\"\n",
    "\n",
    "# peek at contents\n",
    "with open(os.path.join(scripts_folder, script_file)) as inference_file:\n",
    "    print(inference_file.read())"
   ]
  },
  {
   "cell_type": "code",
   "execution_count": null,
   "metadata": {},
   "outputs": [],
   "source": [
    "testJson"
   ]
  },
  {
   "cell_type": "markdown",
   "metadata": {},
   "source": [
    "## Test ACI"
   ]
  },
  {
   "cell_type": "code",
   "execution_count": null,
   "metadata": {},
   "outputs": [],
   "source": [
    "# Plug in the URL for your ACI web service.  You can find it easily on ML Studio by clicking endpoints.\n",
    "scoring_uri_aci = '<my-aci-url>'\n",
    "\n",
    "# Set the content type to 'application/json'\n",
    "headers = {'Content-Type': 'application/json'}\n",
    "\n",
    "# Make the request and display the response\n",
    "resp = requests.post(scoring_uri_aci, input_data, headers=headers)\n",
    "print(resp.text)"
   ]
  },
  {
   "cell_type": "markdown",
   "metadata": {},
   "source": [
    "## Test AKS"
   ]
  },
  {
   "cell_type": "code",
   "execution_count": null,
   "metadata": {},
   "outputs": [],
   "source": [
    "# Plug in the URL for your AKS web service.  You can find it easily on ML Studio by clicking endpoints.\n",
    "scoring_uri_aks = '<my-aks-url>'\n",
    "# Since your AKS service requires authentication, set the key or token\n",
    "key = '<my-aks_authentication-key>'\n",
    "\n",
    "# Set the content type to 'application/json'\n",
    "headers = {'Content-Type': 'application/json'}\n",
    "# Set the authorization header for AKS\n",
    "headers['Authorization'] = f'Bearer {key}'\n",
    "\n",
    "# Make the request to your deployed model and display the response\n",
    "resp = requests.post(scoring_uri_aks, input_data, headers=headers)\n",
    "print(resp.text)"
   ]
  },
  {
   "cell_type": "markdown",
   "metadata": {},
   "source": [
    "<br><br><br><br><br>\n",
    "\n",
    "\n",
    "\n",
    "Copyright (c) Microsoft Corporation. All rights reserved.\n",
    "\n",
    "Licensed under the MIT License."
   ]
  }
 ],
 "metadata": {
  "kernelspec": {
   "display_name": "Python 3.6 - AzureML",
   "language": "python",
   "name": "python3-azureml"
  },
  "language_info": {
   "codemirror_mode": {
    "name": "ipython",
    "version": 3
   },
   "file_extension": ".py",
   "mimetype": "text/x-python",
   "name": "python",
   "nbconvert_exporter": "python",
   "pygments_lexer": "ipython3",
   "version": "3.6.9"
  }
 },
 "nbformat": 4,
 "nbformat_minor": 4
}
